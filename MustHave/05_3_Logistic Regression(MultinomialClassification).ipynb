{
 "cells": [
  {
   "cell_type": "code",
   "execution_count": 1,
   "metadata": {
    "executionInfo": {
     "elapsed": 851,
     "status": "ok",
     "timestamp": 1745124808539,
     "user": {
      "displayName": "JUNGWOON AN",
      "userId": "18046724802149141730"
     },
     "user_tz": -540
    },
    "id": "f2sP94ymYH4P"
   },
   "outputs": [],
   "source": [
    "# 필요한 라이브러리 loading\n",
    "import numpy as np\n",
    "import pandas as pd\n",
    "import matplotlib.pyplot as plt"
   ]
  },
  {
   "cell_type": "code",
   "execution_count": 2,
   "metadata": {
    "colab": {
     "base_uri": "https://localhost:8080/",
     "height": 411
    },
    "executionInfo": {
     "elapsed": 73,
     "status": "ok",
     "timestamp": 1745124808610,
     "user": {
      "displayName": "JUNGWOON AN",
      "userId": "18046724802149141730"
     },
     "user_tz": -540
    },
    "id": "doOtRnFYhNZA",
    "outputId": "1ccc75e8-d0fa-4138-921e-6ea48b36b8f9"
   },
   "outputs": [
    {
     "data": {
      "text/html": [
       "<div>\n",
       "<style scoped>\n",
       "    .dataframe tbody tr th:only-of-type {\n",
       "        vertical-align: middle;\n",
       "    }\n",
       "\n",
       "    .dataframe tbody tr th {\n",
       "        vertical-align: top;\n",
       "    }\n",
       "\n",
       "    .dataframe thead th {\n",
       "        text-align: right;\n",
       "    }\n",
       "</style>\n",
       "<table border=\"1\" class=\"dataframe\">\n",
       "  <thead>\n",
       "    <tr style=\"text-align: right;\">\n",
       "      <th></th>\n",
       "      <th>label</th>\n",
       "      <th>height</th>\n",
       "      <th>weight</th>\n",
       "    </tr>\n",
       "  </thead>\n",
       "  <tbody>\n",
       "    <tr>\n",
       "      <th>0</th>\n",
       "      <td>1</td>\n",
       "      <td>188</td>\n",
       "      <td>71</td>\n",
       "    </tr>\n",
       "    <tr>\n",
       "      <th>1</th>\n",
       "      <td>2</td>\n",
       "      <td>161</td>\n",
       "      <td>68</td>\n",
       "    </tr>\n",
       "    <tr>\n",
       "      <th>2</th>\n",
       "      <td>0</td>\n",
       "      <td>178</td>\n",
       "      <td>52</td>\n",
       "    </tr>\n",
       "    <tr>\n",
       "      <th>3</th>\n",
       "      <td>2</td>\n",
       "      <td>136</td>\n",
       "      <td>63</td>\n",
       "    </tr>\n",
       "    <tr>\n",
       "      <th>4</th>\n",
       "      <td>1</td>\n",
       "      <td>145</td>\n",
       "      <td>52</td>\n",
       "    </tr>\n",
       "  </tbody>\n",
       "</table>\n",
       "</div>"
      ],
      "text/plain": [
       "   label  height  weight\n",
       "0      1     188      71\n",
       "1      2     161      68\n",
       "2      0     178      52\n",
       "3      2     136      63\n",
       "4      1     145      52"
      ]
     },
     "metadata": {},
     "output_type": "display_data"
    },
    {
     "name": "stdout",
     "output_type": "stream",
     "text": [
      "(20000, 3)\n",
      "<class 'pandas.core.frame.DataFrame'>\n",
      "RangeIndex: 20000 entries, 0 to 19999\n",
      "Data columns (total 3 columns):\n",
      " #   Column  Non-Null Count  Dtype\n",
      "---  ------  --------------  -----\n",
      " 0   label   20000 non-null  int64\n",
      " 1   height  20000 non-null  int64\n",
      " 2   weight  20000 non-null  int64\n",
      "dtypes: int64(3)\n",
      "memory usage: 468.9 KB\n"
     ]
    }
   ],
   "source": [
    "# Raw Data Loading\n",
    "df = pd.read_csv('bmi.csv', skiprows=3)\n",
    "display(df.head())  # DataFrame 생성 확인\n",
    "print(df.shape)  # (20000, 3) 행과 열의 개수 확\n",
    "df.info()  # 결측치 없어요. 각 컬럼의 데이터 타입도 정상!"
   ]
  },
  {
   "cell_type": "code",
   "execution_count": 3,
   "metadata": {
    "colab": {
     "base_uri": "https://localhost:8080/",
     "height": 487
    },
    "executionInfo": {
     "elapsed": 519,
     "status": "ok",
     "timestamp": 1745126153829,
     "user": {
      "displayName": "JUNGWOON AN",
      "userId": "18046724802149141730"
     },
     "user_tz": -540
    },
    "id": "ZPvgEXtXi2_Q",
    "outputId": "4c694394-9a87-4f3c-c506-04a837658f31"
   },
   "outputs": [
    {
     "data": {
      "image/png": "[encoded data removed]",
      "text/plain": [
       "<Figure size 640x480 with 3 Axes>"
      ]
     },
     "metadata": {},
     "output_type": "display_data"
    }
   ],
   "source": [
    "# 데이터 전처리 및 feature engineering\n",
    "# 1. 결측치 처리 => 우리 데이터는 결측치 없음\n",
    "# 2. 이상치 처리\n",
    "fig = plt.figure()  # 도화지 준비\n",
    "ax1 = fig.add_subplot(1, 3, 1)  # 1행 3열 중 첫번째\n",
    "ax2 = fig.add_subplot(1, 3, 2)  # 1행 3열 중 두번째\n",
    "ax3 = fig.add_subplot(1, 3, 3)  # 1행 3열 중 세번째\n",
    "\n",
    "ax1.boxplot(df['label'])\n",
    "ax2.boxplot(df['height'])\n",
    "ax3.boxplot(df['weight'])\n",
    "\n",
    "plt.tight_layout()\n",
    "plt.show()  # 이상치 없음."
   ]
  },
  {
   "cell_type": "code",
   "execution_count": 4,
   "metadata": {
    "executionInfo": {
     "elapsed": 40,
     "status": "ok",
     "timestamp": 1745128771765,
     "user": {
      "displayName": "JUNGWOON AN",
      "userId": "18046724802149141730"
     },
     "user_tz": -540
    },
    "id": "OYRDpiKan6yO"
   },
   "outputs": [],
   "source": [
    "# 정규화를 진행해야 하는데, 데이터 누수 현상을 방지하기 위해\n",
    "# 3. 데이터 분할부터 합니다.\n",
    "x_data = df[['height', 'weight']].values\n",
    "t_data = df['label'].values\n",
    "\n",
    "# Data Split\n",
    "from sklearn.model_selection import train_test_split # train, test 분리\n",
    "x_data_train, x_data_test, t_data_train, t_data_test = \\\n",
    "train_test_split(x_data,\n",
    "                 t_data,\n",
    "                 test_size=0.2)\n",
    "\n",
    "# 4. 학습용 데이터에 대해 정규화를 진행(독립변수만 진행)\n",
    "from sklearn.preprocessing import MinMaxScaler       # Normalization\n",
    "scaler = MinMaxScaler()\n",
    "scaler.fit(x_data_train)  # 정규화를 할때 필요한 정보를 scaler에게 제공\n",
    "x_data_train_norm = scaler.transform(x_data_train)\n",
    "x_data_test_norm = scaler.transform(x_data_test)"
   ]
  },
  {
   "cell_type": "code",
   "execution_count": 5,
   "metadata": {
    "colab": {
     "base_uri": "https://localhost:8080/"
    },
    "executionInfo": {
     "elapsed": 76833,
     "status": "ok",
     "timestamp": 1745128859437,
     "user": {
      "displayName": "JUNGWOON AN",
      "userId": "18046724802149141730"
     },
     "user_tz": -540
    },
    "id": "Gwskdgndt-9a",
    "outputId": "162e3395-efd5-4159-acc4-19b853d97f30"
   },
   "outputs": [
    {
     "name": "stdout",
     "output_type": "stream",
     "text": [
      "Epoch 1/50\n"
     ]
    },
    {
     "name": "stderr",
     "output_type": "stream",
     "text": [
      "C:\\Users\\404-00\\anaconda3\\envs\\tfenv\\Lib\\site-packages\\keras\\src\\layers\\reshaping\\flatten.py:37: UserWarning: Do not pass an `input_shape`/`input_dim` argument to a layer. When using Sequential models, prefer using an `Input(shape)` object as the first layer in the model instead.\n",
      "  super().__init__(**kwargs)\n"
     ]
    },
    {
     "name": "stdout",
     "output_type": "stream",
     "text": [
      "\u001b[1m400/400\u001b[0m \u001b[32m━━━━━━━━━━━━━━━━━━━━\u001b[0m\u001b[37m\u001b[0m \u001b[1m1s\u001b[0m 2ms/step - accuracy: 0.6174 - loss: 0.9170 - val_accuracy: 0.7984 - val_loss: 0.6104\n",
      "Epoch 2/50\n",
      "\u001b[1m400/400\u001b[0m \u001b[32m━━━━━━━━━━━━━━━━━━━━\u001b[0m\u001b[37m\u001b[0m \u001b[1m1s\u001b[0m 1ms/step - accuracy: 0.8288 - loss: 0.5723 - val_accuracy: 0.8550 - val_loss: 0.4715\n",
      "Epoch 3/50\n",
      "\u001b[1m400/400\u001b[0m \u001b[32m━━━━━━━━━━━━━━━━━━━━\u001b[0m\u001b[37m\u001b[0m \u001b[1m1s\u001b[0m 1ms/step - accuracy: 0.8914 - loss: 0.4466 - val_accuracy: 0.9025 - val_loss: 0.3955\n",
      "Epoch 4/50\n",
      "\u001b[1m400/400\u001b[0m \u001b[32m━━━━━━━━━━━━━━━━━━━━\u001b[0m\u001b[37m\u001b[0m \u001b[1m1s\u001b[0m 1ms/step - accuracy: 0.9285 - loss: 0.3850 - val_accuracy: 0.9422 - val_loss: 0.3453\n",
      "Epoch 5/50\n",
      "\u001b[1m400/400\u001b[0m \u001b[32m━━━━━━━━━━━━━━━━━━━━\u001b[0m\u001b[37m\u001b[0m \u001b[1m1s\u001b[0m 1ms/step - accuracy: 0.9521 - loss: 0.3362 - val_accuracy: 0.9591 - val_loss: 0.3093\n",
      "Epoch 6/50\n",
      "\u001b[1m400/400\u001b[0m \u001b[32m━━━━━━━━━━━━━━━━━━━━\u001b[0m\u001b[37m\u001b[0m \u001b[1m1s\u001b[0m 1ms/step - accuracy: 0.9632 - loss: 0.3016 - val_accuracy: 0.9675 - val_loss: 0.2809\n",
      "Epoch 7/50\n",
      "\u001b[1m400/400\u001b[0m \u001b[32m━━━━━━━━━━━━━━━━━━━━\u001b[0m\u001b[37m\u001b[0m \u001b[1m1s\u001b[0m 1ms/step - accuracy: 0.9716 - loss: 0.2766 - val_accuracy: 0.9722 - val_loss: 0.2586\n",
      "Epoch 8/50\n",
      "\u001b[1m400/400\u001b[0m \u001b[32m━━━━━━━━━━━━━━━━━━━━\u001b[0m\u001b[37m\u001b[0m \u001b[1m1s\u001b[0m 1ms/step - accuracy: 0.9706 - loss: 0.2562 - val_accuracy: 0.9747 - val_loss: 0.2408\n",
      "Epoch 9/50\n",
      "\u001b[1m400/400\u001b[0m \u001b[32m━━━━━━━━━━━━━━━━━━━━\u001b[0m\u001b[37m\u001b[0m \u001b[1m1s\u001b[0m 1ms/step - accuracy: 0.9777 - loss: 0.2364 - val_accuracy: 0.9744 - val_loss: 0.2251\n",
      "Epoch 10/50\n",
      "\u001b[1m400/400\u001b[0m \u001b[32m━━━━━━━━━━━━━━━━━━━━\u001b[0m\u001b[37m\u001b[0m \u001b[1m1s\u001b[0m 1ms/step - accuracy: 0.9789 - loss: 0.2217 - val_accuracy: 0.9769 - val_loss: 0.2123\n",
      "Epoch 11/50\n",
      "\u001b[1m400/400\u001b[0m \u001b[32m━━━━━━━━━━━━━━━━━━━━\u001b[0m\u001b[37m\u001b[0m \u001b[1m1s\u001b[0m 1ms/step - accuracy: 0.9790 - loss: 0.2132 - val_accuracy: 0.9778 - val_loss: 0.2012\n",
      "Epoch 12/50\n",
      "\u001b[1m400/400\u001b[0m \u001b[32m━━━━━━━━━━━━━━━━━━━━\u001b[0m\u001b[37m\u001b[0m \u001b[1m1s\u001b[0m 1ms/step - accuracy: 0.9820 - loss: 0.1975 - val_accuracy: 0.9756 - val_loss: 0.1921\n",
      "Epoch 13/50\n",
      "\u001b[1m400/400\u001b[0m \u001b[32m━━━━━━━━━━━━━━━━━━━━\u001b[0m\u001b[37m\u001b[0m \u001b[1m1s\u001b[0m 1ms/step - accuracy: 0.9815 - loss: 0.1891 - val_accuracy: 0.9803 - val_loss: 0.1833\n",
      "Epoch 14/50\n",
      "\u001b[1m400/400\u001b[0m \u001b[32m━━━━━━━━━━━━━━━━━━━━\u001b[0m\u001b[37m\u001b[0m \u001b[1m1s\u001b[0m 1ms/step - accuracy: 0.9834 - loss: 0.1805 - val_accuracy: 0.9719 - val_loss: 0.1776\n",
      "Epoch 15/50\n",
      "\u001b[1m400/400\u001b[0m \u001b[32m━━━━━━━━━━━━━━━━━━━━\u001b[0m\u001b[37m\u001b[0m \u001b[1m1s\u001b[0m 1ms/step - accuracy: 0.9804 - loss: 0.1718 - val_accuracy: 0.9803 - val_loss: 0.1700\n",
      "Epoch 16/50\n",
      "\u001b[1m400/400\u001b[0m \u001b[32m━━━━━━━━━━━━━━━━━━━━\u001b[0m\u001b[37m\u001b[0m \u001b[1m1s\u001b[0m 1ms/step - accuracy: 0.9841 - loss: 0.1653 - val_accuracy: 0.9806 - val_loss: 0.1650\n",
      "Epoch 17/50\n",
      "\u001b[1m400/400\u001b[0m \u001b[32m━━━━━━━━━━━━━━━━━━━━\u001b[0m\u001b[37m\u001b[0m \u001b[1m1s\u001b[0m 1ms/step - accuracy: 0.9809 - loss: 0.1622 - val_accuracy: 0.9784 - val_loss: 0.1586\n",
      "Epoch 18/50\n",
      "\u001b[1m400/400\u001b[0m \u001b[32m━━━━━━━━━━━━━━━━━━━━\u001b[0m\u001b[37m\u001b[0m \u001b[1m1s\u001b[0m 1ms/step - accuracy: 0.9811 - loss: 0.1572 - val_accuracy: 0.9828 - val_loss: 0.1535\n",
      "Epoch 19/50\n",
      "\u001b[1m400/400\u001b[0m \u001b[32m━━━━━━━━━━━━━━━━━━━━\u001b[0m\u001b[37m\u001b[0m \u001b[1m1s\u001b[0m 1ms/step - accuracy: 0.9790 - loss: 0.1535 - val_accuracy: 0.9844 - val_loss: 0.1490\n",
      "Epoch 20/50\n",
      "\u001b[1m400/400\u001b[0m \u001b[32m━━━━━━━━━━━━━━━━━━━━\u001b[0m\u001b[37m\u001b[0m \u001b[1m1s\u001b[0m 1ms/step - accuracy: 0.9836 - loss: 0.1467 - val_accuracy: 0.9787 - val_loss: 0.1456\n",
      "Epoch 21/50\n",
      "\u001b[1m400/400\u001b[0m \u001b[32m━━━━━━━━━━━━━━━━━━━━\u001b[0m\u001b[37m\u001b[0m \u001b[1m1s\u001b[0m 1ms/step - accuracy: 0.9815 - loss: 0.1432 - val_accuracy: 0.9806 - val_loss: 0.1413\n",
      "Epoch 22/50\n",
      "\u001b[1m400/400\u001b[0m \u001b[32m━━━━━━━━━━━━━━━━━━━━\u001b[0m\u001b[37m\u001b[0m \u001b[1m1s\u001b[0m 1ms/step - accuracy: 0.9812 - loss: 0.1402 - val_accuracy: 0.9837 - val_loss: 0.1381\n",
      "Epoch 23/50\n",
      "\u001b[1m400/400\u001b[0m \u001b[32m━━━━━━━━━━━━━━━━━━━━\u001b[0m\u001b[37m\u001b[0m \u001b[1m1s\u001b[0m 1ms/step - accuracy: 0.9856 - loss: 0.1339 - val_accuracy: 0.9837 - val_loss: 0.1351\n",
      "Epoch 24/50\n",
      "\u001b[1m400/400\u001b[0m \u001b[32m━━━━━━━━━━━━━━━━━━━━\u001b[0m\u001b[37m\u001b[0m \u001b[1m1s\u001b[0m 1ms/step - accuracy: 0.9815 - loss: 0.1327 - val_accuracy: 0.9825 - val_loss: 0.1327\n",
      "Epoch 25/50\n",
      "\u001b[1m400/400\u001b[0m \u001b[32m━━━━━━━━━━━━━━━━━━━━\u001b[0m\u001b[37m\u001b[0m \u001b[1m1s\u001b[0m 1ms/step - accuracy: 0.9820 - loss: 0.1305 - val_accuracy: 0.9834 - val_loss: 0.1293\n",
      "Epoch 26/50\n",
      "\u001b[1m400/400\u001b[0m \u001b[32m━━━━━━━━━━━━━━━━━━━━\u001b[0m\u001b[37m\u001b[0m \u001b[1m1s\u001b[0m 1ms/step - accuracy: 0.9832 - loss: 0.1313 - val_accuracy: 0.9834 - val_loss: 0.1266\n",
      "Epoch 27/50\n",
      "\u001b[1m400/400\u001b[0m \u001b[32m━━━━━━━━━━━━━━━━━━━━\u001b[0m\u001b[37m\u001b[0m \u001b[1m1s\u001b[0m 2ms/step - accuracy: 0.9829 - loss: 0.1222 - val_accuracy: 0.9784 - val_loss: 0.1255\n",
      "Epoch 28/50\n",
      "\u001b[1m400/400\u001b[0m \u001b[32m━━━━━━━━━━━━━━━━━━━━\u001b[0m\u001b[37m\u001b[0m \u001b[1m1s\u001b[0m 1ms/step - accuracy: 0.9802 - loss: 0.1232 - val_accuracy: 0.9800 - val_loss: 0.1227\n",
      "Epoch 29/50\n",
      "\u001b[1m400/400\u001b[0m \u001b[32m━━━━━━━━━━━━━━━━━━━━\u001b[0m\u001b[37m\u001b[0m \u001b[1m1s\u001b[0m 1ms/step - accuracy: 0.9823 - loss: 0.1212 - val_accuracy: 0.9841 - val_loss: 0.1199\n",
      "Epoch 30/50\n",
      "\u001b[1m400/400\u001b[0m \u001b[32m━━━━━━━━━━━━━━━━━━━━\u001b[0m\u001b[37m\u001b[0m \u001b[1m1s\u001b[0m 1ms/step - accuracy: 0.9841 - loss: 0.1186 - val_accuracy: 0.9828 - val_loss: 0.1179\n",
      "Epoch 31/50\n",
      "\u001b[1m400/400\u001b[0m \u001b[32m━━━━━━━━━━━━━━━━━━━━\u001b[0m\u001b[37m\u001b[0m \u001b[1m1s\u001b[0m 1ms/step - accuracy: 0.9812 - loss: 0.1172 - val_accuracy: 0.9828 - val_loss: 0.1160\n",
      "Epoch 32/50\n",
      "\u001b[1m400/400\u001b[0m \u001b[32m━━━━━━━━━━━━━━━━━━━━\u001b[0m\u001b[37m\u001b[0m \u001b[1m1s\u001b[0m 1ms/step - accuracy: 0.9829 - loss: 0.1164 - val_accuracy: 0.9831 - val_loss: 0.1148\n",
      "Epoch 33/50\n",
      "\u001b[1m400/400\u001b[0m \u001b[32m━━━━━━━━━━━━━━━━━━━━\u001b[0m\u001b[37m\u001b[0m \u001b[1m1s\u001b[0m 2ms/step - accuracy: 0.9819 - loss: 0.1138 - val_accuracy: 0.9825 - val_loss: 0.1126\n",
      "Epoch 34/50\n",
      "\u001b[1m400/400\u001b[0m \u001b[32m━━━━━━━━━━━━━━━━━━━━\u001b[0m\u001b[37m\u001b[0m \u001b[1m1s\u001b[0m 1ms/step - accuracy: 0.9815 - loss: 0.1128 - val_accuracy: 0.9822 - val_loss: 0.1109\n",
      "Epoch 35/50\n",
      "\u001b[1m400/400\u001b[0m \u001b[32m━━━━━━━━━━━━━━━━━━━━\u001b[0m\u001b[37m\u001b[0m \u001b[1m1s\u001b[0m 1ms/step - accuracy: 0.9839 - loss: 0.1095 - val_accuracy: 0.9828 - val_loss: 0.1094\n",
      "Epoch 36/50\n",
      "\u001b[1m400/400\u001b[0m \u001b[32m━━━━━━━━━━━━━━━━━━━━\u001b[0m\u001b[37m\u001b[0m \u001b[1m1s\u001b[0m 1ms/step - accuracy: 0.9832 - loss: 0.1098 - val_accuracy: 0.9837 - val_loss: 0.1081\n",
      "Epoch 37/50\n",
      "\u001b[1m400/400\u001b[0m \u001b[32m━━━━━━━━━━━━━━━━━━━━\u001b[0m\u001b[37m\u001b[0m \u001b[1m1s\u001b[0m 1ms/step - accuracy: 0.9827 - loss: 0.1088 - val_accuracy: 0.9822 - val_loss: 0.1069\n",
      "Epoch 38/50\n",
      "\u001b[1m400/400\u001b[0m \u001b[32m━━━━━━━━━━━━━━━━━━━━\u001b[0m\u001b[37m\u001b[0m \u001b[1m1s\u001b[0m 1ms/step - accuracy: 0.9831 - loss: 0.1046 - val_accuracy: 0.9828 - val_loss: 0.1068\n",
      "Epoch 39/50\n",
      "\u001b[1m400/400\u001b[0m \u001b[32m━━━━━━━━━━━━━━━━━━━━\u001b[0m\u001b[37m\u001b[0m \u001b[1m1s\u001b[0m 1ms/step - accuracy: 0.9842 - loss: 0.1019 - val_accuracy: 0.9822 - val_loss: 0.1050\n",
      "Epoch 40/50\n",
      "\u001b[1m400/400\u001b[0m \u001b[32m━━━━━━━━━━━━━━━━━━━━\u001b[0m\u001b[37m\u001b[0m \u001b[1m1s\u001b[0m 1ms/step - accuracy: 0.9825 - loss: 0.1038 - val_accuracy: 0.9834 - val_loss: 0.1034\n",
      "Epoch 41/50\n",
      "\u001b[1m400/400\u001b[0m \u001b[32m━━━━━━━━━━━━━━━━━━━━\u001b[0m\u001b[37m\u001b[0m \u001b[1m1s\u001b[0m 1ms/step - accuracy: 0.9821 - loss: 0.1048 - val_accuracy: 0.9834 - val_loss: 0.1023\n",
      "Epoch 42/50\n",
      "\u001b[1m400/400\u001b[0m \u001b[32m━━━━━━━━━━━━━━━━━━━━\u001b[0m\u001b[37m\u001b[0m \u001b[1m1s\u001b[0m 1ms/step - accuracy: 0.9825 - loss: 0.1005 - val_accuracy: 0.9837 - val_loss: 0.1008\n",
      "Epoch 43/50\n",
      "\u001b[1m400/400\u001b[0m \u001b[32m━━━━━━━━━━━━━━━━━━━━\u001b[0m\u001b[37m\u001b[0m \u001b[1m1s\u001b[0m 1ms/step - accuracy: 0.9818 - loss: 0.0991 - val_accuracy: 0.9847 - val_loss: 0.1001\n",
      "Epoch 44/50\n",
      "\u001b[1m400/400\u001b[0m \u001b[32m━━━━━━━━━━━━━━━━━━━━\u001b[0m\u001b[37m\u001b[0m \u001b[1m1s\u001b[0m 1ms/step - accuracy: 0.9837 - loss: 0.1006 - val_accuracy: 0.9812 - val_loss: 0.0992\n",
      "Epoch 45/50\n",
      "\u001b[1m400/400\u001b[0m \u001b[32m━━━━━━━━━━━━━━━━━━━━\u001b[0m\u001b[37m\u001b[0m \u001b[1m1s\u001b[0m 1ms/step - accuracy: 0.9831 - loss: 0.0978 - val_accuracy: 0.9828 - val_loss: 0.0980\n",
      "Epoch 46/50\n",
      "\u001b[1m400/400\u001b[0m \u001b[32m━━━━━━━━━━━━━━━━━━━━\u001b[0m\u001b[37m\u001b[0m \u001b[1m1s\u001b[0m 1ms/step - accuracy: 0.9837 - loss: 0.0948 - val_accuracy: 0.9828 - val_loss: 0.0969\n",
      "Epoch 47/50\n",
      "\u001b[1m400/400\u001b[0m \u001b[32m━━━━━━━━━━━━━━━━━━━━\u001b[0m\u001b[37m\u001b[0m \u001b[1m1s\u001b[0m 1ms/step - accuracy: 0.9834 - loss: 0.0963 - val_accuracy: 0.9822 - val_loss: 0.0960\n",
      "Epoch 48/50\n",
      "\u001b[1m400/400\u001b[0m \u001b[32m━━━━━━━━━━━━━━━━━━━━\u001b[0m\u001b[37m\u001b[0m \u001b[1m1s\u001b[0m 1ms/step - accuracy: 0.9845 - loss: 0.0917 - val_accuracy: 0.9844 - val_loss: 0.0957\n",
      "Epoch 49/50\n",
      "\u001b[1m400/400\u001b[0m \u001b[32m━━━━━━━━━━━━━━━━━━━━\u001b[0m\u001b[37m\u001b[0m \u001b[1m1s\u001b[0m 2ms/step - accuracy: 0.9826 - loss: 0.0979 - val_accuracy: 0.9828 - val_loss: 0.0950\n",
      "Epoch 50/50\n",
      "\u001b[1m400/400\u001b[0m \u001b[32m━━━━━━━━━━━━━━━━━━━━\u001b[0m\u001b[37m\u001b[0m \u001b[1m1s\u001b[0m 1ms/step - accuracy: 0.9829 - loss: 0.0953 - val_accuracy: 0.9828 - val_loss: 0.0939\n"
     ]
    },
    {
     "data": {
      "text/plain": [
       "<keras.src.callbacks.history.History at 0x197661532f0>"
      ]
     },
     "execution_count": 5,
     "metadata": {},
     "output_type": "execute_result"
    }
   ],
   "source": [
    "# Model 생성\n",
    "from tensorflow.keras.models import Sequential\n",
    "from tensorflow.keras.layers import Flatten, Dense\n",
    "from tensorflow.keras.optimizers import Adam\n",
    "\n",
    "model = Sequential()\n",
    "model.add(Flatten(input_shape=(2,)))\n",
    "model.add(Dense(units=3,\n",
    "                activation='softmax'))\n",
    "\n",
    "model.compile(optimizer=Adam(learning_rate=1e-2),\n",
    "              loss='sparse_categorical_crossentropy',  # loss계산시 one-hot 처리하여 비교\n",
    "              metrics=['accuracy'])  # 성능 평가 기준\n",
    "\n",
    "# Model 학습\n",
    "model.fit(x_data_train_norm,\n",
    "          t_data_train,\n",
    "          epochs=50,\n",
    "          verbose=1,\n",
    "          validation_split=0.2)"
   ]
  },
  {
   "cell_type": "code",
   "execution_count": 6,
   "metadata": {
    "colab": {
     "base_uri": "https://localhost:8080/"
    },
    "executionInfo": {
     "elapsed": 736,
     "status": "ok",
     "timestamp": 1745129725075,
     "user": {
      "displayName": "JUNGWOON AN",
      "userId": "18046724802149141730"
     },
     "user_tz": -540
    },
    "id": "e1puYBHxx9m3",
    "outputId": "f1e50176-03b2-4a1a-cf50-a519159bc51a"
   },
   "outputs": [
    {
     "name": "stdout",
     "output_type": "stream",
     "text": [
      "\u001b[1m125/125\u001b[0m \u001b[32m━━━━━━━━━━━━━━━━━━━━\u001b[0m\u001b[37m\u001b[0m \u001b[1m0s\u001b[0m 1ms/step - accuracy: 0.9782 - loss: 0.0997\n",
      "loss: 0.09734702855348587\n",
      "accuracy: 0.9775000214576721\n"
     ]
    }
   ],
   "source": [
    "# Model Evaluation\n",
    "result = model.evaluate(x_data_test_norm, t_data_test)\n",
    "print('loss:', result[0])\n",
    "print('accuracy:', result[1])"
   ]
  },
  {
   "cell_type": "code",
   "execution_count": 7,
   "metadata": {
    "colab": {
     "base_uri": "https://localhost:8080/"
    },
    "executionInfo": {
     "elapsed": 159,
     "status": "ok",
     "timestamp": 1745129960002,
     "user": {
      "displayName": "JUNGWOON AN",
      "userId": "18046724802149141730"
     },
     "user_tz": -540
    },
    "id": "yxMI9KHo1ljB",
    "outputId": "dc69619d-cb1c-481d-c4a9-2f11aba55673"
   },
   "outputs": [
    {
     "name": "stdout",
     "output_type": "stream",
     "text": [
      "[[0.5625     0.51111111]]\n",
      "\u001b[1m1/1\u001b[0m \u001b[32m━━━━━━━━━━━━━━━━━━━━\u001b[0m\u001b[37m\u001b[0m \u001b[1m0s\u001b[0m 49ms/step\n",
      "[[0.01591613 0.98143077 0.00265307]]\n",
      "1\n"
     ]
    }
   ],
   "source": [
    "# Prediction\n",
    "my_data = np.array([[165, 58]])\n",
    "my_data_norm = scaler.transform(my_data)  # 정규화\n",
    "print(my_data_norm)\n",
    "\n",
    "pred = model.predict(my_data_norm)\n",
    "print(pred)  # class별 확률값\n",
    "print(np.argmax(pred))  # 가장 높은 확률값의 label 출력"
   ]
  }
 ],
 "metadata": {
  "colab": {
   "authorship_tag": "ABX9TyPtAsLyoEy9uiiq21L+Axwk",
   "provenance": []
  },
  "kernelspec": {
   "display_name": "Python (tfenv)",
   "language": "python",
   "name": "tfenv"
  },
  "language_info": {
   "codemirror_mode": {
    "name": "ipython",
    "version": 3
   },
   "file_extension": ".py",
   "mimetype": "text/x-python",
   "name": "python",
   "nbconvert_exporter": "python",
   "pygments_lexer": "ipython3",
   "version": "3.12.11"
  }
 },
 "nbformat": 4,
 "nbformat_minor": 4
}
