{
 "cells": [
  {
   "cell_type": "markdown",
   "metadata": {},
   "source": [
    "# 11.1 문제 정의\n",
    "카드 거래 내역 데이터셋을 이용해 이상거래를 예측하라.\n",
    "\n",
    "이상거래에 관련된 데이터입니다. 이상거래라 함은 카드값을 지불하지 않을 의도를 가지고서 결제를 하거나, 도난된 카드를 가지고 결제를 하는 드으이 거래를 의미합니다. 종속변수는 이상거럐 여부이고, 독립변수는 거래 시간, 거래 금액, 고객 성별, 상점 범주 등입니다."
   ]
  },
  {
   "cell_type": "markdown",
   "metadata": {
    "id": "jrbLicaSGD62"
   },
   "source": [
    "## 11.2 라이브러리 및 데이터 불러오기, 데이터 확인하기"
   ]
  },
  {
   "cell_type": "code",
   "execution_count": 1,
   "metadata": {
    "id": "Ia7l57_1GNpb"
   },
   "outputs": [],
   "source": [
    "import pandas as pd\n",
    "import numpy as np\n",
    "import matplotlib.pyplot as plt\n",
    "import seaborn as sns\n",
    "\n",
    "file_url = 'https://media.githubusercontent.com/media/musthave-ML10/data_source/main/fraud.csv'\n",
    "data = pd.read_csv(file_url)"
   ]
  },
  {
   "cell_type": "code",
   "execution_count": 2,
   "metadata": {},
   "outputs": [
    {
     "data": {
      "text/plain": [
       "(1852394, 22)"
      ]
     },
     "execution_count": 2,
     "metadata": {},
     "output_type": "execute_result"
    }
   ],
   "source": [
    "data.shape"
   ]
  },
  {
   "cell_type": "code",
   "execution_count": 3,
   "metadata": {
    "colab": {
     "base_uri": "https://localhost:8080/",
     "height": 577
    },
    "executionInfo": {
     "elapsed": 19,
     "status": "ok",
     "timestamp": 1647564211308,
     "user": {
      "displayName": "Sihyun Kwon",
      "photoUrl": "https://lh3.googleusercontent.com/a-/AOh14GjptZBUDXTw-vtetLWoyHScPskSGvFackGU2XKKGA=s64",
      "userId": "08571189456742629112"
     },
     "user_tz": 240
    },
    "id": "rI8PF9G3HDpr",
    "outputId": "7d1e11b1-cbf4-4a77-adb6-7a5a89ee9b12"
   },
   "outputs": [
    {
     "data": {
      "text/html": [
       "<div>\n",
       "<style scoped>\n",
       "    .dataframe tbody tr th:only-of-type {\n",
       "        vertical-align: middle;\n",
       "    }\n",
       "\n",
       "    .dataframe tbody tr th {\n",
       "        vertical-align: top;\n",
       "    }\n",
       "\n",
       "    .dataframe thead th {\n",
       "        text-align: right;\n",
       "    }\n",
       "</style>\n",
       "<table border=\"1\" class=\"dataframe\">\n",
       "  <thead>\n",
       "    <tr style=\"text-align: right;\">\n",
       "      <th></th>\n",
       "      <th>trans_date_trans_time</th>\n",
       "      <th>cc_num</th>\n",
       "      <th>merchant</th>\n",
       "      <th>category</th>\n",
       "      <th>amt</th>\n",
       "      <th>first</th>\n",
       "      <th>last</th>\n",
       "      <th>gender</th>\n",
       "      <th>street</th>\n",
       "      <th>city</th>\n",
       "      <th>...</th>\n",
       "      <th>lat</th>\n",
       "      <th>long</th>\n",
       "      <th>city_pop</th>\n",
       "      <th>job</th>\n",
       "      <th>dob</th>\n",
       "      <th>trans_num</th>\n",
       "      <th>unix_time</th>\n",
       "      <th>merch_lat</th>\n",
       "      <th>merch_long</th>\n",
       "      <th>is_fraud</th>\n",
       "    </tr>\n",
       "  </thead>\n",
       "  <tbody>\n",
       "    <tr>\n",
       "      <th>0</th>\n",
       "      <td>2019-01-01 00:00:18</td>\n",
       "      <td>2703186189652095</td>\n",
       "      <td>fraud_Rippin, Kub and Mann</td>\n",
       "      <td>misc_net</td>\n",
       "      <td>4.97</td>\n",
       "      <td>Jennifer</td>\n",
       "      <td>Banks</td>\n",
       "      <td>F</td>\n",
       "      <td>561 Perry Cove</td>\n",
       "      <td>Moravian Falls</td>\n",
       "      <td>...</td>\n",
       "      <td>36.0788</td>\n",
       "      <td>-81.1781</td>\n",
       "      <td>3495</td>\n",
       "      <td>Psychologist, counselling</td>\n",
       "      <td>1988-03-09</td>\n",
       "      <td>0b242abb623afc578575680df30655b9</td>\n",
       "      <td>1325376018</td>\n",
       "      <td>36.011293</td>\n",
       "      <td>-82.048315</td>\n",
       "      <td>0</td>\n",
       "    </tr>\n",
       "    <tr>\n",
       "      <th>1</th>\n",
       "      <td>2019-01-01 00:00:44</td>\n",
       "      <td>630423337322</td>\n",
       "      <td>fraud_Heller, Gutmann and Zieme</td>\n",
       "      <td>grocery_pos</td>\n",
       "      <td>107.23</td>\n",
       "      <td>Stephanie</td>\n",
       "      <td>Gill</td>\n",
       "      <td>F</td>\n",
       "      <td>43039 Riley Greens Suite 393</td>\n",
       "      <td>Orient</td>\n",
       "      <td>...</td>\n",
       "      <td>48.8878</td>\n",
       "      <td>-118.2105</td>\n",
       "      <td>149</td>\n",
       "      <td>Special educational needs teacher</td>\n",
       "      <td>1978-06-21</td>\n",
       "      <td>1f76529f8574734946361c461b024d99</td>\n",
       "      <td>1325376044</td>\n",
       "      <td>49.159047</td>\n",
       "      <td>-118.186462</td>\n",
       "      <td>0</td>\n",
       "    </tr>\n",
       "    <tr>\n",
       "      <th>2</th>\n",
       "      <td>2019-01-01 00:00:51</td>\n",
       "      <td>38859492057661</td>\n",
       "      <td>fraud_Lind-Buckridge</td>\n",
       "      <td>entertainment</td>\n",
       "      <td>220.11</td>\n",
       "      <td>Edward</td>\n",
       "      <td>Sanchez</td>\n",
       "      <td>M</td>\n",
       "      <td>594 White Dale Suite 530</td>\n",
       "      <td>Malad City</td>\n",
       "      <td>...</td>\n",
       "      <td>42.1808</td>\n",
       "      <td>-112.2620</td>\n",
       "      <td>4154</td>\n",
       "      <td>Nature conservation officer</td>\n",
       "      <td>1962-01-19</td>\n",
       "      <td>a1a22d70485983eac12b5b88dad1cf95</td>\n",
       "      <td>1325376051</td>\n",
       "      <td>43.150704</td>\n",
       "      <td>-112.154481</td>\n",
       "      <td>0</td>\n",
       "    </tr>\n",
       "    <tr>\n",
       "      <th>3</th>\n",
       "      <td>2019-01-01 00:01:16</td>\n",
       "      <td>3534093764340240</td>\n",
       "      <td>fraud_Kutch, Hermiston and Farrell</td>\n",
       "      <td>gas_transport</td>\n",
       "      <td>45.00</td>\n",
       "      <td>Jeremy</td>\n",
       "      <td>White</td>\n",
       "      <td>M</td>\n",
       "      <td>9443 Cynthia Court Apt. 038</td>\n",
       "      <td>Boulder</td>\n",
       "      <td>...</td>\n",
       "      <td>46.2306</td>\n",
       "      <td>-112.1138</td>\n",
       "      <td>1939</td>\n",
       "      <td>Patent attorney</td>\n",
       "      <td>1967-01-12</td>\n",
       "      <td>6b849c168bdad6f867558c3793159a81</td>\n",
       "      <td>1325376076</td>\n",
       "      <td>47.034331</td>\n",
       "      <td>-112.561071</td>\n",
       "      <td>0</td>\n",
       "    </tr>\n",
       "    <tr>\n",
       "      <th>4</th>\n",
       "      <td>2019-01-01 00:03:06</td>\n",
       "      <td>375534208663984</td>\n",
       "      <td>fraud_Keeling-Crist</td>\n",
       "      <td>misc_pos</td>\n",
       "      <td>41.96</td>\n",
       "      <td>Tyler</td>\n",
       "      <td>Garcia</td>\n",
       "      <td>M</td>\n",
       "      <td>408 Bradley Rest</td>\n",
       "      <td>Doe Hill</td>\n",
       "      <td>...</td>\n",
       "      <td>38.4207</td>\n",
       "      <td>-79.4629</td>\n",
       "      <td>99</td>\n",
       "      <td>Dance movement psychotherapist</td>\n",
       "      <td>1986-03-28</td>\n",
       "      <td>a41d7549acf90789359a9aa5346dcb46</td>\n",
       "      <td>1325376186</td>\n",
       "      <td>38.674999</td>\n",
       "      <td>-78.632459</td>\n",
       "      <td>0</td>\n",
       "    </tr>\n",
       "  </tbody>\n",
       "</table>\n",
       "<p>5 rows × 22 columns</p>\n",
       "</div>"
      ],
      "text/plain": [
       "  trans_date_trans_time            cc_num                            merchant  \\\n",
       "0   2019-01-01 00:00:18  2703186189652095          fraud_Rippin, Kub and Mann   \n",
       "1   2019-01-01 00:00:44      630423337322     fraud_Heller, Gutmann and Zieme   \n",
       "2   2019-01-01 00:00:51    38859492057661                fraud_Lind-Buckridge   \n",
       "3   2019-01-01 00:01:16  3534093764340240  fraud_Kutch, Hermiston and Farrell   \n",
       "4   2019-01-01 00:03:06   375534208663984                 fraud_Keeling-Crist   \n",
       "\n",
       "        category     amt      first     last gender  \\\n",
       "0       misc_net    4.97   Jennifer    Banks      F   \n",
       "1    grocery_pos  107.23  Stephanie     Gill      F   \n",
       "2  entertainment  220.11     Edward  Sanchez      M   \n",
       "3  gas_transport   45.00     Jeremy    White      M   \n",
       "4       misc_pos   41.96      Tyler   Garcia      M   \n",
       "\n",
       "                         street            city  ...      lat      long  \\\n",
       "0                561 Perry Cove  Moravian Falls  ...  36.0788  -81.1781   \n",
       "1  43039 Riley Greens Suite 393          Orient  ...  48.8878 -118.2105   \n",
       "2      594 White Dale Suite 530      Malad City  ...  42.1808 -112.2620   \n",
       "3   9443 Cynthia Court Apt. 038         Boulder  ...  46.2306 -112.1138   \n",
       "4              408 Bradley Rest        Doe Hill  ...  38.4207  -79.4629   \n",
       "\n",
       "   city_pop                                job         dob  \\\n",
       "0      3495          Psychologist, counselling  1988-03-09   \n",
       "1       149  Special educational needs teacher  1978-06-21   \n",
       "2      4154        Nature conservation officer  1962-01-19   \n",
       "3      1939                    Patent attorney  1967-01-12   \n",
       "4        99     Dance movement psychotherapist  1986-03-28   \n",
       "\n",
       "                          trans_num   unix_time  merch_lat  merch_long  \\\n",
       "0  0b242abb623afc578575680df30655b9  1325376018  36.011293  -82.048315   \n",
       "1  1f76529f8574734946361c461b024d99  1325376044  49.159047 -118.186462   \n",
       "2  a1a22d70485983eac12b5b88dad1cf95  1325376051  43.150704 -112.154481   \n",
       "3  6b849c168bdad6f867558c3793159a81  1325376076  47.034331 -112.561071   \n",
       "4  a41d7549acf90789359a9aa5346dcb46  1325376186  38.674999  -78.632459   \n",
       "\n",
       "   is_fraud  \n",
       "0         0  \n",
       "1         0  \n",
       "2         0  \n",
       "3         0  \n",
       "4         0  \n",
       "\n",
       "[5 rows x 22 columns]"
      ]
     },
     "execution_count": 3,
     "metadata": {},
     "output_type": "execute_result"
    }
   ],
   "source": [
    "data.head()"
   ]
  },
  {
   "cell_type": "code",
   "execution_count": 4,
   "metadata": {},
   "outputs": [
    {
     "data": {
      "text/plain": [
       "is_fraud\n",
       "0    1842743\n",
       "1       9651\n",
       "Name: count, dtype: int64"
      ]
     },
     "execution_count": 4,
     "metadata": {},
     "output_type": "execute_result"
    }
   ],
   "source": [
    "# 이상 거래  여부 건수 확인\n",
    "data['is_fraud'].value_counts()"
   ]
  },
  {
   "cell_type": "code",
   "execution_count": 5,
   "metadata": {
    "colab": {
     "base_uri": "https://localhost:8080/"
    },
    "executionInfo": {
     "elapsed": 205,
     "status": "ok",
     "timestamp": 1647564211506,
     "user": {
      "displayName": "Sihyun Kwon",
      "photoUrl": "https://lh3.googleusercontent.com/a-/AOh14GjptZBUDXTw-vtetLWoyHScPskSGvFackGU2XKKGA=s64",
      "userId": "08571189456742629112"
     },
     "user_tz": 240
    },
    "id": "Zkp6FwwePXpp",
    "outputId": "831b2fe6-da68-48d4-c8a9-4be98ff7d417"
   },
   "outputs": [
    {
     "name": "stdout",
     "output_type": "stream",
     "text": [
      "<class 'pandas.core.frame.DataFrame'>\n",
      "RangeIndex: 1852394 entries, 0 to 1852393\n",
      "Data columns (total 22 columns):\n",
      " #   Column                 Dtype  \n",
      "---  ------                 -----  \n",
      " 0   trans_date_trans_time  object \n",
      " 1   cc_num                 int64  \n",
      " 2   merchant               object \n",
      " 3   category               object \n",
      " 4   amt                    float64\n",
      " 5   first                  object \n",
      " 6   last                   object \n",
      " 7   gender                 object \n",
      " 8   street                 object \n",
      " 9   city                   object \n",
      " 10  state                  object \n",
      " 11  zip                    int64  \n",
      " 12  lat                    float64\n",
      " 13  long                   float64\n",
      " 14  city_pop               int64  \n",
      " 15  job                    object \n",
      " 16  dob                    object \n",
      " 17  trans_num              object \n",
      " 18  unix_time              int64  \n",
      " 19  merch_lat              float64\n",
      " 20  merch_long             float64\n",
      " 21  is_fraud               int64  \n",
      "dtypes: float64(5), int64(5), object(12)\n",
      "memory usage: 310.9+ MB\n"
     ]
    }
   ],
   "source": [
    "data.info()"
   ]
  },
  {
   "cell_type": "code",
   "execution_count": 6,
   "metadata": {},
   "outputs": [
    {
     "data": {
      "text/plain": [
       "trans_date_trans_time    0\n",
       "cc_num                   0\n",
       "merchant                 0\n",
       "category                 0\n",
       "amt                      0\n",
       "first                    0\n",
       "last                     0\n",
       "gender                   0\n",
       "street                   0\n",
       "city                     0\n",
       "state                    0\n",
       "zip                      0\n",
       "lat                      0\n",
       "long                     0\n",
       "city_pop                 0\n",
       "job                      0\n",
       "dob                      0\n",
       "trans_num                0\n",
       "unix_time                0\n",
       "merch_lat                0\n",
       "merch_long               0\n",
       "is_fraud                 0\n",
       "dtype: int64"
      ]
     },
     "execution_count": 6,
     "metadata": {},
     "output_type": "execute_result"
    }
   ],
   "source": [
    "# 결측치 확인\n",
    "data.isna().sum()"
   ]
  },
  {
   "cell_type": "code",
   "execution_count": 7,
   "metadata": {
    "colab": {
     "base_uri": "https://localhost:8080/"
    },
    "executionInfo": {
     "elapsed": 971,
     "status": "ok",
     "timestamp": 1647564212474,
     "user": {
      "displayName": "Sihyun Kwon",
      "photoUrl": "https://lh3.googleusercontent.com/a-/AOh14GjptZBUDXTw-vtetLWoyHScPskSGvFackGU2XKKGA=s64",
      "userId": "08571189456742629112"
     },
     "user_tz": 240
    },
    "id": "g9XOy1xlPZap",
    "outputId": "87d8a328-acd7-4a60-d0f4-c0d0f6724868"
   },
   "outputs": [
    {
     "name": "stdout",
     "output_type": "stream",
     "text": [
      "<class 'pandas.core.frame.DataFrame'>\n",
      "RangeIndex: 1852394 entries, 0 to 1852393\n",
      "Data columns (total 22 columns):\n",
      " #   Column                 Non-Null Count    Dtype  \n",
      "---  ------                 --------------    -----  \n",
      " 0   trans_date_trans_time  1852394 non-null  object \n",
      " 1   cc_num                 1852394 non-null  int64  \n",
      " 2   merchant               1852394 non-null  object \n",
      " 3   category               1852394 non-null  object \n",
      " 4   amt                    1852394 non-null  float64\n",
      " 5   first                  1852394 non-null  object \n",
      " 6   last                   1852394 non-null  object \n",
      " 7   gender                 1852394 non-null  object \n",
      " 8   street                 1852394 non-null  object \n",
      " 9   city                   1852394 non-null  object \n",
      " 10  state                  1852394 non-null  object \n",
      " 11  zip                    1852394 non-null  int64  \n",
      " 12  lat                    1852394 non-null  float64\n",
      " 13  long                   1852394 non-null  float64\n",
      " 14  city_pop               1852394 non-null  int64  \n",
      " 15  job                    1852394 non-null  object \n",
      " 16  dob                    1852394 non-null  object \n",
      " 17  trans_num              1852394 non-null  object \n",
      " 18  unix_time              1852394 non-null  int64  \n",
      " 19  merch_lat              1852394 non-null  float64\n",
      " 20  merch_long             1852394 non-null  float64\n",
      " 21  is_fraud               1852394 non-null  int64  \n",
      "dtypes: float64(5), int64(5), object(12)\n",
      "memory usage: 310.9+ MB\n"
     ]
    }
   ],
   "source": [
    "# 데이터가 크면 생략됨, Non-null count가 보이도록 출력\n",
    "data.info(show_counts=True)"
   ]
  },
  {
   "cell_type": "code",
   "execution_count": 8,
   "metadata": {
    "colab": {
     "base_uri": "https://localhost:8080/",
     "height": 300
    },
    "executionInfo": {
     "elapsed": 660,
     "status": "ok",
     "timestamp": 1647564213130,
     "user": {
      "displayName": "Sihyun Kwon",
      "photoUrl": "https://lh3.googleusercontent.com/a-/AOh14GjptZBUDXTw-vtetLWoyHScPskSGvFackGU2XKKGA=s64",
      "userId": "08571189456742629112"
     },
     "user_tz": 240
    },
    "id": "3wOBdXmyPc45",
    "outputId": "f0d0f1d0-5da0-4259-9607-325b059c6f40"
   },
   "outputs": [
    {
     "data": {
      "text/html": [
       "<div>\n",
       "<style scoped>\n",
       "    .dataframe tbody tr th:only-of-type {\n",
       "        vertical-align: middle;\n",
       "    }\n",
       "\n",
       "    .dataframe tbody tr th {\n",
       "        vertical-align: top;\n",
       "    }\n",
       "\n",
       "    .dataframe thead th {\n",
       "        text-align: right;\n",
       "    }\n",
       "</style>\n",
       "<table border=\"1\" class=\"dataframe\">\n",
       "  <thead>\n",
       "    <tr style=\"text-align: right;\">\n",
       "      <th></th>\n",
       "      <th>cc_num</th>\n",
       "      <th>amt</th>\n",
       "      <th>zip</th>\n",
       "      <th>lat</th>\n",
       "      <th>long</th>\n",
       "      <th>city_pop</th>\n",
       "      <th>unix_time</th>\n",
       "      <th>merch_lat</th>\n",
       "      <th>merch_long</th>\n",
       "      <th>is_fraud</th>\n",
       "    </tr>\n",
       "  </thead>\n",
       "  <tbody>\n",
       "    <tr>\n",
       "      <th>count</th>\n",
       "      <td>1.852394e+06</td>\n",
       "      <td>1852394.00</td>\n",
       "      <td>1852394.00</td>\n",
       "      <td>1852394.00</td>\n",
       "      <td>1852394.00</td>\n",
       "      <td>1852394.00</td>\n",
       "      <td>1.852394e+06</td>\n",
       "      <td>1852394.00</td>\n",
       "      <td>1852394.00</td>\n",
       "      <td>1852394.00</td>\n",
       "    </tr>\n",
       "    <tr>\n",
       "      <th>mean</th>\n",
       "      <td>4.173860e+17</td>\n",
       "      <td>70.06</td>\n",
       "      <td>48813.26</td>\n",
       "      <td>38.54</td>\n",
       "      <td>-90.23</td>\n",
       "      <td>88643.67</td>\n",
       "      <td>1.358674e+09</td>\n",
       "      <td>38.54</td>\n",
       "      <td>-90.23</td>\n",
       "      <td>0.01</td>\n",
       "    </tr>\n",
       "    <tr>\n",
       "      <th>std</th>\n",
       "      <td>1.309115e+18</td>\n",
       "      <td>159.25</td>\n",
       "      <td>26881.85</td>\n",
       "      <td>5.07</td>\n",
       "      <td>13.75</td>\n",
       "      <td>301487.62</td>\n",
       "      <td>1.819508e+07</td>\n",
       "      <td>5.11</td>\n",
       "      <td>13.76</td>\n",
       "      <td>0.07</td>\n",
       "    </tr>\n",
       "    <tr>\n",
       "      <th>min</th>\n",
       "      <td>6.041621e+10</td>\n",
       "      <td>1.00</td>\n",
       "      <td>1257.00</td>\n",
       "      <td>20.03</td>\n",
       "      <td>-165.67</td>\n",
       "      <td>23.00</td>\n",
       "      <td>1.325376e+09</td>\n",
       "      <td>19.03</td>\n",
       "      <td>-166.67</td>\n",
       "      <td>0.00</td>\n",
       "    </tr>\n",
       "    <tr>\n",
       "      <th>25%</th>\n",
       "      <td>1.800429e+14</td>\n",
       "      <td>9.64</td>\n",
       "      <td>26237.00</td>\n",
       "      <td>34.67</td>\n",
       "      <td>-96.80</td>\n",
       "      <td>741.00</td>\n",
       "      <td>1.343017e+09</td>\n",
       "      <td>34.74</td>\n",
       "      <td>-96.90</td>\n",
       "      <td>0.00</td>\n",
       "    </tr>\n",
       "    <tr>\n",
       "      <th>50%</th>\n",
       "      <td>3.521417e+15</td>\n",
       "      <td>47.45</td>\n",
       "      <td>48174.00</td>\n",
       "      <td>39.35</td>\n",
       "      <td>-87.48</td>\n",
       "      <td>2443.00</td>\n",
       "      <td>1.357089e+09</td>\n",
       "      <td>39.37</td>\n",
       "      <td>-87.44</td>\n",
       "      <td>0.00</td>\n",
       "    </tr>\n",
       "    <tr>\n",
       "      <th>75%</th>\n",
       "      <td>4.642255e+15</td>\n",
       "      <td>83.10</td>\n",
       "      <td>72042.00</td>\n",
       "      <td>41.94</td>\n",
       "      <td>-80.16</td>\n",
       "      <td>20328.00</td>\n",
       "      <td>1.374581e+09</td>\n",
       "      <td>41.96</td>\n",
       "      <td>-80.25</td>\n",
       "      <td>0.00</td>\n",
       "    </tr>\n",
       "    <tr>\n",
       "      <th>max</th>\n",
       "      <td>4.992346e+18</td>\n",
       "      <td>28948.90</td>\n",
       "      <td>99921.00</td>\n",
       "      <td>66.69</td>\n",
       "      <td>-67.95</td>\n",
       "      <td>2906700.00</td>\n",
       "      <td>1.388534e+09</td>\n",
       "      <td>67.51</td>\n",
       "      <td>-66.95</td>\n",
       "      <td>1.00</td>\n",
       "    </tr>\n",
       "  </tbody>\n",
       "</table>\n",
       "</div>"
      ],
      "text/plain": [
       "             cc_num         amt         zip         lat        long  \\\n",
       "count  1.852394e+06  1852394.00  1852394.00  1852394.00  1852394.00   \n",
       "mean   4.173860e+17       70.06    48813.26       38.54      -90.23   \n",
       "std    1.309115e+18      159.25    26881.85        5.07       13.75   \n",
       "min    6.041621e+10        1.00     1257.00       20.03     -165.67   \n",
       "25%    1.800429e+14        9.64    26237.00       34.67      -96.80   \n",
       "50%    3.521417e+15       47.45    48174.00       39.35      -87.48   \n",
       "75%    4.642255e+15       83.10    72042.00       41.94      -80.16   \n",
       "max    4.992346e+18    28948.90    99921.00       66.69      -67.95   \n",
       "\n",
       "         city_pop     unix_time   merch_lat  merch_long    is_fraud  \n",
       "count  1852394.00  1.852394e+06  1852394.00  1852394.00  1852394.00  \n",
       "mean     88643.67  1.358674e+09       38.54      -90.23        0.01  \n",
       "std     301487.62  1.819508e+07        5.11       13.76        0.07  \n",
       "min         23.00  1.325376e+09       19.03     -166.67        0.00  \n",
       "25%        741.00  1.343017e+09       34.74      -96.90        0.00  \n",
       "50%       2443.00  1.357089e+09       39.37      -87.44        0.00  \n",
       "75%      20328.00  1.374581e+09       41.96      -80.25        0.00  \n",
       "max    2906700.00  1.388534e+09       67.51      -66.95        1.00  "
      ]
     },
     "execution_count": 8,
     "metadata": {},
     "output_type": "execute_result"
    }
   ],
   "source": [
    "# 통계 정보 확인\n",
    "round(data.describe(), 2)"
   ]
  },
  {
   "cell_type": "markdown",
   "metadata": {
    "id": "xhPGf3cAPeEo"
   },
   "source": [
    "## 11.3 전처리 : 데이터 클리닝"
   ]
  },
  {
   "cell_type": "code",
   "execution_count": 9,
   "metadata": {
    "id": "EL-aHsPDPj8J"
   },
   "outputs": [],
   "source": [
    "# 불필요한 변수들 제외\n",
    "data.drop(['first','last','street','city','state','zip','trans_num','unix_time','job','merchant'], axis=1, inplace= True)"
   ]
  },
  {
   "cell_type": "code",
   "execution_count": 10,
   "metadata": {
    "id": "Pvs5uUuNPltT"
   },
   "outputs": [],
   "source": [
    "# 날짜 변수를 datetime형으로 수정\n",
    "data['trans_date_trans_time'] = pd.to_datetime(data['trans_date_trans_time'])"
   ]
  },
  {
   "cell_type": "code",
   "execution_count": 11,
   "metadata": {
    "colab": {
     "base_uri": "https://localhost:8080/"
    },
    "executionInfo": {
     "elapsed": 11,
     "status": "ok",
     "timestamp": 1647564213571,
     "user": {
      "displayName": "Sihyun Kwon",
      "photoUrl": "https://lh3.googleusercontent.com/a-/AOh14GjptZBUDXTw-vtetLWoyHScPskSGvFackGU2XKKGA=s64",
      "userId": "08571189456742629112"
     },
     "user_tz": 240
    },
    "id": "FyNbNPB-Pm6h",
    "outputId": "efcc8ca5-2f04-49af-fa0c-f732f2ae4523"
   },
   "outputs": [
    {
     "name": "stdout",
     "output_type": "stream",
     "text": [
      "<class 'pandas.core.frame.DataFrame'>\n",
      "RangeIndex: 1852394 entries, 0 to 1852393\n",
      "Data columns (total 12 columns):\n",
      " #   Column                 Dtype         \n",
      "---  ------                 -----         \n",
      " 0   trans_date_trans_time  datetime64[ns]\n",
      " 1   cc_num                 int64         \n",
      " 2   category               object        \n",
      " 3   amt                    float64       \n",
      " 4   gender                 object        \n",
      " 5   lat                    float64       \n",
      " 6   long                   float64       \n",
      " 7   city_pop               int64         \n",
      " 8   dob                    object        \n",
      " 9   merch_lat              float64       \n",
      " 10  merch_long             float64       \n",
      " 11  is_fraud               int64         \n",
      "dtypes: datetime64[ns](1), float64(5), int64(3), object(3)\n",
      "memory usage: 169.6+ MB\n"
     ]
    }
   ],
   "source": [
    "data.info()"
   ]
  },
  {
   "cell_type": "markdown",
   "metadata": {
    "id": "k_6XV__0Pnj5"
   },
   "source": [
    "## 11.4 전처리 : 피처 엔지니어링"
   ]
  },
  {
   "cell_type": "markdown",
   "metadata": {},
   "source": [
    "### 11.4.1 결제 금액"
   ]
  },
  {
   "cell_type": "code",
   "execution_count": 12,
   "metadata": {
    "id": "fGteSfm8Pp9p"
   },
   "outputs": [],
   "source": [
    "# cc_num별 amt 평균과 0표준편차 계산\n",
    "# amt_info = data.groupby('cc_num').agg(['mean','std'])['amt'].reset_index()\n",
    "amt_info = data.groupby('cc_num').agg({'amt': ['mean','std']})['amt'].reset_index()"
   ]
  },
  {
   "cell_type": "code",
   "execution_count": 13,
   "metadata": {
    "colab": {
     "base_uri": "https://localhost:8080/",
     "height": 206
    },
    "executionInfo": {
     "elapsed": 9,
     "status": "ok",
     "timestamp": 1647564214796,
     "user": {
      "displayName": "Sihyun Kwon",
      "photoUrl": "https://lh3.googleusercontent.com/a-/AOh14GjptZBUDXTw-vtetLWoyHScPskSGvFackGU2XKKGA=s64",
      "userId": "08571189456742629112"
     },
     "user_tz": 240
    },
    "id": "QjKcAxfSPsCz",
    "outputId": "42387af5-1817-4c6f-8cb0-101780be5718"
   },
   "outputs": [
    {
     "data": {
      "text/html": [
       "<div>\n",
       "<style scoped>\n",
       "    .dataframe tbody tr th:only-of-type {\n",
       "        vertical-align: middle;\n",
       "    }\n",
       "\n",
       "    .dataframe tbody tr th {\n",
       "        vertical-align: top;\n",
       "    }\n",
       "\n",
       "    .dataframe thead th {\n",
       "        text-align: right;\n",
       "    }\n",
       "</style>\n",
       "<table border=\"1\" class=\"dataframe\">\n",
       "  <thead>\n",
       "    <tr style=\"text-align: right;\">\n",
       "      <th></th>\n",
       "      <th>cc_num</th>\n",
       "      <th>mean</th>\n",
       "      <th>std</th>\n",
       "    </tr>\n",
       "  </thead>\n",
       "  <tbody>\n",
       "    <tr>\n",
       "      <th>0</th>\n",
       "      <td>60416207185</td>\n",
       "      <td>59.257796</td>\n",
       "      <td>142.869746</td>\n",
       "    </tr>\n",
       "    <tr>\n",
       "      <th>1</th>\n",
       "      <td>60422928733</td>\n",
       "      <td>65.483159</td>\n",
       "      <td>92.042844</td>\n",
       "    </tr>\n",
       "    <tr>\n",
       "      <th>2</th>\n",
       "      <td>60423098130</td>\n",
       "      <td>96.376084</td>\n",
       "      <td>1000.693872</td>\n",
       "    </tr>\n",
       "    <tr>\n",
       "      <th>3</th>\n",
       "      <td>60427851591</td>\n",
       "      <td>107.487550</td>\n",
       "      <td>131.014534</td>\n",
       "    </tr>\n",
       "    <tr>\n",
       "      <th>4</th>\n",
       "      <td>60487002085</td>\n",
       "      <td>64.096925</td>\n",
       "      <td>153.207660</td>\n",
       "    </tr>\n",
       "  </tbody>\n",
       "</table>\n",
       "</div>"
      ],
      "text/plain": [
       "        cc_num        mean          std\n",
       "0  60416207185   59.257796   142.869746\n",
       "1  60422928733   65.483159    92.042844\n",
       "2  60423098130   96.376084  1000.693872\n",
       "3  60427851591  107.487550   131.014534\n",
       "4  60487002085   64.096925   153.207660"
      ]
     },
     "execution_count": 13,
     "metadata": {},
     "output_type": "execute_result"
    }
   ],
   "source": [
    "amt_info.head()"
   ]
  },
  {
   "cell_type": "code",
   "execution_count": 14,
   "metadata": {
    "id": "NvJkjjIVPs-T"
   },
   "outputs": [],
   "source": [
    "# 데이터 합치기\n",
    "data = data.merge(amt_info, on ='cc_num', how='left')"
   ]
  },
  {
   "cell_type": "code",
   "execution_count": 15,
   "metadata": {
    "id": "55aB_ZphP1Oc"
   },
   "outputs": [],
   "source": [
    "# Z-Score 계산\n",
    "data['amt_z_score'] = (data['amt'] - data['mean']) / data['std']"
   ]
  },
  {
   "cell_type": "code",
   "execution_count": 16,
   "metadata": {},
   "outputs": [
    {
     "data": {
      "text/html": [
       "<div>\n",
       "<style scoped>\n",
       "    .dataframe tbody tr th:only-of-type {\n",
       "        vertical-align: middle;\n",
       "    }\n",
       "\n",
       "    .dataframe tbody tr th {\n",
       "        vertical-align: top;\n",
       "    }\n",
       "\n",
       "    .dataframe thead th {\n",
       "        text-align: right;\n",
       "    }\n",
       "</style>\n",
       "<table border=\"1\" class=\"dataframe\">\n",
       "  <thead>\n",
       "    <tr style=\"text-align: right;\">\n",
       "      <th></th>\n",
       "      <th>trans_date_trans_time</th>\n",
       "      <th>cc_num</th>\n",
       "      <th>category</th>\n",
       "      <th>amt</th>\n",
       "      <th>gender</th>\n",
       "      <th>lat</th>\n",
       "      <th>long</th>\n",
       "      <th>city_pop</th>\n",
       "      <th>dob</th>\n",
       "      <th>merch_lat</th>\n",
       "      <th>merch_long</th>\n",
       "      <th>is_fraud</th>\n",
       "      <th>mean</th>\n",
       "      <th>std</th>\n",
       "      <th>amt_z_score</th>\n",
       "    </tr>\n",
       "  </thead>\n",
       "  <tbody>\n",
       "    <tr>\n",
       "      <th>0</th>\n",
       "      <td>2019-01-01 00:00:18</td>\n",
       "      <td>2703186189652095</td>\n",
       "      <td>misc_net</td>\n",
       "      <td>4.97</td>\n",
       "      <td>F</td>\n",
       "      <td>36.0788</td>\n",
       "      <td>-81.1781</td>\n",
       "      <td>3495</td>\n",
       "      <td>1988-03-09</td>\n",
       "      <td>36.011293</td>\n",
       "      <td>-82.048315</td>\n",
       "      <td>0</td>\n",
       "      <td>89.408743</td>\n",
       "      <td>127.530101</td>\n",
       "      <td>-0.662108</td>\n",
       "    </tr>\n",
       "    <tr>\n",
       "      <th>1</th>\n",
       "      <td>2019-01-01 00:00:44</td>\n",
       "      <td>630423337322</td>\n",
       "      <td>grocery_pos</td>\n",
       "      <td>107.23</td>\n",
       "      <td>F</td>\n",
       "      <td>48.8878</td>\n",
       "      <td>-118.2105</td>\n",
       "      <td>149</td>\n",
       "      <td>1978-06-21</td>\n",
       "      <td>49.159047</td>\n",
       "      <td>-118.186462</td>\n",
       "      <td>0</td>\n",
       "      <td>56.078113</td>\n",
       "      <td>159.201852</td>\n",
       "      <td>0.321302</td>\n",
       "    </tr>\n",
       "    <tr>\n",
       "      <th>2</th>\n",
       "      <td>2019-01-01 00:00:51</td>\n",
       "      <td>38859492057661</td>\n",
       "      <td>entertainment</td>\n",
       "      <td>220.11</td>\n",
       "      <td>M</td>\n",
       "      <td>42.1808</td>\n",
       "      <td>-112.2620</td>\n",
       "      <td>4154</td>\n",
       "      <td>1962-01-19</td>\n",
       "      <td>43.150704</td>\n",
       "      <td>-112.154481</td>\n",
       "      <td>0</td>\n",
       "      <td>69.924272</td>\n",
       "      <td>116.688602</td>\n",
       "      <td>1.287064</td>\n",
       "    </tr>\n",
       "    <tr>\n",
       "      <th>3</th>\n",
       "      <td>2019-01-01 00:01:16</td>\n",
       "      <td>3534093764340240</td>\n",
       "      <td>gas_transport</td>\n",
       "      <td>45.00</td>\n",
       "      <td>M</td>\n",
       "      <td>46.2306</td>\n",
       "      <td>-112.1138</td>\n",
       "      <td>1939</td>\n",
       "      <td>1967-01-12</td>\n",
       "      <td>47.034331</td>\n",
       "      <td>-112.561071</td>\n",
       "      <td>0</td>\n",
       "      <td>80.090040</td>\n",
       "      <td>280.077880</td>\n",
       "      <td>-0.125287</td>\n",
       "    </tr>\n",
       "    <tr>\n",
       "      <th>4</th>\n",
       "      <td>2019-01-01 00:03:06</td>\n",
       "      <td>375534208663984</td>\n",
       "      <td>misc_pos</td>\n",
       "      <td>41.96</td>\n",
       "      <td>M</td>\n",
       "      <td>38.4207</td>\n",
       "      <td>-79.4629</td>\n",
       "      <td>99</td>\n",
       "      <td>1986-03-28</td>\n",
       "      <td>38.674999</td>\n",
       "      <td>-78.632459</td>\n",
       "      <td>0</td>\n",
       "      <td>95.341146</td>\n",
       "      <td>94.322842</td>\n",
       "      <td>-0.565941</td>\n",
       "    </tr>\n",
       "  </tbody>\n",
       "</table>\n",
       "</div>"
      ],
      "text/plain": [
       "  trans_date_trans_time            cc_num       category     amt gender  \\\n",
       "0   2019-01-01 00:00:18  2703186189652095       misc_net    4.97      F   \n",
       "1   2019-01-01 00:00:44      630423337322    grocery_pos  107.23      F   \n",
       "2   2019-01-01 00:00:51    38859492057661  entertainment  220.11      M   \n",
       "3   2019-01-01 00:01:16  3534093764340240  gas_transport   45.00      M   \n",
       "4   2019-01-01 00:03:06   375534208663984       misc_pos   41.96      M   \n",
       "\n",
       "       lat      long  city_pop         dob  merch_lat  merch_long  is_fraud  \\\n",
       "0  36.0788  -81.1781      3495  1988-03-09  36.011293  -82.048315         0   \n",
       "1  48.8878 -118.2105       149  1978-06-21  49.159047 -118.186462         0   \n",
       "2  42.1808 -112.2620      4154  1962-01-19  43.150704 -112.154481         0   \n",
       "3  46.2306 -112.1138      1939  1967-01-12  47.034331 -112.561071         0   \n",
       "4  38.4207  -79.4629        99  1986-03-28  38.674999  -78.632459         0   \n",
       "\n",
       "        mean         std  amt_z_score  \n",
       "0  89.408743  127.530101    -0.662108  \n",
       "1  56.078113  159.201852     0.321302  \n",
       "2  69.924272  116.688602     1.287064  \n",
       "3  80.090040  280.077880    -0.125287  \n",
       "4  95.341146   94.322842    -0.565941  "
      ]
     },
     "execution_count": 16,
     "metadata": {},
     "output_type": "execute_result"
    }
   ],
   "source": [
    "data.head()"
   ]
  },
  {
   "cell_type": "code",
   "execution_count": 17,
   "metadata": {
    "colab": {
     "base_uri": "https://localhost:8080/",
     "height": 206
    },
    "executionInfo": {
     "elapsed": 204,
     "status": "ok",
     "timestamp": 1647564215545,
     "user": {
      "displayName": "Sihyun Kwon",
      "photoUrl": "https://lh3.googleusercontent.com/a-/AOh14GjptZBUDXTw-vtetLWoyHScPskSGvFackGU2XKKGA=s64",
      "userId": "08571189456742629112"
     },
     "user_tz": 240
    },
    "id": "ZjaH4U2CP3A8",
    "outputId": "b4a14069-b315-4cae-bcf3-357e79a5e2cc"
   },
   "outputs": [
    {
     "data": {
      "text/html": [
       "<div>\n",
       "<style scoped>\n",
       "    .dataframe tbody tr th:only-of-type {\n",
       "        vertical-align: middle;\n",
       "    }\n",
       "\n",
       "    .dataframe tbody tr th {\n",
       "        vertical-align: top;\n",
       "    }\n",
       "\n",
       "    .dataframe thead th {\n",
       "        text-align: right;\n",
       "    }\n",
       "</style>\n",
       "<table border=\"1\" class=\"dataframe\">\n",
       "  <thead>\n",
       "    <tr style=\"text-align: right;\">\n",
       "      <th></th>\n",
       "      <th>amt</th>\n",
       "      <th>mean</th>\n",
       "      <th>std</th>\n",
       "      <th>amt_z_score</th>\n",
       "    </tr>\n",
       "  </thead>\n",
       "  <tbody>\n",
       "    <tr>\n",
       "      <th>0</th>\n",
       "      <td>4.97</td>\n",
       "      <td>89.408743</td>\n",
       "      <td>127.530101</td>\n",
       "      <td>-0.662108</td>\n",
       "    </tr>\n",
       "    <tr>\n",
       "      <th>1</th>\n",
       "      <td>107.23</td>\n",
       "      <td>56.078113</td>\n",
       "      <td>159.201852</td>\n",
       "      <td>0.321302</td>\n",
       "    </tr>\n",
       "    <tr>\n",
       "      <th>2</th>\n",
       "      <td>220.11</td>\n",
       "      <td>69.924272</td>\n",
       "      <td>116.688602</td>\n",
       "      <td>1.287064</td>\n",
       "    </tr>\n",
       "    <tr>\n",
       "      <th>3</th>\n",
       "      <td>45.00</td>\n",
       "      <td>80.090040</td>\n",
       "      <td>280.077880</td>\n",
       "      <td>-0.125287</td>\n",
       "    </tr>\n",
       "    <tr>\n",
       "      <th>4</th>\n",
       "      <td>41.96</td>\n",
       "      <td>95.341146</td>\n",
       "      <td>94.322842</td>\n",
       "      <td>-0.565941</td>\n",
       "    </tr>\n",
       "  </tbody>\n",
       "</table>\n",
       "</div>"
      ],
      "text/plain": [
       "      amt       mean         std  amt_z_score\n",
       "0    4.97  89.408743  127.530101    -0.662108\n",
       "1  107.23  56.078113  159.201852     0.321302\n",
       "2  220.11  69.924272  116.688602     1.287064\n",
       "3   45.00  80.090040  280.077880    -0.125287\n",
       "4   41.96  95.341146   94.322842    -0.565941"
      ]
     },
     "execution_count": 17,
     "metadata": {},
     "output_type": "execute_result"
    }
   ],
   "source": [
    "data[['amt','mean','std','amt_z_score']].head()"
   ]
  },
  {
   "cell_type": "code",
   "execution_count": 18,
   "metadata": {
    "id": "IVtFAacxP4iN"
   },
   "outputs": [],
   "source": [
    "# mean과 std는 Z-Score 구하는데 필요한 값일 뿐 예측에는 필요하지 않아 제거\n",
    "data.drop(['mean','std'], axis=1, inplace=True)"
   ]
  },
  {
   "cell_type": "markdown",
   "metadata": {},
   "source": [
    "### 11.4.2 범주"
   ]
  },
  {
   "cell_type": "code",
   "execution_count": 19,
   "metadata": {
    "id": "aWecy4Q8P6V8"
   },
   "outputs": [],
   "source": [
    "# cc_num과 category기준으로 amt의 평균, 표준편차 계산\n",
    "\n",
    "# category_info = data.groupby(['cc_num','category']).agg(['mean','std'])['amt'].reset_index()\n",
    "category_info = data.groupby(['cc_num','category']).agg({'amt': ['mean','std']})['amt'].reset_index()"
   ]
  },
  {
   "cell_type": "code",
   "execution_count": 20,
   "metadata": {},
   "outputs": [
    {
     "data": {
      "text/html": [
       "<div>\n",
       "<style scoped>\n",
       "    .dataframe tbody tr th:only-of-type {\n",
       "        vertical-align: middle;\n",
       "    }\n",
       "\n",
       "    .dataframe tbody tr th {\n",
       "        vertical-align: top;\n",
       "    }\n",
       "\n",
       "    .dataframe thead th {\n",
       "        text-align: right;\n",
       "    }\n",
       "</style>\n",
       "<table border=\"1\" class=\"dataframe\">\n",
       "  <thead>\n",
       "    <tr style=\"text-align: right;\">\n",
       "      <th></th>\n",
       "      <th>cc_num</th>\n",
       "      <th>category</th>\n",
       "      <th>mean</th>\n",
       "      <th>std</th>\n",
       "    </tr>\n",
       "  </thead>\n",
       "  <tbody>\n",
       "    <tr>\n",
       "      <th>0</th>\n",
       "      <td>60416207185</td>\n",
       "      <td>entertainment</td>\n",
       "      <td>51.838855</td>\n",
       "      <td>65.485714</td>\n",
       "    </tr>\n",
       "    <tr>\n",
       "      <th>1</th>\n",
       "      <td>60416207185</td>\n",
       "      <td>food_dining</td>\n",
       "      <td>26.737097</td>\n",
       "      <td>46.382603</td>\n",
       "    </tr>\n",
       "    <tr>\n",
       "      <th>2</th>\n",
       "      <td>60416207185</td>\n",
       "      <td>gas_transport</td>\n",
       "      <td>59.779429</td>\n",
       "      <td>15.758267</td>\n",
       "    </tr>\n",
       "    <tr>\n",
       "      <th>3</th>\n",
       "      <td>60416207185</td>\n",
       "      <td>grocery_net</td>\n",
       "      <td>52.152973</td>\n",
       "      <td>17.694871</td>\n",
       "    </tr>\n",
       "    <tr>\n",
       "      <th>4</th>\n",
       "      <td>60416207185</td>\n",
       "      <td>grocery_pos</td>\n",
       "      <td>101.557761</td>\n",
       "      <td>21.894156</td>\n",
       "    </tr>\n",
       "  </tbody>\n",
       "</table>\n",
       "</div>"
      ],
      "text/plain": [
       "        cc_num       category        mean        std\n",
       "0  60416207185  entertainment   51.838855  65.485714\n",
       "1  60416207185    food_dining   26.737097  46.382603\n",
       "2  60416207185  gas_transport   59.779429  15.758267\n",
       "3  60416207185    grocery_net   52.152973  17.694871\n",
       "4  60416207185    grocery_pos  101.557761  21.894156"
      ]
     },
     "execution_count": 20,
     "metadata": {},
     "output_type": "execute_result"
    }
   ],
   "source": [
    "category_info.head()"
   ]
  },
  {
   "cell_type": "code",
   "execution_count": 21,
   "metadata": {
    "id": "68TPAq3TP7g8"
   },
   "outputs": [],
   "source": [
    "# 데이터 합치기\n",
    "data = data.merge(category_info, on =['cc_num','category'], how='left')"
   ]
  },
  {
   "cell_type": "code",
   "execution_count": 22,
   "metadata": {},
   "outputs": [
    {
     "data": {
      "text/html": [
       "<div>\n",
       "<style scoped>\n",
       "    .dataframe tbody tr th:only-of-type {\n",
       "        vertical-align: middle;\n",
       "    }\n",
       "\n",
       "    .dataframe tbody tr th {\n",
       "        vertical-align: top;\n",
       "    }\n",
       "\n",
       "    .dataframe thead th {\n",
       "        text-align: right;\n",
       "    }\n",
       "</style>\n",
       "<table border=\"1\" class=\"dataframe\">\n",
       "  <thead>\n",
       "    <tr style=\"text-align: right;\">\n",
       "      <th></th>\n",
       "      <th>trans_date_trans_time</th>\n",
       "      <th>cc_num</th>\n",
       "      <th>category</th>\n",
       "      <th>amt</th>\n",
       "      <th>gender</th>\n",
       "      <th>lat</th>\n",
       "      <th>long</th>\n",
       "      <th>city_pop</th>\n",
       "      <th>dob</th>\n",
       "      <th>merch_lat</th>\n",
       "      <th>merch_long</th>\n",
       "      <th>is_fraud</th>\n",
       "      <th>amt_z_score</th>\n",
       "      <th>mean</th>\n",
       "      <th>std</th>\n",
       "    </tr>\n",
       "  </thead>\n",
       "  <tbody>\n",
       "    <tr>\n",
       "      <th>0</th>\n",
       "      <td>2019-01-01 00:00:18</td>\n",
       "      <td>2703186189652095</td>\n",
       "      <td>misc_net</td>\n",
       "      <td>4.97</td>\n",
       "      <td>F</td>\n",
       "      <td>36.0788</td>\n",
       "      <td>-81.1781</td>\n",
       "      <td>3495</td>\n",
       "      <td>1988-03-09</td>\n",
       "      <td>36.011293</td>\n",
       "      <td>-82.048315</td>\n",
       "      <td>0</td>\n",
       "      <td>-0.662108</td>\n",
       "      <td>84.860809</td>\n",
       "      <td>116.070300</td>\n",
       "    </tr>\n",
       "    <tr>\n",
       "      <th>1</th>\n",
       "      <td>2019-01-01 00:00:44</td>\n",
       "      <td>630423337322</td>\n",
       "      <td>grocery_pos</td>\n",
       "      <td>107.23</td>\n",
       "      <td>F</td>\n",
       "      <td>48.8878</td>\n",
       "      <td>-118.2105</td>\n",
       "      <td>149</td>\n",
       "      <td>1978-06-21</td>\n",
       "      <td>49.159047</td>\n",
       "      <td>-118.186462</td>\n",
       "      <td>0</td>\n",
       "      <td>0.321302</td>\n",
       "      <td>99.637224</td>\n",
       "      <td>23.904424</td>\n",
       "    </tr>\n",
       "    <tr>\n",
       "      <th>2</th>\n",
       "      <td>2019-01-01 00:00:51</td>\n",
       "      <td>38859492057661</td>\n",
       "      <td>entertainment</td>\n",
       "      <td>220.11</td>\n",
       "      <td>M</td>\n",
       "      <td>42.1808</td>\n",
       "      <td>-112.2620</td>\n",
       "      <td>4154</td>\n",
       "      <td>1962-01-19</td>\n",
       "      <td>43.150704</td>\n",
       "      <td>-112.154481</td>\n",
       "      <td>0</td>\n",
       "      <td>1.287064</td>\n",
       "      <td>46.653103</td>\n",
       "      <td>60.385161</td>\n",
       "    </tr>\n",
       "    <tr>\n",
       "      <th>3</th>\n",
       "      <td>2019-01-01 00:01:16</td>\n",
       "      <td>3534093764340240</td>\n",
       "      <td>gas_transport</td>\n",
       "      <td>45.00</td>\n",
       "      <td>M</td>\n",
       "      <td>46.2306</td>\n",
       "      <td>-112.1138</td>\n",
       "      <td>1939</td>\n",
       "      <td>1967-01-12</td>\n",
       "      <td>47.034331</td>\n",
       "      <td>-112.561071</td>\n",
       "      <td>0</td>\n",
       "      <td>-0.125287</td>\n",
       "      <td>61.537283</td>\n",
       "      <td>15.746841</td>\n",
       "    </tr>\n",
       "    <tr>\n",
       "      <th>4</th>\n",
       "      <td>2019-01-01 00:03:06</td>\n",
       "      <td>375534208663984</td>\n",
       "      <td>misc_pos</td>\n",
       "      <td>41.96</td>\n",
       "      <td>M</td>\n",
       "      <td>38.4207</td>\n",
       "      <td>-79.4629</td>\n",
       "      <td>99</td>\n",
       "      <td>1986-03-28</td>\n",
       "      <td>38.674999</td>\n",
       "      <td>-78.632459</td>\n",
       "      <td>0</td>\n",
       "      <td>-0.565941</td>\n",
       "      <td>35.481357</td>\n",
       "      <td>4.934731</td>\n",
       "    </tr>\n",
       "  </tbody>\n",
       "</table>\n",
       "</div>"
      ],
      "text/plain": [
       "  trans_date_trans_time            cc_num       category     amt gender  \\\n",
       "0   2019-01-01 00:00:18  2703186189652095       misc_net    4.97      F   \n",
       "1   2019-01-01 00:00:44      630423337322    grocery_pos  107.23      F   \n",
       "2   2019-01-01 00:00:51    38859492057661  entertainment  220.11      M   \n",
       "3   2019-01-01 00:01:16  3534093764340240  gas_transport   45.00      M   \n",
       "4   2019-01-01 00:03:06   375534208663984       misc_pos   41.96      M   \n",
       "\n",
       "       lat      long  city_pop         dob  merch_lat  merch_long  is_fraud  \\\n",
       "0  36.0788  -81.1781      3495  1988-03-09  36.011293  -82.048315         0   \n",
       "1  48.8878 -118.2105       149  1978-06-21  49.159047 -118.186462         0   \n",
       "2  42.1808 -112.2620      4154  1962-01-19  43.150704 -112.154481         0   \n",
       "3  46.2306 -112.1138      1939  1967-01-12  47.034331 -112.561071         0   \n",
       "4  38.4207  -79.4629        99  1986-03-28  38.674999  -78.632459         0   \n",
       "\n",
       "   amt_z_score       mean         std  \n",
       "0    -0.662108  84.860809  116.070300  \n",
       "1     0.321302  99.637224   23.904424  \n",
       "2     1.287064  46.653103   60.385161  \n",
       "3    -0.125287  61.537283   15.746841  \n",
       "4    -0.565941  35.481357    4.934731  "
      ]
     },
     "execution_count": 22,
     "metadata": {},
     "output_type": "execute_result"
    }
   ],
   "source": [
    "data.head()"
   ]
  },
  {
   "cell_type": "code",
   "execution_count": 23,
   "metadata": {
    "id": "hRK8xMn2P9Ct"
   },
   "outputs": [],
   "source": [
    "# Z-Score 계산\n",
    "data['cat_z_score'] = (data['amt'] - data['mean']) / data['std']\n",
    "# 변수 제거\n",
    "data.drop(['mean','std'], axis=1, inplace=True)"
   ]
  },
  {
   "cell_type": "code",
   "execution_count": 24,
   "metadata": {},
   "outputs": [
    {
     "data": {
      "text/html": [
       "<div>\n",
       "<style scoped>\n",
       "    .dataframe tbody tr th:only-of-type {\n",
       "        vertical-align: middle;\n",
       "    }\n",
       "\n",
       "    .dataframe tbody tr th {\n",
       "        vertical-align: top;\n",
       "    }\n",
       "\n",
       "    .dataframe thead th {\n",
       "        text-align: right;\n",
       "    }\n",
       "</style>\n",
       "<table border=\"1\" class=\"dataframe\">\n",
       "  <thead>\n",
       "    <tr style=\"text-align: right;\">\n",
       "      <th></th>\n",
       "      <th>trans_date_trans_time</th>\n",
       "      <th>cc_num</th>\n",
       "      <th>category</th>\n",
       "      <th>amt</th>\n",
       "      <th>gender</th>\n",
       "      <th>lat</th>\n",
       "      <th>long</th>\n",
       "      <th>city_pop</th>\n",
       "      <th>dob</th>\n",
       "      <th>merch_lat</th>\n",
       "      <th>merch_long</th>\n",
       "      <th>is_fraud</th>\n",
       "      <th>amt_z_score</th>\n",
       "      <th>cat_z_score</th>\n",
       "    </tr>\n",
       "  </thead>\n",
       "  <tbody>\n",
       "    <tr>\n",
       "      <th>0</th>\n",
       "      <td>2019-01-01 00:00:18</td>\n",
       "      <td>2703186189652095</td>\n",
       "      <td>misc_net</td>\n",
       "      <td>4.97</td>\n",
       "      <td>F</td>\n",
       "      <td>36.0788</td>\n",
       "      <td>-81.1781</td>\n",
       "      <td>3495</td>\n",
       "      <td>1988-03-09</td>\n",
       "      <td>36.011293</td>\n",
       "      <td>-82.048315</td>\n",
       "      <td>0</td>\n",
       "      <td>-0.662108</td>\n",
       "      <td>-0.688297</td>\n",
       "    </tr>\n",
       "    <tr>\n",
       "      <th>1</th>\n",
       "      <td>2019-01-01 00:00:44</td>\n",
       "      <td>630423337322</td>\n",
       "      <td>grocery_pos</td>\n",
       "      <td>107.23</td>\n",
       "      <td>F</td>\n",
       "      <td>48.8878</td>\n",
       "      <td>-118.2105</td>\n",
       "      <td>149</td>\n",
       "      <td>1978-06-21</td>\n",
       "      <td>49.159047</td>\n",
       "      <td>-118.186462</td>\n",
       "      <td>0</td>\n",
       "      <td>0.321302</td>\n",
       "      <td>0.317631</td>\n",
       "    </tr>\n",
       "    <tr>\n",
       "      <th>2</th>\n",
       "      <td>2019-01-01 00:00:51</td>\n",
       "      <td>38859492057661</td>\n",
       "      <td>entertainment</td>\n",
       "      <td>220.11</td>\n",
       "      <td>M</td>\n",
       "      <td>42.1808</td>\n",
       "      <td>-112.2620</td>\n",
       "      <td>4154</td>\n",
       "      <td>1962-01-19</td>\n",
       "      <td>43.150704</td>\n",
       "      <td>-112.154481</td>\n",
       "      <td>0</td>\n",
       "      <td>1.287064</td>\n",
       "      <td>2.872509</td>\n",
       "    </tr>\n",
       "    <tr>\n",
       "      <th>3</th>\n",
       "      <td>2019-01-01 00:01:16</td>\n",
       "      <td>3534093764340240</td>\n",
       "      <td>gas_transport</td>\n",
       "      <td>45.00</td>\n",
       "      <td>M</td>\n",
       "      <td>46.2306</td>\n",
       "      <td>-112.1138</td>\n",
       "      <td>1939</td>\n",
       "      <td>1967-01-12</td>\n",
       "      <td>47.034331</td>\n",
       "      <td>-112.561071</td>\n",
       "      <td>0</td>\n",
       "      <td>-0.125287</td>\n",
       "      <td>-1.050197</td>\n",
       "    </tr>\n",
       "    <tr>\n",
       "      <th>4</th>\n",
       "      <td>2019-01-01 00:03:06</td>\n",
       "      <td>375534208663984</td>\n",
       "      <td>misc_pos</td>\n",
       "      <td>41.96</td>\n",
       "      <td>M</td>\n",
       "      <td>38.4207</td>\n",
       "      <td>-79.4629</td>\n",
       "      <td>99</td>\n",
       "      <td>1986-03-28</td>\n",
       "      <td>38.674999</td>\n",
       "      <td>-78.632459</td>\n",
       "      <td>0</td>\n",
       "      <td>-0.565941</td>\n",
       "      <td>1.312866</td>\n",
       "    </tr>\n",
       "  </tbody>\n",
       "</table>\n",
       "</div>"
      ],
      "text/plain": [
       "  trans_date_trans_time            cc_num       category     amt gender  \\\n",
       "0   2019-01-01 00:00:18  2703186189652095       misc_net    4.97      F   \n",
       "1   2019-01-01 00:00:44      630423337322    grocery_pos  107.23      F   \n",
       "2   2019-01-01 00:00:51    38859492057661  entertainment  220.11      M   \n",
       "3   2019-01-01 00:01:16  3534093764340240  gas_transport   45.00      M   \n",
       "4   2019-01-01 00:03:06   375534208663984       misc_pos   41.96      M   \n",
       "\n",
       "       lat      long  city_pop         dob  merch_lat  merch_long  is_fraud  \\\n",
       "0  36.0788  -81.1781      3495  1988-03-09  36.011293  -82.048315         0   \n",
       "1  48.8878 -118.2105       149  1978-06-21  49.159047 -118.186462         0   \n",
       "2  42.1808 -112.2620      4154  1962-01-19  43.150704 -112.154481         0   \n",
       "3  46.2306 -112.1138      1939  1967-01-12  47.034331 -112.561071         0   \n",
       "4  38.4207  -79.4629        99  1986-03-28  38.674999  -78.632459         0   \n",
       "\n",
       "   amt_z_score  cat_z_score  \n",
       "0    -0.662108    -0.688297  \n",
       "1     0.321302     0.317631  \n",
       "2     1.287064     2.872509  \n",
       "3    -0.125287    -1.050197  \n",
       "4    -0.565941     1.312866  "
      ]
     },
     "execution_count": 24,
     "metadata": {},
     "output_type": "execute_result"
    }
   ],
   "source": [
    "data.head()"
   ]
  },
  {
   "cell_type": "markdown",
   "metadata": {},
   "source": [
    "### 11.4.3 거리"
   ]
  },
  {
   "cell_type": "code",
   "execution_count": 25,
   "metadata": {},
   "outputs": [
    {
     "name": "stdout",
     "output_type": "stream",
     "text": [
      "Requirement already satisfied: geopy in c:\\users\\404-00\\anaconda3\\lib\\site-packages (2.4.1)\n",
      "Requirement already satisfied: geographiclib<3,>=1.52 in c:\\users\\404-00\\anaconda3\\lib\\site-packages (from geopy) (2.0)\n",
      "Note: you may need to restart the kernel to use updated packages.\n"
     ]
    }
   ],
   "source": [
    "pip install geopy"
   ]
  },
  {
   "cell_type": "code",
   "execution_count": 26,
   "metadata": {
    "id": "aLidUVIFP9xN"
   },
   "outputs": [],
   "source": [
    "import geopy.distance"
   ]
  },
  {
   "cell_type": "code",
   "execution_count": 27,
   "metadata": {},
   "outputs": [
    {
     "data": {
      "text/html": [
       "<div>\n",
       "<style scoped>\n",
       "    .dataframe tbody tr th:only-of-type {\n",
       "        vertical-align: middle;\n",
       "    }\n",
       "\n",
       "    .dataframe tbody tr th {\n",
       "        vertical-align: top;\n",
       "    }\n",
       "\n",
       "    .dataframe thead th {\n",
       "        text-align: right;\n",
       "    }\n",
       "</style>\n",
       "<table border=\"1\" class=\"dataframe\">\n",
       "  <thead>\n",
       "    <tr style=\"text-align: right;\">\n",
       "      <th></th>\n",
       "      <th>merch_lat</th>\n",
       "      <th>merch_long</th>\n",
       "    </tr>\n",
       "  </thead>\n",
       "  <tbody>\n",
       "    <tr>\n",
       "      <th>0</th>\n",
       "      <td>36.011293</td>\n",
       "      <td>-82.048315</td>\n",
       "    </tr>\n",
       "    <tr>\n",
       "      <th>1</th>\n",
       "      <td>49.159047</td>\n",
       "      <td>-118.186462</td>\n",
       "    </tr>\n",
       "    <tr>\n",
       "      <th>2</th>\n",
       "      <td>43.150704</td>\n",
       "      <td>-112.154481</td>\n",
       "    </tr>\n",
       "    <tr>\n",
       "      <th>3</th>\n",
       "      <td>47.034331</td>\n",
       "      <td>-112.561071</td>\n",
       "    </tr>\n",
       "    <tr>\n",
       "      <th>4</th>\n",
       "      <td>38.674999</td>\n",
       "      <td>-78.632459</td>\n",
       "    </tr>\n",
       "  </tbody>\n",
       "</table>\n",
       "</div>"
      ],
      "text/plain": [
       "   merch_lat  merch_long\n",
       "0  36.011293  -82.048315\n",
       "1  49.159047 -118.186462\n",
       "2  43.150704 -112.154481\n",
       "3  47.034331 -112.561071\n",
       "4  38.674999  -78.632459"
      ]
     },
     "execution_count": 27,
     "metadata": {},
     "output_type": "execute_result"
    }
   ],
   "source": [
    "data[['merch_lat', 'merch_long']].head()"
   ]
  },
  {
   "cell_type": "code",
   "execution_count": 28,
   "metadata": {
    "id": "4gI6Zg3WP__1"
   },
   "outputs": [],
   "source": [
    "# 위도, 경도 한 변수(튜플)로 합치기\n",
    "data['merch_coord'] = pd.Series(zip(data['merch_lat'], data['merch_long']))\n",
    "data['cust_coord'] = pd.Series(zip(data['lat'], data['long']))"
   ]
  },
  {
   "cell_type": "code",
   "execution_count": 29,
   "metadata": {},
   "outputs": [
    {
     "data": {
      "text/html": [
       "<div>\n",
       "<style scoped>\n",
       "    .dataframe tbody tr th:only-of-type {\n",
       "        vertical-align: middle;\n",
       "    }\n",
       "\n",
       "    .dataframe tbody tr th {\n",
       "        vertical-align: top;\n",
       "    }\n",
       "\n",
       "    .dataframe thead th {\n",
       "        text-align: right;\n",
       "    }\n",
       "</style>\n",
       "<table border=\"1\" class=\"dataframe\">\n",
       "  <thead>\n",
       "    <tr style=\"text-align: right;\">\n",
       "      <th></th>\n",
       "      <th>trans_date_trans_time</th>\n",
       "      <th>cc_num</th>\n",
       "      <th>category</th>\n",
       "      <th>amt</th>\n",
       "      <th>gender</th>\n",
       "      <th>lat</th>\n",
       "      <th>long</th>\n",
       "      <th>city_pop</th>\n",
       "      <th>dob</th>\n",
       "      <th>merch_lat</th>\n",
       "      <th>merch_long</th>\n",
       "      <th>is_fraud</th>\n",
       "      <th>amt_z_score</th>\n",
       "      <th>cat_z_score</th>\n",
       "      <th>merch_coord</th>\n",
       "      <th>cust_coord</th>\n",
       "    </tr>\n",
       "  </thead>\n",
       "  <tbody>\n",
       "    <tr>\n",
       "      <th>0</th>\n",
       "      <td>2019-01-01 00:00:18</td>\n",
       "      <td>2703186189652095</td>\n",
       "      <td>misc_net</td>\n",
       "      <td>4.97</td>\n",
       "      <td>F</td>\n",
       "      <td>36.0788</td>\n",
       "      <td>-81.1781</td>\n",
       "      <td>3495</td>\n",
       "      <td>1988-03-09</td>\n",
       "      <td>36.011293</td>\n",
       "      <td>-82.048315</td>\n",
       "      <td>0</td>\n",
       "      <td>-0.662108</td>\n",
       "      <td>-0.688297</td>\n",
       "      <td>(36.011293, -82.048315)</td>\n",
       "      <td>(36.0788, -81.1781)</td>\n",
       "    </tr>\n",
       "    <tr>\n",
       "      <th>1</th>\n",
       "      <td>2019-01-01 00:00:44</td>\n",
       "      <td>630423337322</td>\n",
       "      <td>grocery_pos</td>\n",
       "      <td>107.23</td>\n",
       "      <td>F</td>\n",
       "      <td>48.8878</td>\n",
       "      <td>-118.2105</td>\n",
       "      <td>149</td>\n",
       "      <td>1978-06-21</td>\n",
       "      <td>49.159047</td>\n",
       "      <td>-118.186462</td>\n",
       "      <td>0</td>\n",
       "      <td>0.321302</td>\n",
       "      <td>0.317631</td>\n",
       "      <td>(49.159047, -118.186462)</td>\n",
       "      <td>(48.8878, -118.2105)</td>\n",
       "    </tr>\n",
       "    <tr>\n",
       "      <th>2</th>\n",
       "      <td>2019-01-01 00:00:51</td>\n",
       "      <td>38859492057661</td>\n",
       "      <td>entertainment</td>\n",
       "      <td>220.11</td>\n",
       "      <td>M</td>\n",
       "      <td>42.1808</td>\n",
       "      <td>-112.2620</td>\n",
       "      <td>4154</td>\n",
       "      <td>1962-01-19</td>\n",
       "      <td>43.150704</td>\n",
       "      <td>-112.154481</td>\n",
       "      <td>0</td>\n",
       "      <td>1.287064</td>\n",
       "      <td>2.872509</td>\n",
       "      <td>(43.150704, -112.154481)</td>\n",
       "      <td>(42.1808, -112.262)</td>\n",
       "    </tr>\n",
       "    <tr>\n",
       "      <th>3</th>\n",
       "      <td>2019-01-01 00:01:16</td>\n",
       "      <td>3534093764340240</td>\n",
       "      <td>gas_transport</td>\n",
       "      <td>45.00</td>\n",
       "      <td>M</td>\n",
       "      <td>46.2306</td>\n",
       "      <td>-112.1138</td>\n",
       "      <td>1939</td>\n",
       "      <td>1967-01-12</td>\n",
       "      <td>47.034331</td>\n",
       "      <td>-112.561071</td>\n",
       "      <td>0</td>\n",
       "      <td>-0.125287</td>\n",
       "      <td>-1.050197</td>\n",
       "      <td>(47.034331, -112.561071)</td>\n",
       "      <td>(46.2306, -112.1138)</td>\n",
       "    </tr>\n",
       "    <tr>\n",
       "      <th>4</th>\n",
       "      <td>2019-01-01 00:03:06</td>\n",
       "      <td>375534208663984</td>\n",
       "      <td>misc_pos</td>\n",
       "      <td>41.96</td>\n",
       "      <td>M</td>\n",
       "      <td>38.4207</td>\n",
       "      <td>-79.4629</td>\n",
       "      <td>99</td>\n",
       "      <td>1986-03-28</td>\n",
       "      <td>38.674999</td>\n",
       "      <td>-78.632459</td>\n",
       "      <td>0</td>\n",
       "      <td>-0.565941</td>\n",
       "      <td>1.312866</td>\n",
       "      <td>(38.674999, -78.632459)</td>\n",
       "      <td>(38.4207, -79.4629)</td>\n",
       "    </tr>\n",
       "  </tbody>\n",
       "</table>\n",
       "</div>"
      ],
      "text/plain": [
       "  trans_date_trans_time            cc_num       category     amt gender  \\\n",
       "0   2019-01-01 00:00:18  2703186189652095       misc_net    4.97      F   \n",
       "1   2019-01-01 00:00:44      630423337322    grocery_pos  107.23      F   \n",
       "2   2019-01-01 00:00:51    38859492057661  entertainment  220.11      M   \n",
       "3   2019-01-01 00:01:16  3534093764340240  gas_transport   45.00      M   \n",
       "4   2019-01-01 00:03:06   375534208663984       misc_pos   41.96      M   \n",
       "\n",
       "       lat      long  city_pop         dob  merch_lat  merch_long  is_fraud  \\\n",
       "0  36.0788  -81.1781      3495  1988-03-09  36.011293  -82.048315         0   \n",
       "1  48.8878 -118.2105       149  1978-06-21  49.159047 -118.186462         0   \n",
       "2  42.1808 -112.2620      4154  1962-01-19  43.150704 -112.154481         0   \n",
       "3  46.2306 -112.1138      1939  1967-01-12  47.034331 -112.561071         0   \n",
       "4  38.4207  -79.4629        99  1986-03-28  38.674999  -78.632459         0   \n",
       "\n",
       "   amt_z_score  cat_z_score               merch_coord            cust_coord  \n",
       "0    -0.662108    -0.688297   (36.011293, -82.048315)   (36.0788, -81.1781)  \n",
       "1     0.321302     0.317631  (49.159047, -118.186462)  (48.8878, -118.2105)  \n",
       "2     1.287064     2.872509  (43.150704, -112.154481)   (42.1808, -112.262)  \n",
       "3    -0.125287    -1.050197  (47.034331, -112.561071)  (46.2306, -112.1138)  \n",
       "4    -0.565941     1.312866   (38.674999, -78.632459)   (38.4207, -79.4629)  "
      ]
     },
     "execution_count": 29,
     "metadata": {},
     "output_type": "execute_result"
    }
   ],
   "source": [
    "data.head()"
   ]
  },
  {
   "cell_type": "code",
   "execution_count": 30,
   "metadata": {
    "id": "tGjzDPZ5QHD2"
   },
   "outputs": [],
   "source": [
    "# geopy.distance.distance((위도1, 경도1), (위도2, 경도2)) : 튜플 형태로 받아서 거리 계산\n",
    "# data['distance'] = data.apply(lambda x: geopy.distance.distance(x['merch_coord'], x['cust_coord']).km, axis=1)"
   ]
  },
  {
   "cell_type": "markdown",
   "metadata": {},
   "source": [
    "#### 코드가 실행된 시간 측정하기"
   ]
  },
  {
   "cell_type": "code",
   "execution_count": 31,
   "metadata": {
    "id": "PNbmGo9hQIxG"
   },
   "outputs": [],
   "source": [
    "import time"
   ]
  },
  {
   "cell_type": "code",
   "execution_count": 32,
   "metadata": {
    "colab": {
     "base_uri": "https://localhost:8080/"
    },
    "executionInfo": {
     "elapsed": 16,
     "status": "ok",
     "timestamp": 1646355386327,
     "user": {
      "displayName": "Sihyun Kwon",
      "photoUrl": "https://lh3.googleusercontent.com/a-/AOh14GjptZBUDXTw-vtetLWoyHScPskSGvFackGU2XKKGA=s64",
      "userId": "08571189456742629112"
     },
     "user_tz": 300
    },
    "id": "P_0S_krcQJj-",
    "outputId": "add2f2e2-43e3-4239-fa44-e986a38dd72d"
   },
   "outputs": [
    {
     "data": {
      "text/plain": [
       "1752563625.7133896"
      ]
     },
     "execution_count": 32,
     "metadata": {},
     "output_type": "execute_result"
    }
   ],
   "source": [
    "time.time()"
   ]
  },
  {
   "cell_type": "code",
   "execution_count": 33,
   "metadata": {
    "colab": {
     "base_uri": "https://localhost:8080/"
    },
    "executionInfo": {
     "elapsed": 498778,
     "status": "ok",
     "timestamp": 1646355885098,
     "user": {
      "displayName": "Sihyun Kwon",
      "photoUrl": "https://lh3.googleusercontent.com/a-/AOh14GjptZBUDXTw-vtetLWoyHScPskSGvFackGU2XKKGA=s64",
      "userId": "08571189456742629112"
     },
     "user_tz": 300
    },
    "id": "ydqQNy7wQKW2",
    "outputId": "7363a0cf-b7e7-456e-bc43-d9fad73a901a"
   },
   "outputs": [
    {
     "name": "stdout",
     "output_type": "stream",
     "text": [
      "243.67602396011353\n"
     ]
    }
   ],
   "source": [
    "start_time = time.time()\n",
    "data['distance'] = data.apply(lambda x: geopy.distance.distance(x['merch_coord'], x['cust_coord']).km, axis=1)\n",
    "end_time = time.time()\n",
    "print(end_time-start_time)"
   ]
  },
  {
   "cell_type": "markdown",
   "metadata": {},
   "source": [
    "#### z-score 구하기"
   ]
  },
  {
   "cell_type": "code",
   "execution_count": 34,
   "metadata": {
    "id": "RIBSZlefQMG4"
   },
   "outputs": [],
   "source": [
    "# cc_num별 거리 정보 계산\n",
    "distance_info = data.groupby('cc_num').agg({'distance': ['mean','std']})['distance'].reset_index()\n",
    "# 데이터 합치기\n",
    "data = data.merge(distance_info, on ='cc_num', how='left')\n",
    "# z-score 계산\n",
    "data['distance_z_score'] = (data['distance'] - data['mean']) / data['std']\n",
    "# 변수 제거\n",
    "data.drop(['mean','std'], axis=1, inplace=True)"
   ]
  },
  {
   "cell_type": "code",
   "execution_count": 35,
   "metadata": {
    "colab": {
     "base_uri": "https://localhost:8080/",
     "height": 337
    },
    "executionInfo": {
     "elapsed": 147,
     "status": "ok",
     "timestamp": 1646356175035,
     "user": {
      "displayName": "Sihyun Kwon",
      "photoUrl": "https://lh3.googleusercontent.com/a-/AOh14GjptZBUDXTw-vtetLWoyHScPskSGvFackGU2XKKGA=s64",
      "userId": "08571189456742629112"
     },
     "user_tz": 300
    },
    "id": "BQ4au3cbeFCd",
    "outputId": "e37272ee-8f4e-4f87-d0db-43f685fce131"
   },
   "outputs": [
    {
     "data": {
      "text/html": [
       "<div>\n",
       "<style scoped>\n",
       "    .dataframe tbody tr th:only-of-type {\n",
       "        vertical-align: middle;\n",
       "    }\n",
       "\n",
       "    .dataframe tbody tr th {\n",
       "        vertical-align: top;\n",
       "    }\n",
       "\n",
       "    .dataframe thead th {\n",
       "        text-align: right;\n",
       "    }\n",
       "</style>\n",
       "<table border=\"1\" class=\"dataframe\">\n",
       "  <thead>\n",
       "    <tr style=\"text-align: right;\">\n",
       "      <th></th>\n",
       "      <th>trans_date_trans_time</th>\n",
       "      <th>cc_num</th>\n",
       "      <th>category</th>\n",
       "      <th>amt</th>\n",
       "      <th>gender</th>\n",
       "      <th>lat</th>\n",
       "      <th>long</th>\n",
       "      <th>city_pop</th>\n",
       "      <th>dob</th>\n",
       "      <th>merch_lat</th>\n",
       "      <th>merch_long</th>\n",
       "      <th>is_fraud</th>\n",
       "      <th>amt_z_score</th>\n",
       "      <th>cat_z_score</th>\n",
       "      <th>merch_coord</th>\n",
       "      <th>cust_coord</th>\n",
       "      <th>distance</th>\n",
       "      <th>distance_z_score</th>\n",
       "    </tr>\n",
       "  </thead>\n",
       "  <tbody>\n",
       "    <tr>\n",
       "      <th>0</th>\n",
       "      <td>2019-01-01 00:00:18</td>\n",
       "      <td>2703186189652095</td>\n",
       "      <td>misc_net</td>\n",
       "      <td>4.97</td>\n",
       "      <td>F</td>\n",
       "      <td>36.0788</td>\n",
       "      <td>-81.1781</td>\n",
       "      <td>3495</td>\n",
       "      <td>1988-03-09</td>\n",
       "      <td>36.011293</td>\n",
       "      <td>-82.048315</td>\n",
       "      <td>0</td>\n",
       "      <td>-0.662108</td>\n",
       "      <td>-0.688297</td>\n",
       "      <td>(36.011293, -82.048315)</td>\n",
       "      <td>(36.0788, -81.1781)</td>\n",
       "      <td>78.773821</td>\n",
       "      <td>0.030974</td>\n",
       "    </tr>\n",
       "    <tr>\n",
       "      <th>1</th>\n",
       "      <td>2019-01-01 00:00:44</td>\n",
       "      <td>630423337322</td>\n",
       "      <td>grocery_pos</td>\n",
       "      <td>107.23</td>\n",
       "      <td>F</td>\n",
       "      <td>48.8878</td>\n",
       "      <td>-118.2105</td>\n",
       "      <td>149</td>\n",
       "      <td>1978-06-21</td>\n",
       "      <td>49.159047</td>\n",
       "      <td>-118.186462</td>\n",
       "      <td>0</td>\n",
       "      <td>0.321302</td>\n",
       "      <td>0.317631</td>\n",
       "      <td>(49.159047, -118.186462)</td>\n",
       "      <td>(48.8878, -118.2105)</td>\n",
       "      <td>30.216618</td>\n",
       "      <td>-1.475224</td>\n",
       "    </tr>\n",
       "    <tr>\n",
       "      <th>2</th>\n",
       "      <td>2019-01-01 00:00:51</td>\n",
       "      <td>38859492057661</td>\n",
       "      <td>entertainment</td>\n",
       "      <td>220.11</td>\n",
       "      <td>M</td>\n",
       "      <td>42.1808</td>\n",
       "      <td>-112.2620</td>\n",
       "      <td>4154</td>\n",
       "      <td>1962-01-19</td>\n",
       "      <td>43.150704</td>\n",
       "      <td>-112.154481</td>\n",
       "      <td>0</td>\n",
       "      <td>1.287064</td>\n",
       "      <td>2.872509</td>\n",
       "      <td>(43.150704, -112.154481)</td>\n",
       "      <td>(42.1808, -112.262)</td>\n",
       "      <td>108.102912</td>\n",
       "      <td>1.160572</td>\n",
       "    </tr>\n",
       "    <tr>\n",
       "      <th>3</th>\n",
       "      <td>2019-01-01 00:01:16</td>\n",
       "      <td>3534093764340240</td>\n",
       "      <td>gas_transport</td>\n",
       "      <td>45.00</td>\n",
       "      <td>M</td>\n",
       "      <td>46.2306</td>\n",
       "      <td>-112.1138</td>\n",
       "      <td>1939</td>\n",
       "      <td>1967-01-12</td>\n",
       "      <td>47.034331</td>\n",
       "      <td>-112.561071</td>\n",
       "      <td>0</td>\n",
       "      <td>-0.125287</td>\n",
       "      <td>-1.050197</td>\n",
       "      <td>(47.034331, -112.561071)</td>\n",
       "      <td>(46.2306, -112.1138)</td>\n",
       "      <td>95.685115</td>\n",
       "      <td>0.818063</td>\n",
       "    </tr>\n",
       "    <tr>\n",
       "      <th>4</th>\n",
       "      <td>2019-01-01 00:03:06</td>\n",
       "      <td>375534208663984</td>\n",
       "      <td>misc_pos</td>\n",
       "      <td>41.96</td>\n",
       "      <td>M</td>\n",
       "      <td>38.4207</td>\n",
       "      <td>-79.4629</td>\n",
       "      <td>99</td>\n",
       "      <td>1986-03-28</td>\n",
       "      <td>38.674999</td>\n",
       "      <td>-78.632459</td>\n",
       "      <td>0</td>\n",
       "      <td>-0.565941</td>\n",
       "      <td>1.312866</td>\n",
       "      <td>(38.674999, -78.632459)</td>\n",
       "      <td>(38.4207, -79.4629)</td>\n",
       "      <td>77.702395</td>\n",
       "      <td>0.064037</td>\n",
       "    </tr>\n",
       "  </tbody>\n",
       "</table>\n",
       "</div>"
      ],
      "text/plain": [
       "  trans_date_trans_time            cc_num       category     amt gender  \\\n",
       "0   2019-01-01 00:00:18  2703186189652095       misc_net    4.97      F   \n",
       "1   2019-01-01 00:00:44      630423337322    grocery_pos  107.23      F   \n",
       "2   2019-01-01 00:00:51    38859492057661  entertainment  220.11      M   \n",
       "3   2019-01-01 00:01:16  3534093764340240  gas_transport   45.00      M   \n",
       "4   2019-01-01 00:03:06   375534208663984       misc_pos   41.96      M   \n",
       "\n",
       "       lat      long  city_pop         dob  merch_lat  merch_long  is_fraud  \\\n",
       "0  36.0788  -81.1781      3495  1988-03-09  36.011293  -82.048315         0   \n",
       "1  48.8878 -118.2105       149  1978-06-21  49.159047 -118.186462         0   \n",
       "2  42.1808 -112.2620      4154  1962-01-19  43.150704 -112.154481         0   \n",
       "3  46.2306 -112.1138      1939  1967-01-12  47.034331 -112.561071         0   \n",
       "4  38.4207  -79.4629        99  1986-03-28  38.674999  -78.632459         0   \n",
       "\n",
       "   amt_z_score  cat_z_score               merch_coord            cust_coord  \\\n",
       "0    -0.662108    -0.688297   (36.011293, -82.048315)   (36.0788, -81.1781)   \n",
       "1     0.321302     0.317631  (49.159047, -118.186462)  (48.8878, -118.2105)   \n",
       "2     1.287064     2.872509  (43.150704, -112.154481)   (42.1808, -112.262)   \n",
       "3    -0.125287    -1.050197  (47.034331, -112.561071)  (46.2306, -112.1138)   \n",
       "4    -0.565941     1.312866   (38.674999, -78.632459)   (38.4207, -79.4629)   \n",
       "\n",
       "     distance  distance_z_score  \n",
       "0   78.773821          0.030974  \n",
       "1   30.216618         -1.475224  \n",
       "2  108.102912          1.160572  \n",
       "3   95.685115          0.818063  \n",
       "4   77.702395          0.064037  "
      ]
     },
     "execution_count": 35,
     "metadata": {},
     "output_type": "execute_result"
    }
   ],
   "source": [
    "data.head()"
   ]
  },
  {
   "cell_type": "markdown",
   "metadata": {},
   "source": [
    "### 11.4.4 나이 구하기"
   ]
  },
  {
   "cell_type": "code",
   "execution_count": 36,
   "metadata": {
    "id": "IezyaPsNQN0o"
   },
   "outputs": [],
   "source": [
    "# 나이 계산(2021년 기준으로 나이 측정)\n",
    "data['age'] = 2021 - pd.to_datetime(data['dob']).dt.year"
   ]
  },
  {
   "cell_type": "code",
   "execution_count": 37,
   "metadata": {
    "id": "HXIHQSO_QRUP"
   },
   "outputs": [],
   "source": [
    "# 불필요한 변수 제거\n",
    "data.drop(['cc_num','lat','long', 'merch_lat', 'merch_long','dob','merch_coord','cust_coord'], axis = 1, inplace=True)"
   ]
  },
  {
   "cell_type": "code",
   "execution_count": 38,
   "metadata": {
    "colab": {
     "base_uri": "https://localhost:8080/",
     "height": 206
    },
    "executionInfo": {
     "elapsed": 195,
     "status": "ok",
     "timestamp": 1646356286946,
     "user": {
      "displayName": "Sihyun Kwon",
      "photoUrl": "https://lh3.googleusercontent.com/a-/AOh14GjptZBUDXTw-vtetLWoyHScPskSGvFackGU2XKKGA=s64",
      "userId": "08571189456742629112"
     },
     "user_tz": 300
    },
    "id": "OXvsmvTde0Zh",
    "outputId": "9687d917-234b-4132-e846-20485581def8"
   },
   "outputs": [
    {
     "data": {
      "text/html": [
       "<div>\n",
       "<style scoped>\n",
       "    .dataframe tbody tr th:only-of-type {\n",
       "        vertical-align: middle;\n",
       "    }\n",
       "\n",
       "    .dataframe tbody tr th {\n",
       "        vertical-align: top;\n",
       "    }\n",
       "\n",
       "    .dataframe thead th {\n",
       "        text-align: right;\n",
       "    }\n",
       "</style>\n",
       "<table border=\"1\" class=\"dataframe\">\n",
       "  <thead>\n",
       "    <tr style=\"text-align: right;\">\n",
       "      <th></th>\n",
       "      <th>trans_date_trans_time</th>\n",
       "      <th>category</th>\n",
       "      <th>amt</th>\n",
       "      <th>gender</th>\n",
       "      <th>city_pop</th>\n",
       "      <th>is_fraud</th>\n",
       "      <th>amt_z_score</th>\n",
       "      <th>cat_z_score</th>\n",
       "      <th>distance</th>\n",
       "      <th>distance_z_score</th>\n",
       "      <th>age</th>\n",
       "    </tr>\n",
       "  </thead>\n",
       "  <tbody>\n",
       "    <tr>\n",
       "      <th>0</th>\n",
       "      <td>2019-01-01 00:00:18</td>\n",
       "      <td>misc_net</td>\n",
       "      <td>4.97</td>\n",
       "      <td>F</td>\n",
       "      <td>3495</td>\n",
       "      <td>0</td>\n",
       "      <td>-0.662108</td>\n",
       "      <td>-0.688297</td>\n",
       "      <td>78.773821</td>\n",
       "      <td>0.030974</td>\n",
       "      <td>33</td>\n",
       "    </tr>\n",
       "    <tr>\n",
       "      <th>1</th>\n",
       "      <td>2019-01-01 00:00:44</td>\n",
       "      <td>grocery_pos</td>\n",
       "      <td>107.23</td>\n",
       "      <td>F</td>\n",
       "      <td>149</td>\n",
       "      <td>0</td>\n",
       "      <td>0.321302</td>\n",
       "      <td>0.317631</td>\n",
       "      <td>30.216618</td>\n",
       "      <td>-1.475224</td>\n",
       "      <td>43</td>\n",
       "    </tr>\n",
       "    <tr>\n",
       "      <th>2</th>\n",
       "      <td>2019-01-01 00:00:51</td>\n",
       "      <td>entertainment</td>\n",
       "      <td>220.11</td>\n",
       "      <td>M</td>\n",
       "      <td>4154</td>\n",
       "      <td>0</td>\n",
       "      <td>1.287064</td>\n",
       "      <td>2.872509</td>\n",
       "      <td>108.102912</td>\n",
       "      <td>1.160572</td>\n",
       "      <td>59</td>\n",
       "    </tr>\n",
       "    <tr>\n",
       "      <th>3</th>\n",
       "      <td>2019-01-01 00:01:16</td>\n",
       "      <td>gas_transport</td>\n",
       "      <td>45.00</td>\n",
       "      <td>M</td>\n",
       "      <td>1939</td>\n",
       "      <td>0</td>\n",
       "      <td>-0.125287</td>\n",
       "      <td>-1.050197</td>\n",
       "      <td>95.685115</td>\n",
       "      <td>0.818063</td>\n",
       "      <td>54</td>\n",
       "    </tr>\n",
       "    <tr>\n",
       "      <th>4</th>\n",
       "      <td>2019-01-01 00:03:06</td>\n",
       "      <td>misc_pos</td>\n",
       "      <td>41.96</td>\n",
       "      <td>M</td>\n",
       "      <td>99</td>\n",
       "      <td>0</td>\n",
       "      <td>-0.565941</td>\n",
       "      <td>1.312866</td>\n",
       "      <td>77.702395</td>\n",
       "      <td>0.064037</td>\n",
       "      <td>35</td>\n",
       "    </tr>\n",
       "  </tbody>\n",
       "</table>\n",
       "</div>"
      ],
      "text/plain": [
       "  trans_date_trans_time       category     amt gender  city_pop  is_fraud  \\\n",
       "0   2019-01-01 00:00:18       misc_net    4.97      F      3495         0   \n",
       "1   2019-01-01 00:00:44    grocery_pos  107.23      F       149         0   \n",
       "2   2019-01-01 00:00:51  entertainment  220.11      M      4154         0   \n",
       "3   2019-01-01 00:01:16  gas_transport   45.00      M      1939         0   \n",
       "4   2019-01-01 00:03:06       misc_pos   41.96      M        99         0   \n",
       "\n",
       "   amt_z_score  cat_z_score    distance  distance_z_score  age  \n",
       "0    -0.662108    -0.688297   78.773821          0.030974   33  \n",
       "1     0.321302     0.317631   30.216618         -1.475224   43  \n",
       "2     1.287064     2.872509  108.102912          1.160572   59  \n",
       "3    -0.125287    -1.050197   95.685115          0.818063   54  \n",
       "4    -0.565941     1.312866   77.702395          0.064037   35  "
      ]
     },
     "execution_count": 38,
     "metadata": {},
     "output_type": "execute_result"
    }
   ],
   "source": [
    "data.head()"
   ]
  },
  {
   "cell_type": "markdown",
   "metadata": {},
   "source": [
    "### 11.4.5 새 변수 만들기"
   ]
  },
  {
   "cell_type": "code",
   "execution_count": 39,
   "metadata": {
    "id": "zR76F9a9QSKf"
   },
   "outputs": [],
   "source": [
    "# object 변수 더미 변수로 변환\n",
    "data = pd.get_dummies(data, columns = ['category','gender'], drop_first = True)"
   ]
  },
  {
   "cell_type": "code",
   "execution_count": 40,
   "metadata": {
    "id": "IHXD1hHvQS5n"
   },
   "outputs": [],
   "source": [
    "# 인덱스 설정\n",
    "data.set_index('trans_date_trans_time', inplace=True)"
   ]
  },
  {
   "cell_type": "code",
   "execution_count": 41,
   "metadata": {
    "colab": {
     "base_uri": "https://localhost:8080/",
     "height": 331
    },
    "executionInfo": {
     "elapsed": 144,
     "status": "ok",
     "timestamp": 1646356371644,
     "user": {
      "displayName": "Sihyun Kwon",
      "photoUrl": "https://lh3.googleusercontent.com/a-/AOh14GjptZBUDXTw-vtetLWoyHScPskSGvFackGU2XKKGA=s64",
      "userId": "08571189456742629112"
     },
     "user_tz": 300
    },
    "id": "UBoYNNFCfImN",
    "outputId": "9ff3748a-de69-4ac0-cff9-df28c186fe68"
   },
   "outputs": [
    {
     "data": {
      "text/html": [
       "<div>\n",
       "<style scoped>\n",
       "    .dataframe tbody tr th:only-of-type {\n",
       "        vertical-align: middle;\n",
       "    }\n",
       "\n",
       "    .dataframe tbody tr th {\n",
       "        vertical-align: top;\n",
       "    }\n",
       "\n",
       "    .dataframe thead th {\n",
       "        text-align: right;\n",
       "    }\n",
       "</style>\n",
       "<table border=\"1\" class=\"dataframe\">\n",
       "  <thead>\n",
       "    <tr style=\"text-align: right;\">\n",
       "      <th></th>\n",
       "      <th>amt</th>\n",
       "      <th>city_pop</th>\n",
       "      <th>is_fraud</th>\n",
       "      <th>amt_z_score</th>\n",
       "      <th>cat_z_score</th>\n",
       "      <th>distance</th>\n",
       "      <th>distance_z_score</th>\n",
       "      <th>age</th>\n",
       "      <th>category_food_dining</th>\n",
       "      <th>category_gas_transport</th>\n",
       "      <th>...</th>\n",
       "      <th>category_health_fitness</th>\n",
       "      <th>category_home</th>\n",
       "      <th>category_kids_pets</th>\n",
       "      <th>category_misc_net</th>\n",
       "      <th>category_misc_pos</th>\n",
       "      <th>category_personal_care</th>\n",
       "      <th>category_shopping_net</th>\n",
       "      <th>category_shopping_pos</th>\n",
       "      <th>category_travel</th>\n",
       "      <th>gender_M</th>\n",
       "    </tr>\n",
       "    <tr>\n",
       "      <th>trans_date_trans_time</th>\n",
       "      <th></th>\n",
       "      <th></th>\n",
       "      <th></th>\n",
       "      <th></th>\n",
       "      <th></th>\n",
       "      <th></th>\n",
       "      <th></th>\n",
       "      <th></th>\n",
       "      <th></th>\n",
       "      <th></th>\n",
       "      <th></th>\n",
       "      <th></th>\n",
       "      <th></th>\n",
       "      <th></th>\n",
       "      <th></th>\n",
       "      <th></th>\n",
       "      <th></th>\n",
       "      <th></th>\n",
       "      <th></th>\n",
       "      <th></th>\n",
       "      <th></th>\n",
       "    </tr>\n",
       "  </thead>\n",
       "  <tbody>\n",
       "    <tr>\n",
       "      <th>2019-01-01 00:00:18</th>\n",
       "      <td>4.97</td>\n",
       "      <td>3495</td>\n",
       "      <td>0</td>\n",
       "      <td>-0.662108</td>\n",
       "      <td>-0.688297</td>\n",
       "      <td>78.773821</td>\n",
       "      <td>0.030974</td>\n",
       "      <td>33</td>\n",
       "      <td>False</td>\n",
       "      <td>False</td>\n",
       "      <td>...</td>\n",
       "      <td>False</td>\n",
       "      <td>False</td>\n",
       "      <td>False</td>\n",
       "      <td>True</td>\n",
       "      <td>False</td>\n",
       "      <td>False</td>\n",
       "      <td>False</td>\n",
       "      <td>False</td>\n",
       "      <td>False</td>\n",
       "      <td>False</td>\n",
       "    </tr>\n",
       "    <tr>\n",
       "      <th>2019-01-01 00:00:44</th>\n",
       "      <td>107.23</td>\n",
       "      <td>149</td>\n",
       "      <td>0</td>\n",
       "      <td>0.321302</td>\n",
       "      <td>0.317631</td>\n",
       "      <td>30.216618</td>\n",
       "      <td>-1.475224</td>\n",
       "      <td>43</td>\n",
       "      <td>False</td>\n",
       "      <td>False</td>\n",
       "      <td>...</td>\n",
       "      <td>False</td>\n",
       "      <td>False</td>\n",
       "      <td>False</td>\n",
       "      <td>False</td>\n",
       "      <td>False</td>\n",
       "      <td>False</td>\n",
       "      <td>False</td>\n",
       "      <td>False</td>\n",
       "      <td>False</td>\n",
       "      <td>False</td>\n",
       "    </tr>\n",
       "    <tr>\n",
       "      <th>2019-01-01 00:00:51</th>\n",
       "      <td>220.11</td>\n",
       "      <td>4154</td>\n",
       "      <td>0</td>\n",
       "      <td>1.287064</td>\n",
       "      <td>2.872509</td>\n",
       "      <td>108.102912</td>\n",
       "      <td>1.160572</td>\n",
       "      <td>59</td>\n",
       "      <td>False</td>\n",
       "      <td>False</td>\n",
       "      <td>...</td>\n",
       "      <td>False</td>\n",
       "      <td>False</td>\n",
       "      <td>False</td>\n",
       "      <td>False</td>\n",
       "      <td>False</td>\n",
       "      <td>False</td>\n",
       "      <td>False</td>\n",
       "      <td>False</td>\n",
       "      <td>False</td>\n",
       "      <td>True</td>\n",
       "    </tr>\n",
       "    <tr>\n",
       "      <th>2019-01-01 00:01:16</th>\n",
       "      <td>45.00</td>\n",
       "      <td>1939</td>\n",
       "      <td>0</td>\n",
       "      <td>-0.125287</td>\n",
       "      <td>-1.050197</td>\n",
       "      <td>95.685115</td>\n",
       "      <td>0.818063</td>\n",
       "      <td>54</td>\n",
       "      <td>False</td>\n",
       "      <td>True</td>\n",
       "      <td>...</td>\n",
       "      <td>False</td>\n",
       "      <td>False</td>\n",
       "      <td>False</td>\n",
       "      <td>False</td>\n",
       "      <td>False</td>\n",
       "      <td>False</td>\n",
       "      <td>False</td>\n",
       "      <td>False</td>\n",
       "      <td>False</td>\n",
       "      <td>True</td>\n",
       "    </tr>\n",
       "    <tr>\n",
       "      <th>2019-01-01 00:03:06</th>\n",
       "      <td>41.96</td>\n",
       "      <td>99</td>\n",
       "      <td>0</td>\n",
       "      <td>-0.565941</td>\n",
       "      <td>1.312866</td>\n",
       "      <td>77.702395</td>\n",
       "      <td>0.064037</td>\n",
       "      <td>35</td>\n",
       "      <td>False</td>\n",
       "      <td>False</td>\n",
       "      <td>...</td>\n",
       "      <td>False</td>\n",
       "      <td>False</td>\n",
       "      <td>False</td>\n",
       "      <td>False</td>\n",
       "      <td>True</td>\n",
       "      <td>False</td>\n",
       "      <td>False</td>\n",
       "      <td>False</td>\n",
       "      <td>False</td>\n",
       "      <td>True</td>\n",
       "    </tr>\n",
       "  </tbody>\n",
       "</table>\n",
       "<p>5 rows × 22 columns</p>\n",
       "</div>"
      ],
      "text/plain": [
       "                          amt  city_pop  is_fraud  amt_z_score  cat_z_score  \\\n",
       "trans_date_trans_time                                                         \n",
       "2019-01-01 00:00:18      4.97      3495         0    -0.662108    -0.688297   \n",
       "2019-01-01 00:00:44    107.23       149         0     0.321302     0.317631   \n",
       "2019-01-01 00:00:51    220.11      4154         0     1.287064     2.872509   \n",
       "2019-01-01 00:01:16     45.00      1939         0    -0.125287    -1.050197   \n",
       "2019-01-01 00:03:06     41.96        99         0    -0.565941     1.312866   \n",
       "\n",
       "                         distance  distance_z_score  age  \\\n",
       "trans_date_trans_time                                      \n",
       "2019-01-01 00:00:18     78.773821          0.030974   33   \n",
       "2019-01-01 00:00:44     30.216618         -1.475224   43   \n",
       "2019-01-01 00:00:51    108.102912          1.160572   59   \n",
       "2019-01-01 00:01:16     95.685115          0.818063   54   \n",
       "2019-01-01 00:03:06     77.702395          0.064037   35   \n",
       "\n",
       "                       category_food_dining  category_gas_transport  ...  \\\n",
       "trans_date_trans_time                                                ...   \n",
       "2019-01-01 00:00:18                   False                   False  ...   \n",
       "2019-01-01 00:00:44                   False                   False  ...   \n",
       "2019-01-01 00:00:51                   False                   False  ...   \n",
       "2019-01-01 00:01:16                   False                    True  ...   \n",
       "2019-01-01 00:03:06                   False                   False  ...   \n",
       "\n",
       "                       category_health_fitness  category_home  \\\n",
       "trans_date_trans_time                                           \n",
       "2019-01-01 00:00:18                      False          False   \n",
       "2019-01-01 00:00:44                      False          False   \n",
       "2019-01-01 00:00:51                      False          False   \n",
       "2019-01-01 00:01:16                      False          False   \n",
       "2019-01-01 00:03:06                      False          False   \n",
       "\n",
       "                       category_kids_pets  category_misc_net  \\\n",
       "trans_date_trans_time                                          \n",
       "2019-01-01 00:00:18                 False               True   \n",
       "2019-01-01 00:00:44                 False              False   \n",
       "2019-01-01 00:00:51                 False              False   \n",
       "2019-01-01 00:01:16                 False              False   \n",
       "2019-01-01 00:03:06                 False              False   \n",
       "\n",
       "                       category_misc_pos  category_personal_care  \\\n",
       "trans_date_trans_time                                              \n",
       "2019-01-01 00:00:18                False                   False   \n",
       "2019-01-01 00:00:44                False                   False   \n",
       "2019-01-01 00:00:51                False                   False   \n",
       "2019-01-01 00:01:16                False                   False   \n",
       "2019-01-01 00:03:06                 True                   False   \n",
       "\n",
       "                       category_shopping_net  category_shopping_pos  \\\n",
       "trans_date_trans_time                                                 \n",
       "2019-01-01 00:00:18                    False                  False   \n",
       "2019-01-01 00:00:44                    False                  False   \n",
       "2019-01-01 00:00:51                    False                  False   \n",
       "2019-01-01 00:01:16                    False                  False   \n",
       "2019-01-01 00:03:06                    False                  False   \n",
       "\n",
       "                       category_travel  gender_M  \n",
       "trans_date_trans_time                             \n",
       "2019-01-01 00:00:18              False     False  \n",
       "2019-01-01 00:00:44              False     False  \n",
       "2019-01-01 00:00:51              False      True  \n",
       "2019-01-01 00:01:16              False      True  \n",
       "2019-01-01 00:03:06              False      True  \n",
       "\n",
       "[5 rows x 22 columns]"
      ]
     },
     "execution_count": 41,
     "metadata": {},
     "output_type": "execute_result"
    }
   ],
   "source": [
    "data.head()"
   ]
  },
  {
   "cell_type": "markdown",
   "metadata": {
    "id": "j-nrkj3fkH9R"
   },
   "source": [
    "## 11.5 모델링 및 평가하기"
   ]
  },
  {
   "cell_type": "code",
   "execution_count": 42,
   "metadata": {
    "id": "hIDhVRsOQUPY"
   },
   "outputs": [],
   "source": [
    "# 특정 날짜를 기준으로 훈련셋과 시험셋을 분리\n",
    "train = data[data.index < '2020-07-01']\n",
    "test = data[data.index >= '2020-07-01']"
   ]
  },
  {
   "cell_type": "code",
   "execution_count": 43,
   "metadata": {
    "colab": {
     "base_uri": "https://localhost:8080/"
    },
    "executionInfo": {
     "elapsed": 4,
     "status": "ok",
     "timestamp": 1644411452883,
     "user": {
      "displayName": "Sihyun Kwon",
      "photoUrl": "https://lh3.googleusercontent.com/a-/AOh14GjptZBUDXTw-vtetLWoyHScPskSGvFackGU2XKKGA=s64",
      "userId": "08571189456742629112"
     },
     "user_tz": 300
    },
    "id": "MV9LM_H5QVZf",
    "outputId": "8b4d5169-e510-4f6c-d8f4-8be8edb6ddfe"
   },
   "outputs": [
    {
     "data": {
      "text/plain": [
       "0.2837738623640543"
      ]
     },
     "execution_count": 43,
     "metadata": {},
     "output_type": "execute_result"
    }
   ],
   "source": [
    "# 시험셋 비율 확인\n",
    "len(test) / len(data)"
   ]
  },
  {
   "cell_type": "code",
   "execution_count": 44,
   "metadata": {
    "id": "OeK7O_MuQWpI"
   },
   "outputs": [],
   "source": [
    "# 종속변수를 분리하여 훈련셋과 시험셋 설정\n",
    "X_train = train.drop('is_fraud', axis = 1)\n",
    "X_test = test.drop('is_fraud', axis = 1)\n",
    "y_train = train['is_fraud']\n",
    "y_test = test['is_fraud']"
   ]
  },
  {
   "cell_type": "code",
   "execution_count": 45,
   "metadata": {},
   "outputs": [
    {
     "name": "stdout",
     "output_type": "stream",
     "text": [
      "Requirement already satisfied: lightgbm in c:\\users\\404-00\\anaconda3\\lib\\site-packages (4.6.0)\n",
      "Requirement already satisfied: numpy>=1.17.0 in c:\\users\\404-00\\anaconda3\\lib\\site-packages (from lightgbm) (1.26.4)\n",
      "Requirement already satisfied: scipy in c:\\users\\404-00\\anaconda3\\lib\\site-packages (from lightgbm) (1.13.1)\n",
      "Note: you may need to restart the kernel to use updated packages.\n"
     ]
    }
   ],
   "source": [
    "pip install lightgbm"
   ]
  },
  {
   "cell_type": "code",
   "execution_count": 46,
   "metadata": {
    "id": "UPGOGmWcQZPw"
   },
   "outputs": [],
   "source": [
    "import lightgbm as lgb"
   ]
  },
  {
   "cell_type": "code",
   "execution_count": 47,
   "metadata": {
    "id": "KE8ZWV1TQbgQ"
   },
   "outputs": [
    {
     "name": "stdout",
     "output_type": "stream",
     "text": [
      "[LightGBM] [Info] Number of positive: 7639, number of negative: 1319094\n",
      "[LightGBM] [Info] Auto-choosing row-wise multi-threading, the overhead of testing was 0.012304 seconds.\n",
      "You can set `force_row_wise=true` to remove the overhead.\n",
      "And if memory is not enough, you can set `force_col_wise=true`.\n",
      "[LightGBM] [Info] Total Bins 1633\n",
      "[LightGBM] [Info] Number of data points in the train set: 1326733, number of used features: 21\n",
      "[LightGBM] [Info] [binary:BoostFromScore]: pavg=0.005758 -> initscore=-5.151434\n",
      "[LightGBM] [Info] Start training from score -5.151434\n"
     ]
    }
   ],
   "source": [
    "# 모델 객체 생성\n",
    "model_1 = lgb.LGBMClassifier(random_state = 100)\n",
    "# 학습\n",
    "model_1.fit(X_train, y_train)\n",
    "# 예측\n",
    "pred_1 = model_1.predict(X_test)"
   ]
  },
  {
   "cell_type": "code",
   "execution_count": 48,
   "metadata": {
    "id": "DtzhQIWakFLX"
   },
   "outputs": [],
   "source": [
    "from sklearn.metrics import accuracy_score, confusion_matrix, classification_report, roc_auc_score"
   ]
  },
  {
   "cell_type": "code",
   "execution_count": 49,
   "metadata": {
    "colab": {
     "base_uri": "https://localhost:8080/"
    },
    "executionInfo": {
     "elapsed": 394,
     "status": "ok",
     "timestamp": 1644411537103,
     "user": {
      "displayName": "Sihyun Kwon",
      "photoUrl": "https://lh3.googleusercontent.com/a-/AOh14GjptZBUDXTw-vtetLWoyHScPskSGvFackGU2XKKGA=s64",
      "userId": "08571189456742629112"
     },
     "user_tz": 300
    },
    "id": "sjzUPiH9kGHh",
    "outputId": "2740173b-e222-4aad-ee66-1085ebd99256"
   },
   "outputs": [
    {
     "data": {
      "text/plain": [
       "0.9971635711989286"
      ]
     },
     "execution_count": 49,
     "metadata": {},
     "output_type": "execute_result"
    }
   ],
   "source": [
    "# 정확도 확인\n",
    "accuracy_score(y_test, pred_1)"
   ]
  },
  {
   "cell_type": "code",
   "execution_count": 50,
   "metadata": {
    "colab": {
     "base_uri": "https://localhost:8080/"
    },
    "executionInfo": {
     "elapsed": 283,
     "status": "ok",
     "timestamp": 1644411591395,
     "user": {
      "displayName": "Sihyun Kwon",
      "photoUrl": "https://lh3.googleusercontent.com/a-/AOh14GjptZBUDXTw-vtetLWoyHScPskSGvFackGU2XKKGA=s64",
      "userId": "08571189456742629112"
     },
     "user_tz": 300
    },
    "id": "sDwUpoFbkMQ5",
    "outputId": "71dcb84f-f6b7-4ea2-899e-da3f1c62083d"
   },
   "outputs": [
    {
     "name": "stdout",
     "output_type": "stream",
     "text": [
      "[[522982    667]\n",
      " [   824   1188]]\n"
     ]
    }
   ],
   "source": [
    "# 혼동 행렬 확인\n",
    "print(confusion_matrix(y_test, pred_1))"
   ]
  },
  {
   "cell_type": "code",
   "execution_count": 51,
   "metadata": {
    "colab": {
     "base_uri": "https://localhost:8080/"
    },
    "executionInfo": {
     "elapsed": 1728,
     "status": "ok",
     "timestamp": 1644411602427,
     "user": {
      "displayName": "Sihyun Kwon",
      "photoUrl": "https://lh3.googleusercontent.com/a-/AOh14GjptZBUDXTw-vtetLWoyHScPskSGvFackGU2XKKGA=s64",
      "userId": "08571189456742629112"
     },
     "user_tz": 300
    },
    "id": "yH3SQTOqkZjB",
    "outputId": "b6f8c3d8-c08a-4218-ebdc-dd699d2417a7"
   },
   "outputs": [
    {
     "name": "stdout",
     "output_type": "stream",
     "text": [
      "              precision    recall  f1-score   support\n",
      "\n",
      "           0       1.00      1.00      1.00    523649\n",
      "           1       0.64      0.59      0.61      2012\n",
      "\n",
      "    accuracy                           1.00    525661\n",
      "   macro avg       0.82      0.79      0.81    525661\n",
      "weighted avg       1.00      1.00      1.00    525661\n",
      "\n"
     ]
    }
   ],
   "source": [
    "# 분류 리포트 확인\n",
    "print(classification_report(y_test, pred_1))"
   ]
  },
  {
   "cell_type": "code",
   "execution_count": 52,
   "metadata": {
    "id": "M9fXb03mkb5B"
   },
   "outputs": [],
   "source": [
    "# 예측(proba(): 0~1사이 소수점 형태)\n",
    "proba_1 = model_1.predict_proba(X_test)"
   ]
  },
  {
   "cell_type": "code",
   "execution_count": 53,
   "metadata": {
    "colab": {
     "base_uri": "https://localhost:8080/"
    },
    "executionInfo": {
     "elapsed": 120,
     "status": "ok",
     "timestamp": 1644411671317,
     "user": {
      "displayName": "Sihyun Kwon",
      "photoUrl": "https://lh3.googleusercontent.com/a-/AOh14GjptZBUDXTw-vtetLWoyHScPskSGvFackGU2XKKGA=s64",
      "userId": "08571189456742629112"
     },
     "user_tz": 300
    },
    "id": "3wl2VUXaksYW",
    "outputId": "42729145-e73e-4546-bb92-44d6d93359de"
   },
   "outputs": [
    {
     "data": {
      "text/plain": [
       "array([[9.99962157e-01, 3.78427633e-05],\n",
       "       [9.99967056e-01, 3.29440932e-05],\n",
       "       [9.99961104e-01, 3.88962459e-05],\n",
       "       ...,\n",
       "       [9.99965101e-01, 3.48987509e-05],\n",
       "       [9.99848915e-01, 1.51085280e-04],\n",
       "       [9.99946348e-01, 5.36517620e-05]])"
      ]
     },
     "execution_count": 53,
     "metadata": {},
     "output_type": "execute_result"
    }
   ],
   "source": [
    "# 예측 결과 출력\n",
    "proba_1"
   ]
  },
  {
   "cell_type": "code",
   "execution_count": 54,
   "metadata": {
    "colab": {
     "base_uri": "https://localhost:8080/"
    },
    "executionInfo": {
     "elapsed": 110,
     "status": "ok",
     "timestamp": 1644411683530,
     "user": {
      "displayName": "Sihyun Kwon",
      "photoUrl": "https://lh3.googleusercontent.com/a-/AOh14GjptZBUDXTw-vtetLWoyHScPskSGvFackGU2XKKGA=s64",
      "userId": "08571189456742629112"
     },
     "user_tz": 300
    },
    "id": "_XnvPEKmktGE",
    "outputId": "cd20f46c-8e16-4881-8984-2a6128ebcb93"
   },
   "outputs": [
    {
     "data": {
      "text/plain": [
       "array([3.78427633e-05, 3.29440932e-05, 3.88962459e-05, ...,\n",
       "       3.48987509e-05, 1.51085280e-04, 5.36517620e-05])"
      ]
     },
     "execution_count": 54,
     "metadata": {},
     "output_type": "execute_result"
    }
   ],
   "source": [
    "# 1에 대한 예측 결과만 출력\n",
    "proba_1[:,1]"
   ]
  },
  {
   "cell_type": "code",
   "execution_count": 55,
   "metadata": {
    "id": "logCXz9vkwFU"
   },
   "outputs": [],
   "source": [
    "# 예측 결과 재설정\n",
    "proba_1 = proba_1[:,1]"
   ]
  },
  {
   "cell_type": "code",
   "execution_count": 56,
   "metadata": {
    "id": "WWHFY_Oikx9O"
   },
   "outputs": [],
   "source": [
    "# 0.2 기준으로 분류\n",
    "proba_int1 = (proba_1 > 0.2).astype('int')\n",
    "# 0.8 기준으로 분류\n",
    "proba_int2 = (proba_1 > 0.8).astype('int')"
   ]
  },
  {
   "cell_type": "code",
   "execution_count": 57,
   "metadata": {
    "colab": {
     "base_uri": "https://localhost:8080/"
    },
    "executionInfo": {
     "elapsed": 236,
     "status": "ok",
     "timestamp": 1644411701354,
     "user": {
      "displayName": "Sihyun Kwon",
      "photoUrl": "https://lh3.googleusercontent.com/a-/AOh14GjptZBUDXTw-vtetLWoyHScPskSGvFackGU2XKKGA=s64",
      "userId": "08571189456742629112"
     },
     "user_tz": 300
    },
    "id": "yXZTx_tJkzod",
    "outputId": "68f73a89-2189-4837-c76d-f9746d4f7731"
   },
   "outputs": [
    {
     "name": "stdout",
     "output_type": "stream",
     "text": [
      "[[522199   1450]\n",
      " [   597   1415]]\n"
     ]
    }
   ],
   "source": [
    "# 혼동 행렬 확인\n",
    "print(confusion_matrix(y_test, proba_int1))"
   ]
  },
  {
   "cell_type": "code",
   "execution_count": 58,
   "metadata": {
    "colab": {
     "base_uri": "https://localhost:8080/"
    },
    "executionInfo": {
     "elapsed": 1548,
     "status": "ok",
     "timestamp": 1644411710842,
     "user": {
      "displayName": "Sihyun Kwon",
      "photoUrl": "https://lh3.googleusercontent.com/a-/AOh14GjptZBUDXTw-vtetLWoyHScPskSGvFackGU2XKKGA=s64",
      "userId": "08571189456742629112"
     },
     "user_tz": 300
    },
    "id": "NiNcub2bk0aO",
    "outputId": "84c19276-7a71-4703-c057-964a93adfac8"
   },
   "outputs": [
    {
     "name": "stdout",
     "output_type": "stream",
     "text": [
      "              precision    recall  f1-score   support\n",
      "\n",
      "           0       1.00      1.00      1.00    523649\n",
      "           1       0.49      0.70      0.58      2012\n",
      "\n",
      "    accuracy                           1.00    525661\n",
      "   macro avg       0.75      0.85      0.79    525661\n",
      "weighted avg       1.00      1.00      1.00    525661\n",
      "\n"
     ]
    }
   ],
   "source": [
    "# 분류 리포트 확인\n",
    "print(classification_report(y_test, proba_int1))"
   ]
  },
  {
   "cell_type": "code",
   "execution_count": 59,
   "metadata": {
    "colab": {
     "base_uri": "https://localhost:8080/"
    },
    "executionInfo": {
     "elapsed": 283,
     "status": "ok",
     "timestamp": 1644411749901,
     "user": {
      "displayName": "Sihyun Kwon",
      "photoUrl": "https://lh3.googleusercontent.com/a-/AOh14GjptZBUDXTw-vtetLWoyHScPskSGvFackGU2XKKGA=s64",
      "userId": "08571189456742629112"
     },
     "user_tz": 300
    },
    "id": "8ZqWZf4Ck2Z1",
    "outputId": "9c00f5e3-b40b-403f-c2c2-c964ce9bd6bf"
   },
   "outputs": [
    {
     "name": "stdout",
     "output_type": "stream",
     "text": [
      "[[523203    446]\n",
      " [   960   1052]]\n"
     ]
    }
   ],
   "source": [
    "# 혼동 행렬 확인\n",
    "print(confusion_matrix(y_test, proba_int2))"
   ]
  },
  {
   "cell_type": "code",
   "execution_count": 60,
   "metadata": {
    "colab": {
     "base_uri": "https://localhost:8080/"
    },
    "executionInfo": {
     "elapsed": 1611,
     "status": "ok",
     "timestamp": 1644411754019,
     "user": {
      "displayName": "Sihyun Kwon",
      "photoUrl": "https://lh3.googleusercontent.com/a-/AOh14GjptZBUDXTw-vtetLWoyHScPskSGvFackGU2XKKGA=s64",
      "userId": "08571189456742629112"
     },
     "user_tz": 300
    },
    "id": "U6kpLmMnlAP-",
    "outputId": "24206b23-d577-4e35-a7e1-34bff469bbed"
   },
   "outputs": [
    {
     "name": "stdout",
     "output_type": "stream",
     "text": [
      "              precision    recall  f1-score   support\n",
      "\n",
      "           0       1.00      1.00      1.00    523649\n",
      "           1       0.70      0.52      0.60      2012\n",
      "\n",
      "    accuracy                           1.00    525661\n",
      "   macro avg       0.85      0.76      0.80    525661\n",
      "weighted avg       1.00      1.00      1.00    525661\n",
      "\n"
     ]
    }
   ],
   "source": [
    "# 분류 리포트 확인\n",
    "print(classification_report(y_test, proba_int2))"
   ]
  },
  {
   "attachments": {
    "ROC_curve.png": {
     "image/png": "[encoded data removed]"
    }
   },
   "cell_type": "markdown",
   "metadata": {},
   "source": [
    "#### ROC 곡선과 AUC\n",
    "이진분류 모델을 평가하는 방법으로, 기준점에 영향을 받지 않기 때문에 여러 모델을 비교할 때 요긴하게 사용됩니다. AUC는 ROC 곡선의 아래 면적을 의미하고, 0.5~1 사이의 값을 지니며 높을수록 좋은 모델입니다.\n",
    "\n",
    "![ROC_curve.png](attachment:ROC_curve.png)"
   ]
  },
  {
   "cell_type": "code",
   "execution_count": 61,
   "metadata": {
    "colab": {
     "base_uri": "https://localhost:8080/"
    },
    "executionInfo": {
     "elapsed": 432,
     "status": "ok",
     "timestamp": 1644412250944,
     "user": {
      "displayName": "Sihyun Kwon",
      "photoUrl": "https://lh3.googleusercontent.com/a-/AOh14GjptZBUDXTw-vtetLWoyHScPskSGvFackGU2XKKGA=s64",
      "userId": "08571189456742629112"
     },
     "user_tz": 300
    },
    "id": "AVJfTvY1lA7f",
    "outputId": "b2757dc2-fbb6-4661-cc26-1c52aa4acd47"
   },
   "outputs": [
    {
     "data": {
      "text/plain": [
       "0.936830319432211"
      ]
     },
     "execution_count": 61,
     "metadata": {},
     "output_type": "execute_result"
    }
   ],
   "source": [
    "# AUC 확인\n",
    "roc_auc_score(y_test, proba_1)"
   ]
  },
  {
   "cell_type": "markdown",
   "metadata": {
    "id": "0otb9Ta8m6in"
   },
   "source": [
    "## 11.6 하이퍼파라미터 튜닝 : 랜덤 그리드 서치"
   ]
  },
  {
   "cell_type": "code",
   "execution_count": 62,
   "metadata": {
    "id": "-8P4A0DZnCP3"
   },
   "outputs": [],
   "source": [
    "from sklearn.model_selection import RandomizedSearchCV"
   ]
  },
  {
   "cell_type": "code",
   "execution_count": 63,
   "metadata": {
    "id": "GPCMNKzUnDRw"
   },
   "outputs": [],
   "source": [
    "params = {\n",
    "          'n_estimators': [100, 500, 1000],  # 반복 횟수\n",
    "          'learning_rate': [0.01, 0.05, 0.1, 0.3],  # 러닝 레이트\n",
    "          'lambda_l1': [0,10,20,30,50],  # L1 정규화\n",
    "          'lambda_l2': [0,10,20,30,50],  # L2 정규화\n",
    "          'max_depth': [5,10,15,20],  # 최대 깊이\n",
    "          'subsample': [0.6, 0.8, 1]}  # 서브샘플 비율"
   ]
  },
  {
   "cell_type": "markdown",
   "metadata": {},
   "source": [
    "##### L1 정규화와 L2 정규화\n",
    "둘 다 매개변수에 패널티를 가해서 그 영향력을 감소시키는 방법으로, 오버피팅을 방지하는 목적으로 쓰입니다. \n",
    "- L1 정규화 : 손실 함수에 절대값 항을 추가하여 가중치의 절대 크기 합을 최소화하는 방식으로 규제  \n",
    "  - 너무 많은 가중치를 0으로 만들 수 있어 모델의 정확성이 떨어질 수 있음 \n",
    "  - 몇 개의 중요 변수만 선택하기 때문에 정보 손실의 가능성 존재  \n",
    "  - 중요한 것들만 빼고 0으로 만들어버리기 때문에 특성 선택에 유리(피처 셀렉션 효과) \n",
    "\n",
    "- L2 정규화 : 손실 함수에 가중치의 제곱합을 추가하여 모델의 가중치가 커지는 것을 규제  \n",
    "  - 가중치 값을 0에 가깝게 줄이지만, 완전히 0으로 만드는 것이 아님  \n",
    "  - 모든 특성을 보존하면서 가중치를 조절  \n",
    "  - 특성 선택보다  모델의 안정성에 유리"
   ]
  },
  {
   "cell_type": "code",
   "execution_count": 64,
   "metadata": {
    "id": "uB3NYD3knEMo"
   },
   "outputs": [],
   "source": [
    "# 모델 객체 생성\n",
    "model_2 = lgb.LGBMClassifier(random_state = 100)\n",
    "# 랜덤 그리드 서치 객체 생성\n",
    "rs = RandomizedSearchCV(model_2, param_distributions=params, n_iter= 30, scoring = 'roc_auc', random_state=100, n_jobs=-1)"
   ]
  },
  {
   "cell_type": "code",
   "execution_count": 65,
   "metadata": {
    "colab": {
     "base_uri": "https://localhost:8080/"
    },
    "executionInfo": {
     "elapsed": 6100002,
     "status": "ok",
     "timestamp": 1644418400472,
     "user": {
      "displayName": "Sihyun Kwon",
      "photoUrl": "https://lh3.googleusercontent.com/a-/AOh14GjptZBUDXTw-vtetLWoyHScPskSGvFackGU2XKKGA=s64",
      "userId": "08571189456742629112"
     },
     "user_tz": 300
    },
    "id": "s06jDbBanF-R",
    "outputId": "903d90b5-f364-44e2-cdef-458562c4b339"
   },
   "outputs": [
    {
     "name": "stdout",
     "output_type": "stream",
     "text": [
      "[LightGBM] [Warning] lambda_l1 is set=0, reg_alpha=0.0 will be ignored. Current value: lambda_l1=0\n",
      "[LightGBM] [Warning] lambda_l2 is set=20, reg_lambda=0.0 will be ignored. Current value: lambda_l2=20\n",
      "[LightGBM] [Warning] lambda_l1 is set=0, reg_alpha=0.0 will be ignored. Current value: lambda_l1=0\n",
      "[LightGBM] [Warning] lambda_l2 is set=20, reg_lambda=0.0 will be ignored. Current value: lambda_l2=20\n",
      "[LightGBM] [Info] Number of positive: 7639, number of negative: 1319094\n",
      "[LightGBM] [Info] Auto-choosing row-wise multi-threading, the overhead of testing was 0.007153 seconds.\n",
      "You can set `force_row_wise=true` to remove the overhead.\n",
      "And if memory is not enough, you can set `force_col_wise=true`.\n",
      "[LightGBM] [Info] Total Bins 1633\n",
      "[LightGBM] [Info] Number of data points in the train set: 1326733, number of used features: 21\n",
      "[LightGBM] [Info] [binary:BoostFromScore]: pavg=0.005758 -> initscore=-5.151434\n",
      "[LightGBM] [Info] Start training from score -5.151434\n",
      "1269.6788563728333\n"
     ]
    }
   ],
   "source": [
    "start = time.time()  # 시작시간 설정\n",
    "rs.fit(X_train, y_train)  # 학습\n",
    "print(time.time() - start)  # 총 소요 시간 확인"
   ]
  },
  {
   "cell_type": "code",
   "execution_count": 66,
   "metadata": {
    "colab": {
     "base_uri": "https://localhost:8080/"
    },
    "executionInfo": {
     "elapsed": 253,
     "status": "ok",
     "timestamp": 1644418400715,
     "user": {
      "displayName": "Sihyun Kwon",
      "photoUrl": "https://lh3.googleusercontent.com/a-/AOh14GjptZBUDXTw-vtetLWoyHScPskSGvFackGU2XKKGA=s64",
      "userId": "08571189456742629112"
     },
     "user_tz": 300
    },
    "id": "EhiMZJWlnGuQ",
    "outputId": "5e94aaf8-03a2-41c0-c6ca-7aec95105276"
   },
   "outputs": [
    {
     "data": {
      "text/plain": [
       "{'subsample': 1,\n",
       " 'n_estimators': 1000,\n",
       " 'max_depth': 15,\n",
       " 'learning_rate': 0.05,\n",
       " 'lambda_l2': 20,\n",
       " 'lambda_l1': 0}"
      ]
     },
     "execution_count": 66,
     "metadata": {},
     "output_type": "execute_result"
    }
   ],
   "source": [
    "rs.best_params_  # 최적의 하이퍼파라미터 확인"
   ]
  },
  {
   "cell_type": "code",
   "execution_count": 67,
   "metadata": {
    "colab": {
     "base_uri": "https://localhost:8080/"
    },
    "executionInfo": {
     "elapsed": 28797,
     "status": "ok",
     "timestamp": 1644418740484,
     "user": {
      "displayName": "Sihyun Kwon",
      "photoUrl": "https://lh3.googleusercontent.com/a-/AOh14GjptZBUDXTw-vtetLWoyHScPskSGvFackGU2XKKGA=s64",
      "userId": "08571189456742629112"
     },
     "user_tz": 300
    },
    "id": "R3c3Qe77pvwA",
    "outputId": "b27b838c-f891-4b57-b1de-be26dfc0da1b"
   },
   "outputs": [
    {
     "name": "stdout",
     "output_type": "stream",
     "text": [
      "[LightGBM] [Warning] lambda_l1 is set=0, reg_alpha=0.0 will be ignored. Current value: lambda_l1=0\n",
      "[LightGBM] [Warning] lambda_l2 is set=20, reg_lambda=0.0 will be ignored. Current value: lambda_l2=20\n"
     ]
    },
    {
     "data": {
      "text/plain": [
       "0.9953122884656392"
      ]
     },
     "execution_count": 67,
     "metadata": {},
     "output_type": "execute_result"
    }
   ],
   "source": [
    "rs_proba = rs.predict_proba(X_test)  # 예측\n",
    "roc_auc_score(y_test, rs_proba[:,1])  # 정확도 확인"
   ]
  },
  {
   "cell_type": "code",
   "execution_count": 68,
   "metadata": {
    "colab": {
     "base_uri": "https://localhost:8080/"
    },
    "executionInfo": {
     "elapsed": 409,
     "status": "ok",
     "timestamp": 1644418754273,
     "user": {
      "displayName": "Sihyun Kwon",
      "photoUrl": "https://lh3.googleusercontent.com/a-/AOh14GjptZBUDXTw-vtetLWoyHScPskSGvFackGU2XKKGA=s64",
      "userId": "08571189456742629112"
     },
     "user_tz": 300
    },
    "id": "YlpCw-v9pwo-",
    "outputId": "e40da74d-857b-4143-a583-fefec347083e"
   },
   "outputs": [
    {
     "name": "stdout",
     "output_type": "stream",
     "text": [
      "[[522519   1130]\n",
      " [   504   1508]]\n"
     ]
    }
   ],
   "source": [
    "# 0.2 기준으로 분류\n",
    "rs_proba_int = (rs_proba[:,1] > 0.2).astype('int')\n",
    "# 혼동 행렬 확인\n",
    "print(confusion_matrix(y_test, rs_proba_int))"
   ]
  },
  {
   "cell_type": "code",
   "execution_count": 69,
   "metadata": {
    "colab": {
     "base_uri": "https://localhost:8080/"
    },
    "executionInfo": {
     "elapsed": 1148,
     "status": "ok",
     "timestamp": 1644418755416,
     "user": {
      "displayName": "Sihyun Kwon",
      "photoUrl": "https://lh3.googleusercontent.com/a-/AOh14GjptZBUDXTw-vtetLWoyHScPskSGvFackGU2XKKGA=s64",
      "userId": "08571189456742629112"
     },
     "user_tz": 300
    },
    "id": "RaEk9HoppyNu",
    "outputId": "8dca01a5-f437-418e-e5e3-b3525b3285df"
   },
   "outputs": [
    {
     "name": "stdout",
     "output_type": "stream",
     "text": [
      "              precision    recall  f1-score   support\n",
      "\n",
      "           0       1.00      1.00      1.00    523649\n",
      "           1       0.57      0.75      0.65      2012\n",
      "\n",
      "    accuracy                           1.00    525661\n",
      "   macro avg       0.79      0.87      0.82    525661\n",
      "weighted avg       1.00      1.00      1.00    525661\n",
      "\n"
     ]
    }
   ],
   "source": [
    "# 분류 리포트 확인\n",
    "print(classification_report(y_test, rs_proba_int))"
   ]
  },
  {
   "cell_type": "markdown",
   "metadata": {
    "id": "mXtqZV9Lpzka"
   },
   "source": [
    "## 11.7 LightGBM의 train() 함수 사용하기"
   ]
  },
  {
   "cell_type": "code",
   "execution_count": 70,
   "metadata": {
    "id": "rqpZCPDzp3un"
   },
   "outputs": [],
   "source": [
    "train = data[data.index < '2020-01-01']  # 훈련셋 설정\n",
    "val = data[(data.index >= '2020-01-01') & (data.index < '2020-07-01')]  # 검증셋 설정\n",
    "test = data[data.index >= '2020-07-01']  # 시험셋 설정"
   ]
  },
  {
   "cell_type": "code",
   "execution_count": 71,
   "metadata": {
    "id": "1_gchR1yp5nQ"
   },
   "outputs": [],
   "source": [
    "# 각 셋에서 독립변수와 종속변수 분리\n",
    "X_train = train.drop('is_fraud', axis = 1)\n",
    "X_val = val.drop('is_fraud', axis = 1)\n",
    "X_test = test.drop('is_fraud', axis = 1)\n",
    "y_train = train['is_fraud']\n",
    "y_val = val['is_fraud']\n",
    "y_test = test['is_fraud']"
   ]
  },
  {
   "cell_type": "code",
   "execution_count": 72,
   "metadata": {
    "id": "F-zudv6Dp66z"
   },
   "outputs": [],
   "source": [
    "# 모델링에 사용되는 훈련셋과 검증셋의 데이터 타입 변환\n",
    "d_train = lgb.Dataset(X_train, label=y_train)\n",
    "d_val = lgb.Dataset(X_val, label=y_val)"
   ]
  },
  {
   "cell_type": "code",
   "execution_count": 73,
   "metadata": {
    "id": "vbaf60m_p8Ot"
   },
   "outputs": [],
   "source": [
    "params_set = rs.best_params_  # 최적의 파라미터 설정\n",
    "params_set['metrics'] = 'auc'  # 평가 기준 추가"
   ]
  },
  {
   "cell_type": "code",
   "execution_count": 74,
   "metadata": {
    "colab": {
     "base_uri": "https://localhost:8080/"
    },
    "executionInfo": {
     "elapsed": 6,
     "status": "ok",
     "timestamp": 1644418800901,
     "user": {
      "displayName": "Sihyun Kwon",
      "photoUrl": "https://lh3.googleusercontent.com/a-/AOh14GjptZBUDXTw-vtetLWoyHScPskSGvFackGU2XKKGA=s64",
      "userId": "08571189456742629112"
     },
     "user_tz": 300
    },
    "id": "dT9F59W-p9NY",
    "outputId": "59a87a2a-8286-4fee-fa5e-10135ea0fff2"
   },
   "outputs": [
    {
     "data": {
      "text/plain": [
       "{'subsample': 1,\n",
       " 'n_estimators': 1000,\n",
       " 'max_depth': 15,\n",
       " 'learning_rate': 0.05,\n",
       " 'lambda_l2': 20,\n",
       " 'lambda_l1': 0,\n",
       " 'metrics': 'auc'}"
      ]
     },
     "execution_count": 74,
     "metadata": {},
     "output_type": "execute_result"
    }
   ],
   "source": [
    "params_set  # 하이퍼파라미터 확인"
   ]
  },
  {
   "cell_type": "code",
   "execution_count": 75,
   "metadata": {
    "colab": {
     "base_uri": "https://localhost:8080/"
    },
    "executionInfo": {
     "elapsed": 25929,
     "status": "ok",
     "timestamp": 1644418827208,
     "user": {
      "displayName": "Sihyun Kwon",
      "photoUrl": "https://lh3.googleusercontent.com/a-/AOh14GjptZBUDXTw-vtetLWoyHScPskSGvFackGU2XKKGA=s64",
      "userId": "08571189456742629112"
     },
     "user_tz": 300
    },
    "id": "h-ftMQBdp90w",
    "outputId": "351afc81-a66b-4326-81a9-ac7ba469f30c"
   },
   "outputs": [
    {
     "name": "stdout",
     "output_type": "stream",
     "text": [
      "[LightGBM] [Warning] Provided parameters constrain tree depth (max_depth=15) without explicitly setting 'num_leaves'. This can lead to underfitting. To resolve this warning, pass 'num_leaves' (<=32768) in params. Alternatively, pass (max_depth=-1) and just use 'num_leaves' to constrain model complexity.\n",
      "[LightGBM] [Warning] Provided parameters constrain tree depth (max_depth=15) without explicitly setting 'num_leaves'. This can lead to underfitting. To resolve this warning, pass 'num_leaves' (<=32768) in params. Alternatively, pass (max_depth=-1) and just use 'num_leaves' to constrain model complexity.\n",
      "[LightGBM] [Info] Auto-choosing row-wise multi-threading, the overhead of testing was 0.004858 seconds.\n",
      "You can set `force_row_wise=true` to remove the overhead.\n",
      "And if memory is not enough, you can set `force_col_wise=true`.\n",
      "[LightGBM] [Info] Total Bins 1633\n",
      "[LightGBM] [Info] Number of data points in the train set: 924850, number of used features: 21\n",
      "[LightGBM] [Warning] Provided parameters constrain tree depth (max_depth=15) without explicitly setting 'num_leaves'. This can lead to underfitting. To resolve this warning, pass 'num_leaves' (<=32768) in params. Alternatively, pass (max_depth=-1) and just use 'num_leaves' to constrain model complexity.\n",
      "[LightGBM] [Info] Start training from score 0.005644\n",
      "Training until validation scores don't improve for 100 rounds\n",
      "[100]\tvalid_0's auc: 0.97237\n",
      "[200]\tvalid_0's auc: 0.988574\n",
      "[300]\tvalid_0's auc: 0.993031\n",
      "[400]\tvalid_0's auc: 0.992582\n",
      "Early stopping, best iteration is:\n",
      "[327]\tvalid_0's auc: 0.993459\n"
     ]
    }
   ],
   "source": [
    "# train()함수로 훈련하고 그 결과를 model_3에 저장\n",
    "# model_3 = lgb.train(params_set, d_train, valid_sets=[d_val], early_stopping_rounds=100,verbose_eval=100)\n",
    "model_3 = lgb.train(params_set, d_train, valid_sets=[d_val], \n",
    "                    callbacks=[\n",
    "                        lgb.early_stopping(stopping_rounds=100),  # 학습 시간 제한\n",
    "                        lgb.log_evaluation(period=100)  # 출력물을 특정 간격으로 보여줌\n",
    "                        ]\n",
    "                    )"
   ]
  },
  {
   "cell_type": "code",
   "execution_count": 76,
   "metadata": {
    "id": "hehKYm-Zp-cZ"
   },
   "outputs": [],
   "source": [
    "pred_3 = model_3.predict(X_test)  # 예측"
   ]
  },
  {
   "cell_type": "code",
   "execution_count": 77,
   "metadata": {
    "colab": {
     "base_uri": "https://localhost:8080/"
    },
    "executionInfo": {
     "elapsed": 157,
     "status": "ok",
     "timestamp": 1644418830494,
     "user": {
      "displayName": "Sihyun Kwon",
      "photoUrl": "https://lh3.googleusercontent.com/a-/AOh14GjptZBUDXTw-vtetLWoyHScPskSGvFackGU2XKKGA=s64",
      "userId": "08571189456742629112"
     },
     "user_tz": 300
    },
    "id": "C3O8vtePqALw",
    "outputId": "4db360e4-e20a-4b80-9082-46439c6357a8"
   },
   "outputs": [
    {
     "data": {
      "text/plain": [
       "0.991352108964131"
      ]
     },
     "execution_count": 77,
     "metadata": {},
     "output_type": "execute_result"
    }
   ],
   "source": [
    "roc_auc_score(y_test, pred_3)  # 정확도 확인"
   ]
  },
  {
   "cell_type": "code",
   "execution_count": 78,
   "metadata": {
    "colab": {
     "base_uri": "https://localhost:8080/",
     "height": 549
    },
    "executionInfo": {
     "elapsed": 505,
     "status": "ok",
     "timestamp": 1644418830996,
     "user": {
      "displayName": "Sihyun Kwon",
      "photoUrl": "https://lh3.googleusercontent.com/a-/AOh14GjptZBUDXTw-vtetLWoyHScPskSGvFackGU2XKKGA=s64",
      "userId": "08571189456742629112"
     },
     "user_tz": 300
    },
    "id": "15B-5ypmqA3I",
    "outputId": "d6e3104b-3312-4208-addb-a63206e34024"
   },
   "outputs": [
    {
     "data": {
      "image/png": "[encoded data removed]",
      "text/plain": [
       "<Figure size 2000x1000 with 1 Axes>"
      ]
     },
     "metadata": {},
     "output_type": "display_data"
    }
   ],
   "source": [
    "feature_imp = pd.DataFrame({'feature_name': X_train.columns, 'importance': model_1.feature_importances_}).sort_values('importance', ascending = False)\n",
    "plt.figure(figsize=(20, 10))\n",
    "sns.barplot(x=\"importance\", y=\"feature_name\", data=feature_imp.head(10))\n",
    "plt.show()"
   ]
  },
  {
   "cell_type": "code",
   "execution_count": 79,
   "metadata": {
    "colab": {
     "base_uri": "https://localhost:8080/",
     "height": 549
    },
    "executionInfo": {
     "elapsed": 173,
     "status": "ok",
     "timestamp": 1644418831165,
     "user": {
      "displayName": "Sihyun Kwon",
      "photoUrl": "https://lh3.googleusercontent.com/a-/AOh14GjptZBUDXTw-vtetLWoyHScPskSGvFackGU2XKKGA=s64",
      "userId": "08571189456742629112"
     },
     "user_tz": 300
    },
    "id": "vP5seRdGqB84",
    "outputId": "026a5e8d-f747-49f2-85c7-0be1dde982dd"
   },
   "outputs": [
    {
     "data": {
      "image/png": "[encoded data removed]",
      "text/plain": [
       "<Figure size 2000x1000 with 1 Axes>"
      ]
     },
     "metadata": {},
     "output_type": "display_data"
    }
   ],
   "source": [
    "feature_imp_3 = pd.DataFrame(sorted(zip(model_3.feature_importance(), X_train.columns)), columns=['Value','Feature'])  # 중요 변수 정리\n",
    "plt.figure(figsize=(20, 10))\n",
    "sns.barplot(x=\"importance\", y=\"feature_name\", data=feature_imp.head(10))\n",
    "plt.show()"
   ]
  },
  {
   "cell_type": "code",
   "execution_count": null,
   "metadata": {},
   "outputs": [],
   "source": []
  }
 ],
 "metadata": {
  "colab": {
   "authorship_tag": "ABX9TyPGgXwqZ7s9AVNiupOr5t9h",
   "collapsed_sections": [],
   "name": "11_LightGBM.ipynb",
   "provenance": []
  },
  "kernelspec": {
   "display_name": "Python (base)",
   "language": "python",
   "name": "base"
  },
  "language_info": {
   "codemirror_mode": {
    "name": "ipython",
    "version": 3
   },
   "file_extension": ".py",
   "mimetype": "text/x-python",
   "name": "python",
   "nbconvert_exporter": "python",
   "pygments_lexer": "ipython3",
   "version": "3.12.7"
  }
 },
 "nbformat": 4,
 "nbformat_minor": 4
}
