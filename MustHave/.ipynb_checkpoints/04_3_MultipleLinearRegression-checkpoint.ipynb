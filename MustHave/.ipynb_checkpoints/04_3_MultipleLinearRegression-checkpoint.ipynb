{
 "cells": [
  {
   "cell_type": "markdown",
   "metadata": {
    "id": "aLHW210ewagt"
   },
   "source": [
    "## 필요한 module import"
   ]
  },
  {
   "cell_type": "code",
   "execution_count": 1,
   "metadata": {
    "executionInfo": {
     "elapsed": 8618,
     "status": "ok",
     "timestamp": 1745115187022,
     "user": {
      "displayName": "JUNGWOON AN",
      "userId": "18046724802149141730"
     },
     "user_tz": -540
    },
    "id": "2bIudWBefrzM"
   },
   "outputs": [],
   "source": [
    "# 필요한 module import\n",
    "import numpy as np\n",
    "import pandas as pd\n",
    "import matplotlib.pyplot as plt\n",
    "\n",
    "# Model\n",
    "from tensorflow.keras.models import Sequential\n",
    "from tensorflow.keras.layers import Flatten, Dense\n",
    "from tensorflow.keras.optimizers import SGD"
   ]
  },
  {
   "cell_type": "markdown",
   "metadata": {
    "id": "QtC_7LYFwewc"
   },
   "source": [
    "## 데이터 로딩 및 전처리"
   ]
  },
  {
   "cell_type": "code",
   "execution_count": 2,
   "metadata": {
    "colab": {
     "base_uri": "https://localhost:8080/",
     "height": 423
    },
    "executionInfo": {
     "elapsed": 73,
     "status": "ok",
     "timestamp": 1745115187094,
     "user": {
      "displayName": "JUNGWOON AN",
      "userId": "18046724802149141730"
     },
     "user_tz": -540
    },
    "id": "sL7KC5xGvLlQ",
    "outputId": "37519a73-c181-4bce-9f64-2d3d12ab1bad"
   },
   "outputs": [
    {
     "data": {
      "text/html": [
       "<div>\n",
       "<style scoped>\n",
       "    .dataframe tbody tr th:only-of-type {\n",
       "        vertical-align: middle;\n",
       "    }\n",
       "\n",
       "    .dataframe tbody tr th {\n",
       "        vertical-align: top;\n",
       "    }\n",
       "\n",
       "    .dataframe thead th {\n",
       "        text-align: right;\n",
       "    }\n",
       "</style>\n",
       "<table border=\"1\" class=\"dataframe\">\n",
       "  <thead>\n",
       "    <tr style=\"text-align: right;\">\n",
       "      <th></th>\n",
       "      <th>Ozone</th>\n",
       "      <th>Solar.R</th>\n",
       "      <th>Wind</th>\n",
       "      <th>Temp</th>\n",
       "      <th>Month</th>\n",
       "      <th>Day</th>\n",
       "    </tr>\n",
       "  </thead>\n",
       "  <tbody>\n",
       "    <tr>\n",
       "      <th>0</th>\n",
       "      <td>41.0</td>\n",
       "      <td>190.0</td>\n",
       "      <td>7.4</td>\n",
       "      <td>67</td>\n",
       "      <td>5</td>\n",
       "      <td>1</td>\n",
       "    </tr>\n",
       "    <tr>\n",
       "      <th>1</th>\n",
       "      <td>36.0</td>\n",
       "      <td>118.0</td>\n",
       "      <td>8.0</td>\n",
       "      <td>72</td>\n",
       "      <td>5</td>\n",
       "      <td>2</td>\n",
       "    </tr>\n",
       "    <tr>\n",
       "      <th>2</th>\n",
       "      <td>12.0</td>\n",
       "      <td>149.0</td>\n",
       "      <td>12.6</td>\n",
       "      <td>74</td>\n",
       "      <td>5</td>\n",
       "      <td>3</td>\n",
       "    </tr>\n",
       "    <tr>\n",
       "      <th>3</th>\n",
       "      <td>18.0</td>\n",
       "      <td>313.0</td>\n",
       "      <td>11.5</td>\n",
       "      <td>62</td>\n",
       "      <td>5</td>\n",
       "      <td>4</td>\n",
       "    </tr>\n",
       "    <tr>\n",
       "      <th>4</th>\n",
       "      <td>NaN</td>\n",
       "      <td>NaN</td>\n",
       "      <td>14.3</td>\n",
       "      <td>56</td>\n",
       "      <td>5</td>\n",
       "      <td>5</td>\n",
       "    </tr>\n",
       "    <tr>\n",
       "      <th>...</th>\n",
       "      <td>...</td>\n",
       "      <td>...</td>\n",
       "      <td>...</td>\n",
       "      <td>...</td>\n",
       "      <td>...</td>\n",
       "      <td>...</td>\n",
       "    </tr>\n",
       "    <tr>\n",
       "      <th>148</th>\n",
       "      <td>30.0</td>\n",
       "      <td>193.0</td>\n",
       "      <td>6.9</td>\n",
       "      <td>70</td>\n",
       "      <td>9</td>\n",
       "      <td>26</td>\n",
       "    </tr>\n",
       "    <tr>\n",
       "      <th>149</th>\n",
       "      <td>NaN</td>\n",
       "      <td>145.0</td>\n",
       "      <td>13.2</td>\n",
       "      <td>77</td>\n",
       "      <td>9</td>\n",
       "      <td>27</td>\n",
       "    </tr>\n",
       "    <tr>\n",
       "      <th>150</th>\n",
       "      <td>14.0</td>\n",
       "      <td>191.0</td>\n",
       "      <td>14.3</td>\n",
       "      <td>75</td>\n",
       "      <td>9</td>\n",
       "      <td>28</td>\n",
       "    </tr>\n",
       "    <tr>\n",
       "      <th>151</th>\n",
       "      <td>18.0</td>\n",
       "      <td>131.0</td>\n",
       "      <td>8.0</td>\n",
       "      <td>76</td>\n",
       "      <td>9</td>\n",
       "      <td>29</td>\n",
       "    </tr>\n",
       "    <tr>\n",
       "      <th>152</th>\n",
       "      <td>20.0</td>\n",
       "      <td>223.0</td>\n",
       "      <td>11.5</td>\n",
       "      <td>68</td>\n",
       "      <td>9</td>\n",
       "      <td>30</td>\n",
       "    </tr>\n",
       "  </tbody>\n",
       "</table>\n",
       "<p>153 rows × 6 columns</p>\n",
       "</div>"
      ],
      "text/plain": [
       "     Ozone  Solar.R  Wind  Temp  Month  Day\n",
       "0     41.0    190.0   7.4    67      5    1\n",
       "1     36.0    118.0   8.0    72      5    2\n",
       "2     12.0    149.0  12.6    74      5    3\n",
       "3     18.0    313.0  11.5    62      5    4\n",
       "4      NaN      NaN  14.3    56      5    5\n",
       "..     ...      ...   ...   ...    ...  ...\n",
       "148   30.0    193.0   6.9    70      9   26\n",
       "149    NaN    145.0  13.2    77      9   27\n",
       "150   14.0    191.0  14.3    75      9   28\n",
       "151   18.0    131.0   8.0    76      9   29\n",
       "152   20.0    223.0  11.5    68      9   30\n",
       "\n",
       "[153 rows x 6 columns]"
      ]
     },
     "metadata": {},
     "output_type": "display_data"
    }
   ],
   "source": [
    "# Raw Data Loading\n",
    "df = pd.read_csv('ozone.csv')\n",
    "display(df)"
   ]
  },
  {
   "cell_type": "code",
   "execution_count": 3,
   "metadata": {
    "colab": {
     "base_uri": "https://localhost:8080/",
     "height": 423
    },
    "executionInfo": {
     "elapsed": 42,
     "status": "ok",
     "timestamp": 1745115187136,
     "user": {
      "displayName": "JUNGWOON AN",
      "userId": "18046724802149141730"
     },
     "user_tz": -540
    },
    "id": "ebwSxrLpvbgk",
    "outputId": "9863c7f0-ca8e-416c-f6c9-720f7fae0e5d"
   },
   "outputs": [
    {
     "data": {
      "text/html": [
       "<div>\n",
       "<style scoped>\n",
       "    .dataframe tbody tr th:only-of-type {\n",
       "        vertical-align: middle;\n",
       "    }\n",
       "\n",
       "    .dataframe tbody tr th {\n",
       "        vertical-align: top;\n",
       "    }\n",
       "\n",
       "    .dataframe thead th {\n",
       "        text-align: right;\n",
       "    }\n",
       "</style>\n",
       "<table border=\"1\" class=\"dataframe\">\n",
       "  <thead>\n",
       "    <tr style=\"text-align: right;\">\n",
       "      <th></th>\n",
       "      <th>Ozone</th>\n",
       "      <th>Solar.R</th>\n",
       "      <th>Wind</th>\n",
       "      <th>Temp</th>\n",
       "    </tr>\n",
       "  </thead>\n",
       "  <tbody>\n",
       "    <tr>\n",
       "      <th>0</th>\n",
       "      <td>41.0</td>\n",
       "      <td>190.0</td>\n",
       "      <td>7.4</td>\n",
       "      <td>67</td>\n",
       "    </tr>\n",
       "    <tr>\n",
       "      <th>1</th>\n",
       "      <td>36.0</td>\n",
       "      <td>118.0</td>\n",
       "      <td>8.0</td>\n",
       "      <td>72</td>\n",
       "    </tr>\n",
       "    <tr>\n",
       "      <th>2</th>\n",
       "      <td>12.0</td>\n",
       "      <td>149.0</td>\n",
       "      <td>12.6</td>\n",
       "      <td>74</td>\n",
       "    </tr>\n",
       "    <tr>\n",
       "      <th>3</th>\n",
       "      <td>18.0</td>\n",
       "      <td>313.0</td>\n",
       "      <td>11.5</td>\n",
       "      <td>62</td>\n",
       "    </tr>\n",
       "    <tr>\n",
       "      <th>4</th>\n",
       "      <td>NaN</td>\n",
       "      <td>NaN</td>\n",
       "      <td>14.3</td>\n",
       "      <td>56</td>\n",
       "    </tr>\n",
       "    <tr>\n",
       "      <th>...</th>\n",
       "      <td>...</td>\n",
       "      <td>...</td>\n",
       "      <td>...</td>\n",
       "      <td>...</td>\n",
       "    </tr>\n",
       "    <tr>\n",
       "      <th>148</th>\n",
       "      <td>30.0</td>\n",
       "      <td>193.0</td>\n",
       "      <td>6.9</td>\n",
       "      <td>70</td>\n",
       "    </tr>\n",
       "    <tr>\n",
       "      <th>149</th>\n",
       "      <td>NaN</td>\n",
       "      <td>145.0</td>\n",
       "      <td>13.2</td>\n",
       "      <td>77</td>\n",
       "    </tr>\n",
       "    <tr>\n",
       "      <th>150</th>\n",
       "      <td>14.0</td>\n",
       "      <td>191.0</td>\n",
       "      <td>14.3</td>\n",
       "      <td>75</td>\n",
       "    </tr>\n",
       "    <tr>\n",
       "      <th>151</th>\n",
       "      <td>18.0</td>\n",
       "      <td>131.0</td>\n",
       "      <td>8.0</td>\n",
       "      <td>76</td>\n",
       "    </tr>\n",
       "    <tr>\n",
       "      <th>152</th>\n",
       "      <td>20.0</td>\n",
       "      <td>223.0</td>\n",
       "      <td>11.5</td>\n",
       "      <td>68</td>\n",
       "    </tr>\n",
       "  </tbody>\n",
       "</table>\n",
       "<p>153 rows × 4 columns</p>\n",
       "</div>"
      ],
      "text/plain": [
       "     Ozone  Solar.R  Wind  Temp\n",
       "0     41.0    190.0   7.4    67\n",
       "1     36.0    118.0   8.0    72\n",
       "2     12.0    149.0  12.6    74\n",
       "3     18.0    313.0  11.5    62\n",
       "4      NaN      NaN  14.3    56\n",
       "..     ...      ...   ...   ...\n",
       "148   30.0    193.0   6.9    70\n",
       "149    NaN    145.0  13.2    77\n",
       "150   14.0    191.0  14.3    75\n",
       "151   18.0    131.0   8.0    76\n",
       "152   20.0    223.0  11.5    68\n",
       "\n",
       "[153 rows x 4 columns]"
      ]
     },
     "metadata": {},
     "output_type": "display_data"
    }
   ],
   "source": [
    "df_1 = df.drop(['Month', 'Day'],\n",
    "               axis=1,  # column축\n",
    "               inplace=False)  # 원본데이터 유지\n",
    "display(df_1)"
   ]
  },
  {
   "cell_type": "markdown",
   "metadata": {
    "id": "cKgQSH80zFwV"
   },
   "source": [
    "- 결측치 처리"
   ]
  },
  {
   "cell_type": "code",
   "execution_count": 4,
   "metadata": {
    "colab": {
     "base_uri": "https://localhost:8080/",
     "height": 209
    },
    "executionInfo": {
     "elapsed": 20,
     "status": "ok",
     "timestamp": 1745115187157,
     "user": {
      "displayName": "JUNGWOON AN",
      "userId": "18046724802149141730"
     },
     "user_tz": -540
    },
    "id": "as8FJ65fwDbA",
    "outputId": "95c2b86a-567a-4847-f6c2-99d531cd4cdf"
   },
   "outputs": [
    {
     "data": {
      "text/plain": [
       "Ozone      37\n",
       "Solar.R     7\n",
       "Wind        0\n",
       "Temp        0\n",
       "dtype: int64"
      ]
     },
     "execution_count": 4,
     "metadata": {},
     "output_type": "execute_result"
    }
   ],
   "source": [
    "# 데이터 전처리 & Feature Engineering\n",
    "# 1. 결측치 처리\n",
    "df_1.isnull().sum()"
   ]
  },
  {
   "cell_type": "code",
   "execution_count": 5,
   "metadata": {
    "colab": {
     "base_uri": "https://localhost:8080/",
     "height": 423
    },
    "executionInfo": {
     "elapsed": 178,
     "status": "ok",
     "timestamp": 1745115187330,
     "user": {
      "displayName": "JUNGWOON AN",
      "userId": "18046724802149141730"
     },
     "user_tz": -540
    },
    "id": "hQxhrFDOxKpm",
    "outputId": "4e51cd75-44a1-4756-de9a-83155fde15b2"
   },
   "outputs": [
    {
     "data": {
      "text/html": [
       "<div>\n",
       "<style scoped>\n",
       "    .dataframe tbody tr th:only-of-type {\n",
       "        vertical-align: middle;\n",
       "    }\n",
       "\n",
       "    .dataframe tbody tr th {\n",
       "        vertical-align: top;\n",
       "    }\n",
       "\n",
       "    .dataframe thead th {\n",
       "        text-align: right;\n",
       "    }\n",
       "</style>\n",
       "<table border=\"1\" class=\"dataframe\">\n",
       "  <thead>\n",
       "    <tr style=\"text-align: right;\">\n",
       "      <th></th>\n",
       "      <th>Ozone</th>\n",
       "      <th>Solar.R</th>\n",
       "      <th>Wind</th>\n",
       "      <th>Temp</th>\n",
       "    </tr>\n",
       "  </thead>\n",
       "  <tbody>\n",
       "    <tr>\n",
       "      <th>0</th>\n",
       "      <td>41.0</td>\n",
       "      <td>190.0</td>\n",
       "      <td>7.4</td>\n",
       "      <td>67</td>\n",
       "    </tr>\n",
       "    <tr>\n",
       "      <th>1</th>\n",
       "      <td>36.0</td>\n",
       "      <td>118.0</td>\n",
       "      <td>8.0</td>\n",
       "      <td>72</td>\n",
       "    </tr>\n",
       "    <tr>\n",
       "      <th>2</th>\n",
       "      <td>12.0</td>\n",
       "      <td>149.0</td>\n",
       "      <td>12.6</td>\n",
       "      <td>74</td>\n",
       "    </tr>\n",
       "    <tr>\n",
       "      <th>3</th>\n",
       "      <td>18.0</td>\n",
       "      <td>313.0</td>\n",
       "      <td>11.5</td>\n",
       "      <td>62</td>\n",
       "    </tr>\n",
       "    <tr>\n",
       "      <th>6</th>\n",
       "      <td>23.0</td>\n",
       "      <td>299.0</td>\n",
       "      <td>8.6</td>\n",
       "      <td>65</td>\n",
       "    </tr>\n",
       "    <tr>\n",
       "      <th>...</th>\n",
       "      <td>...</td>\n",
       "      <td>...</td>\n",
       "      <td>...</td>\n",
       "      <td>...</td>\n",
       "    </tr>\n",
       "    <tr>\n",
       "      <th>147</th>\n",
       "      <td>14.0</td>\n",
       "      <td>20.0</td>\n",
       "      <td>16.6</td>\n",
       "      <td>63</td>\n",
       "    </tr>\n",
       "    <tr>\n",
       "      <th>148</th>\n",
       "      <td>30.0</td>\n",
       "      <td>193.0</td>\n",
       "      <td>6.9</td>\n",
       "      <td>70</td>\n",
       "    </tr>\n",
       "    <tr>\n",
       "      <th>150</th>\n",
       "      <td>14.0</td>\n",
       "      <td>191.0</td>\n",
       "      <td>14.3</td>\n",
       "      <td>75</td>\n",
       "    </tr>\n",
       "    <tr>\n",
       "      <th>151</th>\n",
       "      <td>18.0</td>\n",
       "      <td>131.0</td>\n",
       "      <td>8.0</td>\n",
       "      <td>76</td>\n",
       "    </tr>\n",
       "    <tr>\n",
       "      <th>152</th>\n",
       "      <td>20.0</td>\n",
       "      <td>223.0</td>\n",
       "      <td>11.5</td>\n",
       "      <td>68</td>\n",
       "    </tr>\n",
       "  </tbody>\n",
       "</table>\n",
       "<p>111 rows × 4 columns</p>\n",
       "</div>"
      ],
      "text/plain": [
       "     Ozone  Solar.R  Wind  Temp\n",
       "0     41.0    190.0   7.4    67\n",
       "1     36.0    118.0   8.0    72\n",
       "2     12.0    149.0  12.6    74\n",
       "3     18.0    313.0  11.5    62\n",
       "6     23.0    299.0   8.6    65\n",
       "..     ...      ...   ...   ...\n",
       "147   14.0     20.0  16.6    63\n",
       "148   30.0    193.0   6.9    70\n",
       "150   14.0    191.0  14.3    75\n",
       "151   18.0    131.0   8.0    76\n",
       "152   20.0    223.0  11.5    68\n",
       "\n",
       "[111 rows x 4 columns]"
      ]
     },
     "metadata": {},
     "output_type": "display_data"
    }
   ],
   "source": [
    "# 우리 데이터에 결측치가 존재해요\n",
    "# 결측치 처리 방법 2가지\n",
    "# - 데이터가 많으면 삭제가 가장 좋은 방법입니다.\n",
    "# - 만약 데이터가 충분하지 않으면 imputation(수정)\n",
    "#   => 수정할 때는 데이터가 외곡될 수 있으므로 주의!!!\n",
    "\n",
    "# 결측치 삭제\n",
    "df_2 = df_1.dropna(how='any',\n",
    "                   inplace=False)\n",
    "display(df_2)"
   ]
  },
  {
   "cell_type": "markdown",
   "metadata": {
    "id": "A6G5I_9ezIOU"
   },
   "source": [
    "- 이상치 처리"
   ]
  },
  {
   "cell_type": "code",
   "execution_count": 6,
   "metadata": {
    "colab": {
     "base_uri": "https://localhost:8080/",
     "height": 433
    },
    "executionInfo": {
     "elapsed": 280,
     "status": "ok",
     "timestamp": 1745115187611,
     "user": {
      "displayName": "JUNGWOON AN",
      "userId": "18046724802149141730"
     },
     "user_tz": -540
    },
    "id": "8GJNDaYmyjoO",
    "outputId": "fadc50ae-ac35-4751-af18-9479bfb27608"
   },
   "outputs": [
    {
     "data": {
      "image/png": "[encoded data removed]",
      "text/plain": [
       "<Figure size 640x480 with 1 Axes>"
      ]
     },
     "metadata": {},
     "output_type": "display_data"
    }
   ],
   "source": [
    "# 2. 이상치 처리\n",
    "# Temp에 따른 Ozone 그래프로 확인\n",
    "plt.scatter(df_2['Temp'], df_2['Ozone'])\n",
    "plt.show()"
   ]
  },
  {
   "cell_type": "code",
   "execution_count": 7,
   "metadata": {
    "colab": {
     "base_uri": "https://localhost:8080/",
     "height": 433
    },
    "executionInfo": {
     "elapsed": 162,
     "status": "ok",
     "timestamp": 1745115187774,
     "user": {
      "displayName": "JUNGWOON AN",
      "userId": "18046724802149141730"
     },
     "user_tz": -540
    },
    "id": "fRJY6UgrzeWb",
    "outputId": "da3f4bb6-8a4a-4535-8196-b111c00a9bbf"
   },
   "outputs": [
    {
     "data": {
      "image/png": "[encoded data removed]",
      "text/plain": [
       "<Figure size 640x480 with 1 Axes>"
      ]
     },
     "metadata": {},
     "output_type": "display_data"
    }
   ],
   "source": [
    "# boxplot을 이용하여 Ozone의 이상치를 그래프로 확인\n",
    "plt.boxplot(df_2['Ozone'])\n",
    "plt.show()"
   ]
  },
  {
   "cell_type": "markdown",
   "metadata": {
    "id": "Wya6Qied0HMU"
   },
   "source": [
    "![스크린샷 2025-04-20 102913.png](data:image/png;base64,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)"
   ]
  },
  {
   "cell_type": "code",
   "execution_count": 8,
   "metadata": {
    "colab": {
     "base_uri": "https://localhost:8080/"
    },
    "executionInfo": {
     "elapsed": 63,
     "status": "ok",
     "timestamp": 1745115187838,
     "user": {
      "displayName": "JUNGWOON AN",
      "userId": "18046724802149141730"
     },
     "user_tz": -540
    },
    "id": "lIuQUXC70AvW",
    "outputId": "993ce7c4-11e3-4cc4-d053-b1ca39acfe24"
   },
   "outputs": [
    {
     "name": "stdout",
     "output_type": "stream",
     "text": [
      "[ 41.  36.  12.  18.  23.  19.   8.  16.  11.  14.  18.  14.  34.   6.\n",
      "  30.  11.   1.  11.   4.  32.  23.  45. 115.  37.  29.  71.  39.  23.\n",
      "  21.  37.  20.  12.  13. 135.  49.  32.  64.  40.  77.  97.  97.  85.\n",
      "  10.  27.   7.  48.  35.  61.  79.  63.  16.  80. 108.  20.  52.  82.\n",
      "  50.  64.  59.  39.   9.  16. 122.  89. 110.  44.  28.  65.  22.  59.\n",
      "  23.  31.  44.  21.   9.  45. 168.  73.  76. 118.  84.  85.  96.  78.\n",
      "  73.  91.  47.  32.  20.  23.  21.  24.  44.  21.  28.   9.  13.  46.\n",
      "  18.  13.  24.  16.  13.  23.  36.   7.  14.  30.  14.  18.  20.]\n",
      "[[ 41.]\n",
      " [ 36.]\n",
      " [ 12.]\n",
      " [ 18.]\n",
      " [ 23.]\n",
      " [ 19.]\n",
      " [  8.]\n",
      " [ 16.]\n",
      " [ 11.]\n",
      " [ 14.]\n",
      " [ 18.]\n",
      " [ 14.]\n",
      " [ 34.]\n",
      " [  6.]\n",
      " [ 30.]\n",
      " [ 11.]\n",
      " [  1.]\n",
      " [ 11.]\n",
      " [  4.]\n",
      " [ 32.]\n",
      " [ 23.]\n",
      " [ 45.]\n",
      " [115.]\n",
      " [ 37.]\n",
      " [ 29.]\n",
      " [ 71.]\n",
      " [ 39.]\n",
      " [ 23.]\n",
      " [ 21.]\n",
      " [ 37.]\n",
      " [ 20.]\n",
      " [ 12.]\n",
      " [ 13.]\n",
      " [135.]\n",
      " [ 49.]\n",
      " [ 32.]\n",
      " [ 64.]\n",
      " [ 40.]\n",
      " [ 77.]\n",
      " [ 97.]\n",
      " [ 97.]\n",
      " [ 85.]\n",
      " [ 10.]\n",
      " [ 27.]\n",
      " [  7.]\n",
      " [ 48.]\n",
      " [ 35.]\n",
      " [ 61.]\n",
      " [ 79.]\n",
      " [ 63.]\n",
      " [ 16.]\n",
      " [ 80.]\n",
      " [108.]\n",
      " [ 20.]\n",
      " [ 52.]\n",
      " [ 82.]\n",
      " [ 50.]\n",
      " [ 64.]\n",
      " [ 59.]\n",
      " [ 39.]\n",
      " [  9.]\n",
      " [ 16.]\n",
      " [122.]\n",
      " [ 89.]\n",
      " [110.]\n",
      " [ 44.]\n",
      " [ 28.]\n",
      " [ 65.]\n",
      " [ 22.]\n",
      " [ 59.]\n",
      " [ 23.]\n",
      " [ 31.]\n",
      " [ 44.]\n",
      " [ 21.]\n",
      " [  9.]\n",
      " [ 45.]\n",
      " [168.]\n",
      " [ 73.]\n",
      " [ 76.]\n",
      " [118.]\n",
      " [ 84.]\n",
      " [ 85.]\n",
      " [ 96.]\n",
      " [ 78.]\n",
      " [ 73.]\n",
      " [ 91.]\n",
      " [ 47.]\n",
      " [ 32.]\n",
      " [ 20.]\n",
      " [ 23.]\n",
      " [ 21.]\n",
      " [ 24.]\n",
      " [ 44.]\n",
      " [ 21.]\n",
      " [ 28.]\n",
      " [  9.]\n",
      " [ 13.]\n",
      " [ 46.]\n",
      " [ 18.]\n",
      " [ 13.]\n",
      " [ 24.]\n",
      " [ 16.]\n",
      " [ 13.]\n",
      " [ 23.]\n",
      " [ 36.]\n",
      " [  7.]\n",
      " [ 14.]\n",
      " [ 30.]\n",
      " [ 14.]\n",
      " [ 18.]\n",
      " [ 20.]]\n"
     ]
    }
   ],
   "source": [
    "# 이상치 확인하면 당연히 처리해야 함 =>  정규화에 영향을 미칠 수 있음!!\n",
    "# 하지만 우리 예제에서는 이상치 처리하지 않겠습니다.\n",
    "\n",
    "x_data = df_2.drop('Ozone', axis=1, inplace=False).values\n",
    "t_data = df_2['Ozone'].values\n",
    "print(t_data)\n",
    "\n",
    "t_data = df_2['Ozone'].values.reshape(-1, 1)\n",
    "print(t_data)"
   ]
  },
  {
   "cell_type": "markdown",
   "metadata": {
    "id": "jSQJteOO4Hfs"
   },
   "source": [
    "- 정규화"
   ]
  },
  {
   "cell_type": "code",
   "execution_count": 9,
   "metadata": {
    "colab": {
     "base_uri": "https://localhost:8080/"
    },
    "executionInfo": {
     "elapsed": 45,
     "status": "ok",
     "timestamp": 1745115187884,
     "user": {
      "displayName": "JUNGWOON AN",
      "userId": "18046724802149141730"
     },
     "user_tz": -540
    },
    "id": "CDA7PC1W3h0_",
    "outputId": "03ece214-3964-4eab-e43a-b34c61de1fa4"
   },
   "outputs": [
    {
     "name": "stdout",
     "output_type": "stream",
     "text": [
      "[[0.55963303 0.27717391 0.25      ]\n",
      " [0.33944954 0.30978261 0.375     ]\n",
      " [0.43425076 0.55978261 0.425     ]\n",
      " [0.93577982 0.5        0.125     ]\n",
      " [0.89296636 0.3423913  0.2       ]\n",
      " [0.28134557 0.625      0.05      ]\n",
      " [0.03669725 0.9673913  0.1       ]\n",
      " [0.76146789 0.40217391 0.3       ]\n",
      " [0.86544343 0.375      0.225     ]\n",
      " [0.81651376 0.4673913  0.275     ]\n",
      " [0.17737003 0.5923913  0.025     ]\n",
      " [1.         0.5        0.175     ]\n",
      " [0.91743119 0.52717391 0.225     ]\n",
      " [0.21712538 0.875      0.        ]\n",
      " [0.96330275 0.5        0.275     ]\n",
      " [0.11314985 0.40217391 0.125     ]\n",
      " [0.0030581  0.40217391 0.05      ]\n",
      " [0.95718654 0.77717391 0.4       ]\n",
      " [0.05504587 0.40217391 0.1       ]\n",
      " [0.25993884 0.52717391 0.1       ]\n",
      " [0.01834862 0.52717391 0.25      ]\n",
      " [0.74923547 0.68478261 0.6       ]\n",
      " [0.66055046 0.18478261 0.55      ]\n",
      " [0.83180428 0.27717391 0.475     ]\n",
      " [0.36697248 0.40217391 0.625     ]\n",
      " [0.86850153 0.625      0.825     ]\n",
      " [0.96636086 0.5        0.75      ]\n",
      " [0.43119266 0.30978261 0.625     ]\n",
      " [0.56269113 0.68478261 0.5       ]\n",
      " [0.8470948  1.         0.375     ]\n",
      " [0.09174312 0.375      0.2       ]\n",
      " [0.34556575 0.5        0.4       ]\n",
      " [0.39755352 0.43478261 0.475     ]\n",
      " [0.80122324 0.09782609 0.675     ]\n",
      " [0.73700306 0.375      0.7       ]\n",
      " [0.70030581 0.375      0.6       ]\n",
      " [0.51376147 0.125      0.65      ]\n",
      " [0.93883792 0.4673913  0.65      ]\n",
      " [0.82262997 0.15217391 0.775     ]\n",
      " [0.79510703 0.2173913  0.875     ]\n",
      " [0.81039755 0.18478261 0.875     ]\n",
      " [0.51376147 0.27717391 0.8       ]\n",
      " [0.78593272 0.65217391 0.4       ]\n",
      " [0.51376147 0.68478261 0.6       ]\n",
      " [0.12538226 0.65217391 0.575     ]\n",
      " [0.77370031 0.25       0.6       ]\n",
      " [0.81651376 0.43478261 0.625     ]\n",
      " [0.85015291 0.2173913  0.675     ]\n",
      " [0.55045872 0.15217391 0.75      ]\n",
      " [0.65137615 0.5        0.7       ]\n",
      " [0.         0.25       0.425     ]\n",
      " [0.87767584 0.3423913  0.725     ]\n",
      " [0.66055046 0.30978261 0.7       ]\n",
      " [0.22629969 0.3423913  0.625     ]\n",
      " [0.2293578  0.52717391 0.725     ]\n",
      " [0.62996942 0.27717391 0.775     ]\n",
      " [0.81957187 0.27717391 0.725     ]\n",
      " [0.75229358 0.27717391 0.65      ]\n",
      " [0.75535168 0.375      0.6       ]\n",
      " [0.2324159  0.25       0.6       ]\n",
      " [0.05198777 0.625      0.6       ]\n",
      " [0.21406728 0.27717391 0.625     ]\n",
      " [0.75840979 0.0923913  0.8       ]\n",
      " [0.67889908 0.43478261 0.825     ]\n",
      " [0.6116208  0.30978261 0.825     ]\n",
      " [0.56574924 0.5        0.725     ]\n",
      " [0.81345566 0.5        0.625     ]\n",
      " [0.4587156  0.40217391 0.575     ]\n",
      " [0.19571865 0.43478261 0.5       ]\n",
      " [0.13455657 0.2173913  0.55      ]\n",
      " [0.33027523 0.27717391 0.475     ]\n",
      " [0.72477064 0.4673913  0.525     ]\n",
      " [0.55963303 0.43478261 0.525     ]\n",
      " [0.7706422  0.7173913  0.5       ]\n",
      " [0.08868502 0.65217391 0.375     ]\n",
      " [0.62691131 0.40217391 0.55      ]\n",
      " [0.70642202 0.05978261 0.6       ]\n",
      " [0.63608563 0.30978261 0.725     ]\n",
      " [0.59938838 0.40217391 1.        ]\n",
      " [0.66666667 0.         0.925     ]\n",
      " [0.70336391 0.2173913  0.975     ]\n",
      " [0.55351682 0.2173913  0.925     ]\n",
      " [0.48929664 0.25       0.85      ]\n",
      " [0.58103976 0.15217391 0.875     ]\n",
      " [0.5382263  0.02717391 0.9       ]\n",
      " [0.55657492 0.125      0.9       ]\n",
      " [0.26911315 0.27717391 0.75      ]\n",
      " [0.25993884 0.7173913  0.675     ]\n",
      " [0.74923547 0.4673913  0.575     ]\n",
      " [0.65137615 0.43478261 0.525     ]\n",
      " [0.68195719 0.4673913  0.45      ]\n",
      " [0.7706422  0.40217391 0.4       ]\n",
      " [0.70030581 0.68478261 0.6       ]\n",
      " [0.7706422  0.7173913  0.475     ]\n",
      " [0.70642202 0.2173913  0.5       ]\n",
      " [0.05198777 0.4673913  0.35      ]\n",
      " [0.32110092 0.5        0.35      ]\n",
      " [0.70336391 0.25       0.525     ]\n",
      " [0.66360856 0.625      0.25      ]\n",
      " [0.06116208 0.43478261 0.475     ]\n",
      " [0.70642202 0.43478261 0.275     ]\n",
      " [0.59327217 0.30978261 0.625     ]\n",
      " [0.70642202 0.55978261 0.175     ]\n",
      " [0.02140673 0.375      0.35      ]\n",
      " [0.40366972 0.43478261 0.6       ]\n",
      " [0.12844037 0.43478261 0.3       ]\n",
      " [0.03975535 0.77717391 0.15      ]\n",
      " [0.56880734 0.25       0.325     ]\n",
      " [0.56269113 0.65217391 0.45      ]\n",
      " [0.37920489 0.30978261 0.475     ]\n",
      " [0.66055046 0.5        0.275     ]]\n"
     ]
    }
   ],
   "source": [
    "# 3. 정규화\n",
    "# 모든 feature와 종속변수를 같은 scale로 변환\n",
    "# Min-Max Scaling을 이용\n",
    "\n",
    "from sklearn.preprocessing import MinMaxScaler\n",
    "scaler_x = MinMaxScaler()\n",
    "scaler_t = MinMaxScaler()\n",
    "\n",
    "scaler_x.fit(x_data)\n",
    "scaler_t.fit(t_data)\n",
    "\n",
    "x_data_norm = scaler_x.transform(x_data)\n",
    "t_data_norm = scaler_t.transform(t_data)\n",
    "\n",
    "print(x_data_norm)"
   ]
  },
  {
   "cell_type": "markdown",
   "metadata": {
    "id": "9zdzjkWL50mr"
   },
   "source": [
    "- 모델 구현 및 학습"
   ]
  },
  {
   "cell_type": "code",
   "execution_count": 10,
   "metadata": {
    "colab": {
     "base_uri": "https://localhost:8080/"
    },
    "executionInfo": {
     "elapsed": 9951,
     "status": "ok",
     "timestamp": 1745115197855,
     "user": {
      "displayName": "JUNGWOON AN",
      "userId": "18046724802149141730"
     },
     "user_tz": -540
    },
    "id": "T_izaLTN4NPG",
    "outputId": "65aad738-1e6a-4cad-fa49-bf34f8de4191"
   },
   "outputs": [
    {
     "name": "stdout",
     "output_type": "stream",
     "text": [
      "Epoch 1/100\n"
     ]
    },
    {
     "name": "stderr",
     "output_type": "stream",
     "text": [
      "C:\\Users\\404-00\\anaconda3\\envs\\tfenv\\Lib\\site-packages\\keras\\src\\layers\\reshaping\\flatten.py:37: UserWarning: Do not pass an `input_shape`/`input_dim` argument to a layer. When using Sequential models, prefer using an `Input(shape)` object as the first layer in the model instead.\n",
      "  super().__init__(**kwargs)\n"
     ]
    },
    {
     "name": "stdout",
     "output_type": "stream",
     "text": [
      "\u001b[1m4/4\u001b[0m \u001b[32m━━━━━━━━━━━━━━━━━━━━\u001b[0m\u001b[37m\u001b[0m \u001b[1m0s\u001b[0m 8ms/step - loss: 0.1271  \n",
      "Epoch 2/100\n",
      "\u001b[1m4/4\u001b[0m \u001b[32m━━━━━━━━━━━━━━━━━━━━\u001b[0m\u001b[37m\u001b[0m \u001b[1m0s\u001b[0m 7ms/step - loss: 0.1524 \n",
      "Epoch 3/100\n",
      "\u001b[1m4/4\u001b[0m \u001b[32m━━━━━━━━━━━━━━━━━━━━\u001b[0m\u001b[37m\u001b[0m \u001b[1m0s\u001b[0m 7ms/step - loss: 0.1327 \n",
      "Epoch 4/100\n",
      "\u001b[1m4/4\u001b[0m \u001b[32m━━━━━━━━━━━━━━━━━━━━\u001b[0m\u001b[37m\u001b[0m \u001b[1m0s\u001b[0m 7ms/step - loss: 0.1492 \n",
      "Epoch 5/100\n",
      "\u001b[1m4/4\u001b[0m \u001b[32m━━━━━━━━━━━━━━━━━━━━\u001b[0m\u001b[37m\u001b[0m \u001b[1m0s\u001b[0m 7ms/step - loss: 0.1402 \n",
      "Epoch 6/100\n",
      "\u001b[1m4/4\u001b[0m \u001b[32m━━━━━━━━━━━━━━━━━━━━\u001b[0m\u001b[37m\u001b[0m \u001b[1m0s\u001b[0m 7ms/step - loss: 0.1520 \n",
      "Epoch 7/100\n",
      "\u001b[1m4/4\u001b[0m \u001b[32m━━━━━━━━━━━━━━━━━━━━\u001b[0m\u001b[37m\u001b[0m \u001b[1m0s\u001b[0m 7ms/step - loss: 0.1350 \n",
      "Epoch 8/100\n",
      "\u001b[1m4/4\u001b[0m \u001b[32m━━━━━━━━━━━━━━━━━━━━\u001b[0m\u001b[37m\u001b[0m \u001b[1m0s\u001b[0m 7ms/step - loss: 0.1396 \n",
      "Epoch 9/100\n",
      "\u001b[1m4/4\u001b[0m \u001b[32m━━━━━━━━━━━━━━━━━━━━\u001b[0m\u001b[37m\u001b[0m \u001b[1m0s\u001b[0m 7ms/step - loss: 0.1361 \n",
      "Epoch 10/100\n",
      "\u001b[1m4/4\u001b[0m \u001b[32m━━━━━━━━━━━━━━━━━━━━\u001b[0m\u001b[37m\u001b[0m \u001b[1m0s\u001b[0m 7ms/step - loss: 0.1128 \n",
      "Epoch 11/100\n",
      "\u001b[1m4/4\u001b[0m \u001b[32m━━━━━━━━━━━━━━━━━━━━\u001b[0m\u001b[37m\u001b[0m \u001b[1m0s\u001b[0m 7ms/step - loss: 0.1234 \n",
      "Epoch 12/100\n",
      "\u001b[1m4/4\u001b[0m \u001b[32m━━━━━━━━━━━━━━━━━━━━\u001b[0m\u001b[37m\u001b[0m \u001b[1m0s\u001b[0m 6ms/step - loss: 0.1211 \n",
      "Epoch 13/100\n",
      "\u001b[1m4/4\u001b[0m \u001b[32m━━━━━━━━━━━━━━━━━━━━\u001b[0m\u001b[37m\u001b[0m \u001b[1m0s\u001b[0m 7ms/step - loss: 0.1156 \n",
      "Epoch 14/100\n",
      "\u001b[1m4/4\u001b[0m \u001b[32m━━━━━━━━━━━━━━━━━━━━\u001b[0m\u001b[37m\u001b[0m \u001b[1m0s\u001b[0m 7ms/step - loss: 0.1214 \n",
      "Epoch 15/100\n",
      "\u001b[1m4/4\u001b[0m \u001b[32m━━━━━━━━━━━━━━━━━━━━\u001b[0m\u001b[37m\u001b[0m \u001b[1m0s\u001b[0m 7ms/step - loss: 0.1190 \n",
      "Epoch 16/100\n",
      "\u001b[1m4/4\u001b[0m \u001b[32m━━━━━━━━━━━━━━━━━━━━\u001b[0m\u001b[37m\u001b[0m \u001b[1m0s\u001b[0m 7ms/step - loss: 0.1284 \n",
      "Epoch 17/100\n",
      "\u001b[1m4/4\u001b[0m \u001b[32m━━━━━━━━━━━━━━━━━━━━\u001b[0m\u001b[37m\u001b[0m \u001b[1m0s\u001b[0m 7ms/step - loss: 0.1118 \n",
      "Epoch 18/100\n",
      "\u001b[1m4/4\u001b[0m \u001b[32m━━━━━━━━━━━━━━━━━━━━\u001b[0m\u001b[37m\u001b[0m \u001b[1m0s\u001b[0m 7ms/step - loss: 0.1188 \n",
      "Epoch 19/100\n",
      "\u001b[1m4/4\u001b[0m \u001b[32m━━━━━━━━━━━━━━━━━━━━\u001b[0m\u001b[37m\u001b[0m \u001b[1m0s\u001b[0m 8ms/step - loss: 0.1148 \n",
      "Epoch 20/100\n",
      "\u001b[1m4/4\u001b[0m \u001b[32m━━━━━━━━━━━━━━━━━━━━\u001b[0m\u001b[37m\u001b[0m \u001b[1m0s\u001b[0m 7ms/step - loss: 0.1050 \n",
      "Epoch 21/100\n",
      "\u001b[1m4/4\u001b[0m \u001b[32m━━━━━━━━━━━━━━━━━━━━\u001b[0m\u001b[37m\u001b[0m \u001b[1m0s\u001b[0m 7ms/step - loss: 0.1161 \n",
      "Epoch 22/100\n",
      "\u001b[1m4/4\u001b[0m \u001b[32m━━━━━━━━━━━━━━━━━━━━\u001b[0m\u001b[37m\u001b[0m \u001b[1m0s\u001b[0m 7ms/step - loss: 0.1154 \n",
      "Epoch 23/100\n",
      "\u001b[1m4/4\u001b[0m \u001b[32m━━━━━━━━━━━━━━━━━━━━\u001b[0m\u001b[37m\u001b[0m \u001b[1m0s\u001b[0m 7ms/step - loss: 0.1199 \n",
      "Epoch 24/100\n",
      "\u001b[1m4/4\u001b[0m \u001b[32m━━━━━━━━━━━━━━━━━━━━\u001b[0m\u001b[37m\u001b[0m \u001b[1m0s\u001b[0m 7ms/step - loss: 0.1097 \n",
      "Epoch 25/100\n",
      "\u001b[1m4/4\u001b[0m \u001b[32m━━━━━━━━━━━━━━━━━━━━\u001b[0m\u001b[37m\u001b[0m \u001b[1m0s\u001b[0m 7ms/step - loss: 0.1083 \n",
      "Epoch 26/100\n",
      "\u001b[1m4/4\u001b[0m \u001b[32m━━━━━━━━━━━━━━━━━━━━\u001b[0m\u001b[37m\u001b[0m \u001b[1m0s\u001b[0m 7ms/step - loss: 0.1166 \n",
      "Epoch 27/100\n",
      "\u001b[1m4/4\u001b[0m \u001b[32m━━━━━━━━━━━━━━━━━━━━\u001b[0m\u001b[37m\u001b[0m \u001b[1m0s\u001b[0m 6ms/step - loss: 0.1048 \n",
      "Epoch 28/100\n",
      "\u001b[1m4/4\u001b[0m \u001b[32m━━━━━━━━━━━━━━━━━━━━\u001b[0m\u001b[37m\u001b[0m \u001b[1m0s\u001b[0m 7ms/step - loss: 0.1007 \n",
      "Epoch 29/100\n",
      "\u001b[1m4/4\u001b[0m \u001b[32m━━━━━━━━━━━━━━━━━━━━\u001b[0m\u001b[37m\u001b[0m \u001b[1m0s\u001b[0m 8ms/step - loss: 0.1155 \n",
      "Epoch 30/100\n",
      "\u001b[1m4/4\u001b[0m \u001b[32m━━━━━━━━━━━━━━━━━━━━\u001b[0m\u001b[37m\u001b[0m \u001b[1m0s\u001b[0m 7ms/step - loss: 0.1018 \n",
      "Epoch 31/100\n",
      "\u001b[1m4/4\u001b[0m \u001b[32m━━━━━━━━━━━━━━━━━━━━\u001b[0m\u001b[37m\u001b[0m \u001b[1m0s\u001b[0m 7ms/step - loss: 0.0962 \n",
      "Epoch 32/100\n",
      "\u001b[1m4/4\u001b[0m \u001b[32m━━━━━━━━━━━━━━━━━━━━\u001b[0m\u001b[37m\u001b[0m \u001b[1m0s\u001b[0m 7ms/step - loss: 0.0945 \n",
      "Epoch 33/100\n",
      "\u001b[1m4/4\u001b[0m \u001b[32m━━━━━━━━━━━━━━━━━━━━\u001b[0m\u001b[37m\u001b[0m \u001b[1m0s\u001b[0m 7ms/step - loss: 0.1008 \n",
      "Epoch 34/100\n",
      "\u001b[1m4/4\u001b[0m \u001b[32m━━━━━━━━━━━━━━━━━━━━\u001b[0m\u001b[37m\u001b[0m \u001b[1m0s\u001b[0m 7ms/step - loss: 0.0918 \n",
      "Epoch 35/100\n",
      "\u001b[1m4/4\u001b[0m \u001b[32m━━━━━━━━━━━━━━━━━━━━\u001b[0m\u001b[37m\u001b[0m \u001b[1m0s\u001b[0m 7ms/step - loss: 0.1023 \n",
      "Epoch 36/100\n",
      "\u001b[1m4/4\u001b[0m \u001b[32m━━━━━━━━━━━━━━━━━━━━\u001b[0m\u001b[37m\u001b[0m \u001b[1m0s\u001b[0m 7ms/step - loss: 0.1115 \n",
      "Epoch 37/100\n",
      "\u001b[1m4/4\u001b[0m \u001b[32m━━━━━━━━━━━━━━━━━━━━\u001b[0m\u001b[37m\u001b[0m \u001b[1m0s\u001b[0m 7ms/step - loss: 0.0941 \n",
      "Epoch 38/100\n",
      "\u001b[1m4/4\u001b[0m \u001b[32m━━━━━━━━━━━━━━━━━━━━\u001b[0m\u001b[37m\u001b[0m \u001b[1m0s\u001b[0m 7ms/step - loss: 0.0938 \n",
      "Epoch 39/100\n",
      "\u001b[1m4/4\u001b[0m \u001b[32m━━━━━━━━━━━━━━━━━━━━\u001b[0m\u001b[37m\u001b[0m \u001b[1m0s\u001b[0m 7ms/step - loss: 0.0993 \n",
      "Epoch 40/100\n",
      "\u001b[1m4/4\u001b[0m \u001b[32m━━━━━━━━━━━━━━━━━━━━\u001b[0m\u001b[37m\u001b[0m \u001b[1m0s\u001b[0m 7ms/step - loss: 0.1081 \n",
      "Epoch 41/100\n",
      "\u001b[1m4/4\u001b[0m \u001b[32m━━━━━━━━━━━━━━━━━━━━\u001b[0m\u001b[37m\u001b[0m \u001b[1m0s\u001b[0m 7ms/step - loss: 0.0914 \n",
      "Epoch 42/100\n",
      "\u001b[1m4/4\u001b[0m \u001b[32m━━━━━━━━━━━━━━━━━━━━\u001b[0m\u001b[37m\u001b[0m \u001b[1m0s\u001b[0m 7ms/step - loss: 0.1071 \n",
      "Epoch 43/100\n",
      "\u001b[1m4/4\u001b[0m \u001b[32m━━━━━━━━━━━━━━━━━━━━\u001b[0m\u001b[37m\u001b[0m \u001b[1m0s\u001b[0m 7ms/step - loss: 0.0935 \n",
      "Epoch 44/100\n",
      "\u001b[1m4/4\u001b[0m \u001b[32m━━━━━━━━━━━━━━━━━━━━\u001b[0m\u001b[37m\u001b[0m \u001b[1m0s\u001b[0m 7ms/step - loss: 0.1133 \n",
      "Epoch 45/100\n",
      "\u001b[1m4/4\u001b[0m \u001b[32m━━━━━━━━━━━━━━━━━━━━\u001b[0m\u001b[37m\u001b[0m \u001b[1m0s\u001b[0m 7ms/step - loss: 0.0979 \n",
      "Epoch 46/100\n",
      "\u001b[1m4/4\u001b[0m \u001b[32m━━━━━━━━━━━━━━━━━━━━\u001b[0m\u001b[37m\u001b[0m \u001b[1m0s\u001b[0m 7ms/step - loss: 0.0886 \n",
      "Epoch 47/100\n",
      "\u001b[1m4/4\u001b[0m \u001b[32m━━━━━━━━━━━━━━━━━━━━\u001b[0m\u001b[37m\u001b[0m \u001b[1m0s\u001b[0m 7ms/step - loss: 0.0899 \n",
      "Epoch 48/100\n",
      "\u001b[1m4/4\u001b[0m \u001b[32m━━━━━━━━━━━━━━━━━━━━\u001b[0m\u001b[37m\u001b[0m \u001b[1m0s\u001b[0m 7ms/step - loss: 0.0825 \n",
      "Epoch 49/100\n",
      "\u001b[1m4/4\u001b[0m \u001b[32m━━━━━━━━━━━━━━━━━━━━\u001b[0m\u001b[37m\u001b[0m \u001b[1m0s\u001b[0m 7ms/step - loss: 0.0971 \n",
      "Epoch 50/100\n",
      "\u001b[1m4/4\u001b[0m \u001b[32m━━━━━━━━━━━━━━━━━━━━\u001b[0m\u001b[37m\u001b[0m \u001b[1m0s\u001b[0m 7ms/step - loss: 0.0864 \n",
      "Epoch 51/100\n",
      "\u001b[1m4/4\u001b[0m \u001b[32m━━━━━━━━━━━━━━━━━━━━\u001b[0m\u001b[37m\u001b[0m \u001b[1m0s\u001b[0m 8ms/step - loss: 0.0864 \n",
      "Epoch 52/100\n",
      "\u001b[1m4/4\u001b[0m \u001b[32m━━━━━━━━━━━━━━━━━━━━\u001b[0m\u001b[37m\u001b[0m \u001b[1m0s\u001b[0m 7ms/step - loss: 0.0940 \n",
      "Epoch 53/100\n",
      "\u001b[1m4/4\u001b[0m \u001b[32m━━━━━━━━━━━━━━━━━━━━\u001b[0m\u001b[37m\u001b[0m \u001b[1m0s\u001b[0m 7ms/step - loss: 0.0892 \n",
      "Epoch 54/100\n",
      "\u001b[1m4/4\u001b[0m \u001b[32m━━━━━━━━━━━━━━━━━━━━\u001b[0m\u001b[37m\u001b[0m \u001b[1m0s\u001b[0m 6ms/step - loss: 0.0895 \n",
      "Epoch 55/100\n",
      "\u001b[1m4/4\u001b[0m \u001b[32m━━━━━━━━━━━━━━━━━━━━\u001b[0m\u001b[37m\u001b[0m \u001b[1m0s\u001b[0m 7ms/step - loss: 0.0856 \n",
      "Epoch 56/100\n",
      "\u001b[1m4/4\u001b[0m \u001b[32m━━━━━━━━━━━━━━━━━━━━\u001b[0m\u001b[37m\u001b[0m \u001b[1m0s\u001b[0m 7ms/step - loss: 0.0816 \n",
      "Epoch 57/100\n",
      "\u001b[1m4/4\u001b[0m \u001b[32m━━━━━━━━━━━━━━━━━━━━\u001b[0m\u001b[37m\u001b[0m \u001b[1m0s\u001b[0m 7ms/step - loss: 0.0840 \n",
      "Epoch 58/100\n",
      "\u001b[1m4/4\u001b[0m \u001b[32m━━━━━━━━━━━━━━━━━━━━\u001b[0m\u001b[37m\u001b[0m \u001b[1m0s\u001b[0m 8ms/step - loss: 0.0886 \n",
      "Epoch 59/100\n",
      "\u001b[1m4/4\u001b[0m \u001b[32m━━━━━━━━━━━━━━━━━━━━\u001b[0m\u001b[37m\u001b[0m \u001b[1m0s\u001b[0m 7ms/step - loss: 0.0793 \n",
      "Epoch 60/100\n",
      "\u001b[1m4/4\u001b[0m \u001b[32m━━━━━━━━━━━━━━━━━━━━\u001b[0m\u001b[37m\u001b[0m \u001b[1m0s\u001b[0m 7ms/step - loss: 0.0843 \n",
      "Epoch 61/100\n",
      "\u001b[1m4/4\u001b[0m \u001b[32m━━━━━━━━━━━━━━━━━━━━\u001b[0m\u001b[37m\u001b[0m \u001b[1m0s\u001b[0m 7ms/step - loss: 0.0823 \n",
      "Epoch 62/100\n",
      "\u001b[1m4/4\u001b[0m \u001b[32m━━━━━━━━━━━━━━━━━━━━\u001b[0m\u001b[37m\u001b[0m \u001b[1m0s\u001b[0m 7ms/step - loss: 0.0805 \n",
      "Epoch 63/100\n",
      "\u001b[1m4/4\u001b[0m \u001b[32m━━━━━━━━━━━━━━━━━━━━\u001b[0m\u001b[37m\u001b[0m \u001b[1m0s\u001b[0m 6ms/step - loss: 0.0907 \n",
      "Epoch 64/100\n",
      "\u001b[1m4/4\u001b[0m \u001b[32m━━━━━━━━━━━━━━━━━━━━\u001b[0m\u001b[37m\u001b[0m \u001b[1m0s\u001b[0m 6ms/step - loss: 0.0758 \n",
      "Epoch 65/100\n",
      "\u001b[1m4/4\u001b[0m \u001b[32m━━━━━━━━━━━━━━━━━━━━\u001b[0m\u001b[37m\u001b[0m \u001b[1m0s\u001b[0m 7ms/step - loss: 0.0763 \n",
      "Epoch 66/100\n",
      "\u001b[1m4/4\u001b[0m \u001b[32m━━━━━━━━━━━━━━━━━━━━\u001b[0m\u001b[37m\u001b[0m \u001b[1m0s\u001b[0m 7ms/step - loss: 0.0817 \n",
      "Epoch 67/100\n",
      "\u001b[1m4/4\u001b[0m \u001b[32m━━━━━━━━━━━━━━━━━━━━\u001b[0m\u001b[37m\u001b[0m \u001b[1m0s\u001b[0m 7ms/step - loss: 0.0702 \n",
      "Epoch 68/100\n",
      "\u001b[1m4/4\u001b[0m \u001b[32m━━━━━━━━━━━━━━━━━━━━\u001b[0m\u001b[37m\u001b[0m \u001b[1m0s\u001b[0m 7ms/step - loss: 0.0886 \n",
      "Epoch 69/100\n",
      "\u001b[1m4/4\u001b[0m \u001b[32m━━━━━━━━━━━━━━━━━━━━\u001b[0m\u001b[37m\u001b[0m \u001b[1m0s\u001b[0m 7ms/step - loss: 0.0680 \n",
      "Epoch 70/100\n",
      "\u001b[1m4/4\u001b[0m \u001b[32m━━━━━━━━━━━━━━━━━━━━\u001b[0m\u001b[37m\u001b[0m \u001b[1m0s\u001b[0m 7ms/step - loss: 0.0700 \n",
      "Epoch 71/100\n",
      "\u001b[1m4/4\u001b[0m \u001b[32m━━━━━━━━━━━━━━━━━━━━\u001b[0m\u001b[37m\u001b[0m \u001b[1m0s\u001b[0m 7ms/step - loss: 0.0783 \n",
      "Epoch 72/100\n",
      "\u001b[1m4/4\u001b[0m \u001b[32m━━━━━━━━━━━━━━━━━━━━\u001b[0m\u001b[37m\u001b[0m \u001b[1m0s\u001b[0m 7ms/step - loss: 0.0714 \n",
      "Epoch 73/100\n",
      "\u001b[1m4/4\u001b[0m \u001b[32m━━━━━━━━━━━━━━━━━━━━\u001b[0m\u001b[37m\u001b[0m \u001b[1m0s\u001b[0m 7ms/step - loss: 0.0789 \n",
      "Epoch 74/100\n",
      "\u001b[1m4/4\u001b[0m \u001b[32m━━━━━━━━━━━━━━━━━━━━\u001b[0m\u001b[37m\u001b[0m \u001b[1m0s\u001b[0m 7ms/step - loss: 0.0846 \n",
      "Epoch 75/100\n",
      "\u001b[1m4/4\u001b[0m \u001b[32m━━━━━━━━━━━━━━━━━━━━\u001b[0m\u001b[37m\u001b[0m \u001b[1m0s\u001b[0m 8ms/step - loss: 0.0651 \n",
      "Epoch 76/100\n",
      "\u001b[1m4/4\u001b[0m \u001b[32m━━━━━━━━━━━━━━━━━━━━\u001b[0m\u001b[37m\u001b[0m \u001b[1m0s\u001b[0m 7ms/step - loss: 0.0777 \n",
      "Epoch 77/100\n",
      "\u001b[1m4/4\u001b[0m \u001b[32m━━━━━━━━━━━━━━━━━━━━\u001b[0m\u001b[37m\u001b[0m \u001b[1m0s\u001b[0m 10ms/step - loss: 0.0682\n",
      "Epoch 78/100\n",
      "\u001b[1m4/4\u001b[0m \u001b[32m━━━━━━━━━━━━━━━━━━━━\u001b[0m\u001b[37m\u001b[0m \u001b[1m0s\u001b[0m 7ms/step - loss: 0.0660 \n",
      "Epoch 79/100\n",
      "\u001b[1m4/4\u001b[0m \u001b[32m━━━━━━━━━━━━━━━━━━━━\u001b[0m\u001b[37m\u001b[0m \u001b[1m0s\u001b[0m 7ms/step - loss: 0.0732 \n",
      "Epoch 80/100\n",
      "\u001b[1m4/4\u001b[0m \u001b[32m━━━━━━━━━━━━━━━━━━━━\u001b[0m\u001b[37m\u001b[0m \u001b[1m0s\u001b[0m 7ms/step - loss: 0.0703 \n",
      "Epoch 81/100\n",
      "\u001b[1m4/4\u001b[0m \u001b[32m━━━━━━━━━━━━━━━━━━━━\u001b[0m\u001b[37m\u001b[0m \u001b[1m0s\u001b[0m 7ms/step - loss: 0.0653 \n",
      "Epoch 82/100\n",
      "\u001b[1m4/4\u001b[0m \u001b[32m━━━━━━━━━━━━━━━━━━━━\u001b[0m\u001b[37m\u001b[0m \u001b[1m0s\u001b[0m 7ms/step - loss: 0.0743 \n",
      "Epoch 83/100\n",
      "\u001b[1m4/4\u001b[0m \u001b[32m━━━━━━━━━━━━━━━━━━━━\u001b[0m\u001b[37m\u001b[0m \u001b[1m0s\u001b[0m 7ms/step - loss: 0.0730 \n",
      "Epoch 84/100\n",
      "\u001b[1m4/4\u001b[0m \u001b[32m━━━━━━━━━━━━━━━━━━━━\u001b[0m\u001b[37m\u001b[0m \u001b[1m0s\u001b[0m 7ms/step - loss: 0.0848 \n",
      "Epoch 85/100\n",
      "\u001b[1m4/4\u001b[0m \u001b[32m━━━━━━━━━━━━━━━━━━━━\u001b[0m\u001b[37m\u001b[0m \u001b[1m0s\u001b[0m 7ms/step - loss: 0.0618 \n",
      "Epoch 86/100\n",
      "\u001b[1m4/4\u001b[0m \u001b[32m━━━━━━━━━━━━━━━━━━━━\u001b[0m\u001b[37m\u001b[0m \u001b[1m0s\u001b[0m 7ms/step - loss: 0.0667 \n",
      "Epoch 87/100\n",
      "\u001b[1m4/4\u001b[0m \u001b[32m━━━━━━━━━━━━━━━━━━━━\u001b[0m\u001b[37m\u001b[0m \u001b[1m0s\u001b[0m 7ms/step - loss: 0.0732 \n",
      "Epoch 88/100\n",
      "\u001b[1m4/4\u001b[0m \u001b[32m━━━━━━━━━━━━━━━━━━━━\u001b[0m\u001b[37m\u001b[0m \u001b[1m0s\u001b[0m 7ms/step - loss: 0.0754 \n",
      "Epoch 89/100\n",
      "\u001b[1m4/4\u001b[0m \u001b[32m━━━━━━━━━━━━━━━━━━━━\u001b[0m\u001b[37m\u001b[0m \u001b[1m0s\u001b[0m 7ms/step - loss: 0.0696 \n",
      "Epoch 90/100\n",
      "\u001b[1m4/4\u001b[0m \u001b[32m━━━━━━━━━━━━━━━━━━━━\u001b[0m\u001b[37m\u001b[0m \u001b[1m0s\u001b[0m 6ms/step - loss: 0.0693 \n",
      "Epoch 91/100\n",
      "\u001b[1m4/4\u001b[0m \u001b[32m━━━━━━━━━━━━━━━━━━━━\u001b[0m\u001b[37m\u001b[0m \u001b[1m0s\u001b[0m 7ms/step - loss: 0.0697 \n",
      "Epoch 92/100\n",
      "\u001b[1m4/4\u001b[0m \u001b[32m━━━━━━━━━━━━━━━━━━━━\u001b[0m\u001b[37m\u001b[0m \u001b[1m0s\u001b[0m 7ms/step - loss: 0.0686 \n",
      "Epoch 93/100\n",
      "\u001b[1m4/4\u001b[0m \u001b[32m━━━━━━━━━━━━━━━━━━━━\u001b[0m\u001b[37m\u001b[0m \u001b[1m0s\u001b[0m 7ms/step - loss: 0.0595 \n",
      "Epoch 94/100\n",
      "\u001b[1m4/4\u001b[0m \u001b[32m━━━━━━━━━━━━━━━━━━━━\u001b[0m\u001b[37m\u001b[0m \u001b[1m0s\u001b[0m 7ms/step - loss: 0.0646 \n",
      "Epoch 95/100\n",
      "\u001b[1m4/4\u001b[0m \u001b[32m━━━━━━━━━━━━━━━━━━━━\u001b[0m\u001b[37m\u001b[0m \u001b[1m0s\u001b[0m 6ms/step - loss: 0.0650 \n",
      "Epoch 96/100\n",
      "\u001b[1m4/4\u001b[0m \u001b[32m━━━━━━━━━━━━━━━━━━━━\u001b[0m\u001b[37m\u001b[0m \u001b[1m0s\u001b[0m 7ms/step - loss: 0.0701 \n",
      "Epoch 97/100\n",
      "\u001b[1m4/4\u001b[0m \u001b[32m━━━━━━━━━━━━━━━━━━━━\u001b[0m\u001b[37m\u001b[0m \u001b[1m0s\u001b[0m 8ms/step - loss: 0.0682 \n",
      "Epoch 98/100\n",
      "\u001b[1m4/4\u001b[0m \u001b[32m━━━━━━━━━━━━━━━━━━━━\u001b[0m\u001b[37m\u001b[0m \u001b[1m0s\u001b[0m 7ms/step - loss: 0.0668 \n",
      "Epoch 99/100\n",
      "\u001b[1m4/4\u001b[0m \u001b[32m━━━━━━━━━━━━━━━━━━━━\u001b[0m\u001b[37m\u001b[0m \u001b[1m0s\u001b[0m 7ms/step - loss: 0.0680 \n",
      "Epoch 100/100\n",
      "\u001b[1m4/4\u001b[0m \u001b[32m━━━━━━━━━━━━━━━━━━━━\u001b[0m\u001b[37m\u001b[0m \u001b[1m0s\u001b[0m 7ms/step - loss: 0.0679 \n"
     ]
    },
    {
     "data": {
      "text/plain": [
       "<keras.src.callbacks.history.History at 0x19d9142a630>"
      ]
     },
     "execution_count": 10,
     "metadata": {},
     "output_type": "execute_result"
    }
   ],
   "source": [
    "# Model 구현\n",
    "model = Sequential()\n",
    "model.add(Flatten(input_shape=(3,)))\n",
    "model.add(Dense(units=1,\n",
    "                activation='linear'))\n",
    "\n",
    "model.compile(optimizer=SGD(learning_rate=1e-2),\n",
    "              loss='mse')\n",
    "\n",
    "# 학습\n",
    "model.fit(x_data_norm,\n",
    "          t_data_norm,\n",
    "          epochs=100,\n",
    "          verbose=1)"
   ]
  },
  {
   "cell_type": "markdown",
   "metadata": {
    "id": "X6q0o9rE55d7"
   },
   "source": [
    "- 검증  \n",
    "학습이 종료되면 검증 => 꼭 해야하는데, 우리는 안할꺼에요."
   ]
  },
  {
   "cell_type": "markdown",
   "metadata": {
    "id": "-E-ksOxF6DxM"
   },
   "source": [
    "- 예측"
   ]
  },
  {
   "cell_type": "code",
   "execution_count": 11,
   "metadata": {
    "colab": {
     "base_uri": "https://localhost:8080/"
    },
    "executionInfo": {
     "elapsed": 111,
     "status": "ok",
     "timestamp": 1745115197967,
     "user": {
      "displayName": "JUNGWOON AN",
      "userId": "18046724802149141730"
     },
     "user_tz": -540
    },
    "id": "0MdTZ8Be6FCP",
    "outputId": "3ac5f8ec-610b-480e-a3b9-5c57cb397709"
   },
   "outputs": [
    {
     "name": "stdout",
     "output_type": "stream",
     "text": [
      "\u001b[1m1/1\u001b[0m \u001b[32m━━━━━━━━━━━━━━━━━━━━\u001b[0m\u001b[37m\u001b[0m \u001b[1m0s\u001b[0m 46ms/step\n",
      "[[0.28229076]]\n"
     ]
    }
   ],
   "source": [
    "# 검증이 완료되면 모델이 완성!\n",
    "# 모델에 대한 Prediction을 해보면 됩니다.\n",
    "# 태양광이 150, 바람 10, 온도 80일때 오존량은 얼말??\n",
    "my_data = np.array([[150,10,80]])\n",
    "result = model.predict(my_data)\n",
    "print(result)"
   ]
  },
  {
   "cell_type": "code",
   "execution_count": 12,
   "metadata": {
    "colab": {
     "base_uri": "https://localhost:8080/"
    },
    "executionInfo": {
     "elapsed": 110,
     "status": "ok",
     "timestamp": 1745115198080,
     "user": {
      "displayName": "JUNGWOON AN",
      "userId": "18046724802149141730"
     },
     "user_tz": -540
    },
    "id": "tDbPvcK19H8n",
    "outputId": "ccabb6db-1b4c-4be6-c2dc-f80b96aa266b"
   },
   "outputs": [
    {
     "name": "stdout",
     "output_type": "stream",
     "text": [
      "\u001b[1m1/1\u001b[0m \u001b[32m━━━━━━━━━━━━━━━━━━━━\u001b[0m\u001b[37m\u001b[0m \u001b[1m0s\u001b[0m 47ms/step\n",
      "[[0.3463968]]\n"
     ]
    }
   ],
   "source": [
    "# 정규화된 데이터를 이용했기 때문에 입력 데이터도 정규화\n",
    "result = model.predict(scaler_x.transform(my_data))\n",
    "print(result)"
   ]
  },
  {
   "cell_type": "code",
   "execution_count": 13,
   "metadata": {
    "colab": {
     "base_uri": "https://localhost:8080/"
    },
    "executionInfo": {
     "elapsed": 4,
     "status": "ok",
     "timestamp": 1745115198090,
     "user": {
      "displayName": "JUNGWOON AN",
      "userId": "18046724802149141730"
     },
     "user_tz": -540
    },
    "id": "QB_ce_xY9nyW",
    "outputId": "313cd5d9-d751-4ee6-eafd-b69ec71db73d"
   },
   "outputs": [
    {
     "name": "stdout",
     "output_type": "stream",
     "text": [
      "[[58.848267]]\n"
     ]
    }
   ],
   "source": [
    "# 정규화로 예측한 값의 원상복구해야함\n",
    "print(scaler_t.inverse_transform(result))"
   ]
  }
 ],
 "metadata": {
  "colab": {
   "authorship_tag": "ABX9TyNPFDJUus8zL7bKh2pQg7iJ",
   "provenance": []
  },
  "kernelspec": {
   "display_name": "Python (tfenv)",
   "language": "python",
   "name": "tfenv"
  },
  "language_info": {
   "codemirror_mode": {
    "name": "ipython",
    "version": 3
   },
   "file_extension": ".py",
   "mimetype": "text/x-python",
   "name": "python",
   "nbconvert_exporter": "python",
   "pygments_lexer": "ipython3",
   "version": "3.12.11"
  }
 },
 "nbformat": 4,
 "nbformat_minor": 4
}
