{
 "cells": [
  {
   "cell_type": "markdown",
   "metadata": {},
   "source": [
    "## PCA 소개\n",
    "PCA는 Principal Component Anaylysis의 약자로, 주성분 분석이라고 부릅니다. PCA는 지금까지 배운 알고리즘과 전혀 다른 방식의 알고리즘입니다. 비지도 학습에 속하기 때문에 당연히 종속변수는 존재하지 않고, 어떤 것을 예측하지도 분류하지도 않습니다. PCA의 목적은 데이터의 차원을 축소하는 데 있습니다. 차원 축소를 간단히 말하면 변수의 개수를 줄이되, 가능한 그 특성을 보존해내는 기법입니다. PCA는 기존의 변수 중 일부를 그대로 선택하는 방식이 아니라, 기존 변수들의 정보를 모두 반영하는 새로운 변수들을 만드는 방식으로 차원 축소를 합니다."
   ]
  },
  {
   "cell_type": "markdown",
   "metadata": {},
   "source": [
    "## 3.1.1 문제 정의\n",
    "데이터의 차원을 축소하여 이해하기 쉽게 시각화하라.\n",
    "\n",
    "12장 K-평균 군집화에서 사용한 예측 결과가 포함되니 최종 고객 분석 데이터셋을 사용합니다. PCA를 사용해 시각화를 용이하게 하는 방법을 학습합니다."
   ]
  },
  {
   "cell_type": "markdown",
   "metadata": {
    "id": "h9XWBVlnIaUZ"
   },
   "source": [
    "## 13.1.2 라이브러리 및 데이터 불러오기\n"
   ]
  },
  {
   "cell_type": "code",
   "execution_count": 1,
   "metadata": {
    "executionInfo": {
     "elapsed": 797,
     "status": "ok",
     "timestamp": 1654996475123,
     "user": {
      "displayName": "Sihyun Kwon",
      "userId": "08571189456742629112"
     },
     "user_tz": 240
    },
    "id": "blg9rxsuLGvN"
   },
   "outputs": [],
   "source": [
    "import pandas as pd\n",
    "import numpy as np\n",
    "import matplotlib.pyplot as plt\n",
    "import seaborn as sns\n",
    "\n",
    "file_url = 'https://raw.githubusercontent.com/snkn1959/data_source/main/customer_pca.csv'\n",
    "customer = pd.read_csv(file_url)"
   ]
  },
  {
   "cell_type": "code",
   "execution_count": 2,
   "metadata": {
    "colab": {
     "base_uri": "https://localhost:8080/",
     "height": 270
    },
    "executionInfo": {
     "elapsed": 10,
     "status": "ok",
     "timestamp": 1654996475124,
     "user": {
      "displayName": "Sihyun Kwon",
      "userId": "08571189456742629112"
     },
     "user_tz": 240
    },
    "id": "K7ULLTv4LRWG",
    "outputId": "1f1139d0-9113-4b3e-9d4e-b499428924e8"
   },
   "outputs": [
    {
     "data": {
      "text/html": [
       "<div>\n",
       "<style scoped>\n",
       "    .dataframe tbody tr th:only-of-type {\n",
       "        vertical-align: middle;\n",
       "    }\n",
       "\n",
       "    .dataframe tbody tr th {\n",
       "        vertical-align: top;\n",
       "    }\n",
       "\n",
       "    .dataframe thead th {\n",
       "        text-align: right;\n",
       "    }\n",
       "</style>\n",
       "<table border=\"1\" class=\"dataframe\">\n",
       "  <thead>\n",
       "    <tr style=\"text-align: right;\">\n",
       "      <th></th>\n",
       "      <th>amt</th>\n",
       "      <th>category_entertainment</th>\n",
       "      <th>category_food_dining</th>\n",
       "      <th>category_gas_transport</th>\n",
       "      <th>category_grocery</th>\n",
       "      <th>category_health_fitness</th>\n",
       "      <th>category_home</th>\n",
       "      <th>category_kids_pets</th>\n",
       "      <th>category_misc</th>\n",
       "      <th>category_personal_care</th>\n",
       "      <th>category_shopping</th>\n",
       "      <th>category_travel</th>\n",
       "      <th>label</th>\n",
       "    </tr>\n",
       "  </thead>\n",
       "  <tbody>\n",
       "    <tr>\n",
       "      <th>0</th>\n",
       "      <td>-1.402327</td>\n",
       "      <td>-1.135617</td>\n",
       "      <td>-0.971069</td>\n",
       "      <td>-1.000180</td>\n",
       "      <td>-1.118217</td>\n",
       "      <td>-1.561756</td>\n",
       "      <td>-1.145051</td>\n",
       "      <td>-1.276913</td>\n",
       "      <td>-1.124693</td>\n",
       "      <td>-1.070260</td>\n",
       "      <td>-1.141424</td>\n",
       "      <td>-0.619930</td>\n",
       "      <td>0</td>\n",
       "    </tr>\n",
       "    <tr>\n",
       "      <th>1</th>\n",
       "      <td>1.079407</td>\n",
       "      <td>0.414075</td>\n",
       "      <td>0.168880</td>\n",
       "      <td>2.090013</td>\n",
       "      <td>0.767268</td>\n",
       "      <td>1.040236</td>\n",
       "      <td>0.844969</td>\n",
       "      <td>1.127922</td>\n",
       "      <td>1.210503</td>\n",
       "      <td>1.807350</td>\n",
       "      <td>0.659967</td>\n",
       "      <td>-0.222587</td>\n",
       "      <td>3</td>\n",
       "    </tr>\n",
       "    <tr>\n",
       "      <th>2</th>\n",
       "      <td>1.200151</td>\n",
       "      <td>0.747127</td>\n",
       "      <td>1.622968</td>\n",
       "      <td>-0.606627</td>\n",
       "      <td>0.439476</td>\n",
       "      <td>1.376630</td>\n",
       "      <td>2.126364</td>\n",
       "      <td>0.378610</td>\n",
       "      <td>-0.196523</td>\n",
       "      <td>0.127825</td>\n",
       "      <td>1.299938</td>\n",
       "      <td>2.766891</td>\n",
       "      <td>1</td>\n",
       "    </tr>\n",
       "    <tr>\n",
       "      <th>3</th>\n",
       "      <td>-1.474915</td>\n",
       "      <td>-1.129427</td>\n",
       "      <td>-1.539741</td>\n",
       "      <td>-0.930355</td>\n",
       "      <td>-1.079803</td>\n",
       "      <td>-1.222903</td>\n",
       "      <td>-1.572733</td>\n",
       "      <td>-1.516610</td>\n",
       "      <td>-1.274986</td>\n",
       "      <td>-1.185705</td>\n",
       "      <td>-1.166127</td>\n",
       "      <td>-0.601675</td>\n",
       "      <td>0</td>\n",
       "    </tr>\n",
       "    <tr>\n",
       "      <th>4</th>\n",
       "      <td>0.901491</td>\n",
       "      <td>0.257905</td>\n",
       "      <td>-0.320220</td>\n",
       "      <td>2.083588</td>\n",
       "      <td>0.540547</td>\n",
       "      <td>0.705908</td>\n",
       "      <td>1.097814</td>\n",
       "      <td>0.955178</td>\n",
       "      <td>1.198524</td>\n",
       "      <td>1.640103</td>\n",
       "      <td>0.578781</td>\n",
       "      <td>-0.484796</td>\n",
       "      <td>3</td>\n",
       "    </tr>\n",
       "  </tbody>\n",
       "</table>\n",
       "</div>"
      ],
      "text/plain": [
       "        amt  category_entertainment  category_food_dining  \\\n",
       "0 -1.402327               -1.135617             -0.971069   \n",
       "1  1.079407                0.414075              0.168880   \n",
       "2  1.200151                0.747127              1.622968   \n",
       "3 -1.474915               -1.129427             -1.539741   \n",
       "4  0.901491                0.257905             -0.320220   \n",
       "\n",
       "   category_gas_transport  category_grocery  category_health_fitness  \\\n",
       "0               -1.000180         -1.118217                -1.561756   \n",
       "1                2.090013          0.767268                 1.040236   \n",
       "2               -0.606627          0.439476                 1.376630   \n",
       "3               -0.930355         -1.079803                -1.222903   \n",
       "4                2.083588          0.540547                 0.705908   \n",
       "\n",
       "   category_home  category_kids_pets  category_misc  category_personal_care  \\\n",
       "0      -1.145051           -1.276913      -1.124693               -1.070260   \n",
       "1       0.844969            1.127922       1.210503                1.807350   \n",
       "2       2.126364            0.378610      -0.196523                0.127825   \n",
       "3      -1.572733           -1.516610      -1.274986               -1.185705   \n",
       "4       1.097814            0.955178       1.198524                1.640103   \n",
       "\n",
       "   category_shopping  category_travel  label  \n",
       "0          -1.141424        -0.619930      0  \n",
       "1           0.659967        -0.222587      3  \n",
       "2           1.299938         2.766891      1  \n",
       "3          -1.166127        -0.601675      0  \n",
       "4           0.578781        -0.484796      3  "
      ]
     },
     "execution_count": 2,
     "metadata": {},
     "output_type": "execute_result"
    }
   ],
   "source": [
    "customer.head()"
   ]
  },
  {
   "cell_type": "code",
   "execution_count": 3,
   "metadata": {
    "executionInfo": {
     "elapsed": 9,
     "status": "ok",
     "timestamp": 1654996475126,
     "user": {
      "displayName": "Sihyun Kwon",
      "userId": "08571189456742629112"
     },
     "user_tz": 240
    },
    "id": "gICxRe7aLalo"
   },
   "outputs": [],
   "source": [
    "customer_X = customer.drop('label', axis = 1)  # 독립변수 지정\n",
    "customer_y = customer['label']  # 종속변수 지정"
   ]
  },
  {
   "cell_type": "markdown",
   "metadata": {
    "id": "kKqb5WYYLbnQ"
   },
   "source": [
    "## 13.1.2 그래프 표현을 위한 차원축소\n"
   ]
  },
  {
   "cell_type": "code",
   "execution_count": 4,
   "metadata": {
    "executionInfo": {
     "elapsed": 524,
     "status": "ok",
     "timestamp": 1654996475642,
     "user": {
      "displayName": "Sihyun Kwon",
      "userId": "08571189456742629112"
     },
     "user_tz": 240
    },
    "id": "Nzb8UWISLdzB"
   },
   "outputs": [],
   "source": [
    "from sklearn.decomposition import PCA"
   ]
  },
  {
   "cell_type": "code",
   "execution_count": 5,
   "metadata": {
    "executionInfo": {
     "elapsed": 244,
     "status": "ok",
     "timestamp": 1654996475884,
     "user": {
      "displayName": "Sihyun Kwon",
      "userId": "08571189456742629112"
     },
     "user_tz": 240
    },
    "id": "9M6ThTZOLetA"
   },
   "outputs": [],
   "source": [
    "pca = PCA(n_components=2)  # 주성분 개수 지정"
   ]
  },
  {
   "cell_type": "code",
   "execution_count": 6,
   "metadata": {
    "executionInfo": {
     "elapsed": 11,
     "status": "ok",
     "timestamp": 1654996475885,
     "user": {
      "displayName": "Sihyun Kwon",
      "userId": "08571189456742629112"
     },
     "user_tz": 240
    },
    "id": "I9gk4iskLfcg"
   },
   "outputs": [],
   "source": [
    "pca.fit(customer_X)  # 학습\n",
    "customer_pca = pca.transform(customer_X)  # 변환"
   ]
  },
  {
   "cell_type": "code",
   "execution_count": 7,
   "metadata": {
    "colab": {
     "base_uri": "https://localhost:8080/"
    },
    "executionInfo": {
     "elapsed": 11,
     "status": "ok",
     "timestamp": 1654996475886,
     "user": {
      "displayName": "Sihyun Kwon",
      "userId": "08571189456742629112"
     },
     "user_tz": 240
    },
    "id": "ryVivzd8LgKi",
    "outputId": "97562f28-40b2-4721-e5d5-5404c69ee424"
   },
   "outputs": [
    {
     "data": {
      "text/plain": [
       "array([[-3.92906072e+00,  1.02604491e-01],\n",
       "       [ 3.10758276e+00, -1.74887930e+00],\n",
       "       [ 3.02379272e+00,  3.21221215e+00],\n",
       "       [-4.28241767e+00,  1.13781030e-02],\n",
       "       [ 2.59065802e+00, -1.90612064e+00],\n",
       "       [ 8.70343520e-01, -1.79154348e-02],\n",
       "       [-1.16508938e+00,  2.00387900e+00],\n",
       "       [ 1.41163657e+00, -1.21220170e+00],\n",
       "       [ 1.79302072e-01, -1.15337545e+00],\n",
       "       [-2.74166293e+00, -3.48112299e-02],\n",
       "       [ 4.03108363e-01, -2.56426911e-01],\n",
       "       [-4.32816586e+00,  1.09280479e-01],\n",
       "       [-1.06779010e+00, -4.71336448e-01],\n",
       "       [-3.54208654e+00,  2.09373453e-01],\n",
       "       [ 3.00321739e+00,  6.85140300e-02],\n",
       "       [ 5.08464052e+00, -1.92234923e+00],\n",
       "       [-1.39044460e+00,  3.22162225e-01],\n",
       "       [-2.64318989e+00, -4.59744830e-01],\n",
       "       [-7.37714393e-01, -9.30393910e-01],\n",
       "       [-3.93420145e+00,  1.62749639e-01],\n",
       "       [ 3.16675507e-01, -4.22288613e-01],\n",
       "       [ 7.31864853e+00,  5.17885391e-02],\n",
       "       [ 6.60448573e-01, -1.13828656e+00],\n",
       "       [-3.96099431e+00, -5.54999191e-02],\n",
       "       [ 2.88515690e+00, -1.50950875e+00],\n",
       "       [-9.13413956e-01, -2.84250823e-01],\n",
       "       [ 7.47738674e+00,  4.13602819e-01],\n",
       "       [ 8.51161986e-01,  2.66450095e+00],\n",
       "       [ 3.11683289e+00,  3.55512199e+00],\n",
       "       [-2.61734209e+00, -2.27449931e-03],\n",
       "       [-1.22771428e-01, -3.31216229e-01],\n",
       "       [ 9.13108512e-01,  3.00138893e+00],\n",
       "       [-9.55686582e-02, -2.02640440e-01],\n",
       "       [ 2.51249575e+00, -6.33108713e-01],\n",
       "       [ 3.12230426e+00,  3.70599880e+00],\n",
       "       [ 3.14778237e+00,  4.33267256e+00],\n",
       "       [ 6.06549063e-01, -9.86110799e-01],\n",
       "       [-3.46744343e+00,  1.08940594e+00],\n",
       "       [ 6.18615770e-02, -1.27174586e+00],\n",
       "       [ 2.87266476e-01, -1.05338012e+00],\n",
       "       [ 5.08834370e-01, -2.02343984e-01],\n",
       "       [-9.01515768e-01, -2.68070767e-01],\n",
       "       [-8.05819264e-02, -6.27176745e-01],\n",
       "       [-2.57697663e+00, -1.32747276e-01],\n",
       "       [ 2.92716445e+00,  4.17160726e-01],\n",
       "       [ 7.53139122e+00,  8.91638114e-01],\n",
       "       [ 2.37952005e+00, -1.70940926e+00],\n",
       "       [-1.24997746e+00,  2.93538981e-01],\n",
       "       [ 5.08939438e-01,  5.05213153e-01],\n",
       "       [ 2.00027356e+00, -5.82652255e-01],\n",
       "       [-4.11163191e+00,  1.20451458e-02],\n",
       "       [ 7.19921286e-01, -1.02373898e+00],\n",
       "       [ 5.13207228e+00, -3.55005462e-02],\n",
       "       [-1.30152112e+00, -2.92916652e-01],\n",
       "       [-1.26229904e+00,  1.99571763e+00],\n",
       "       [-3.92072783e+00,  4.19591569e-01],\n",
       "       [-3.92335605e+00,  2.90238232e-01],\n",
       "       [-1.07974232e+00, -7.56236332e-01],\n",
       "       [ 2.29847276e+00, -1.71731618e+00],\n",
       "       [-2.41712125e+00, -1.65314491e-01],\n",
       "       [-1.94038751e+00,  8.65325435e-02],\n",
       "       [ 9.61908159e-01,  3.07626115e+00],\n",
       "       [ 3.07761364e+00,  6.23734925e-01],\n",
       "       [ 6.98825143e-02, -1.26850385e+00],\n",
       "       [-3.83324310e+00,  1.04062564e-01],\n",
       "       [ 5.07062308e+00,  3.66619197e-01],\n",
       "       [ 3.03194691e+00,  3.70983803e+00],\n",
       "       [-3.79352069e+00,  2.43265665e-01],\n",
       "       [ 8.44571030e-01, -9.03608885e-01],\n",
       "       [ 1.10497065e+00, -5.69239958e-01],\n",
       "       [-1.20868859e+00, -5.47974662e-01],\n",
       "       [-3.74634015e+00,  6.45711112e-01],\n",
       "       [ 6.55382011e-01, -6.80909837e-01],\n",
       "       [ 3.18270985e+00, -1.60458982e+00],\n",
       "       [-6.86581666e-01,  4.12809181e-02],\n",
       "       [-1.14472565e+00, -5.80928792e-01],\n",
       "       [ 2.25158156e+00, -1.86551742e+00],\n",
       "       [-4.11846276e+00,  2.43692755e-01],\n",
       "       [-3.61019796e+00,  3.80018798e-01],\n",
       "       [-2.39950827e+00, -2.99975577e-01],\n",
       "       [-1.38050726e+00,  2.37925206e-01],\n",
       "       [ 5.69227545e-01, -9.45067658e-01],\n",
       "       [-7.54661391e-01, -5.46883930e-02],\n",
       "       [-2.06403817e+00, -2.02782822e-01],\n",
       "       [-1.25451597e+00, -5.30717565e-02],\n",
       "       [ 5.47010496e-01, -1.18056800e+00],\n",
       "       [ 7.28182232e+00,  3.68954923e-01],\n",
       "       [ 1.51779943e-01, -2.94127566e-01],\n",
       "       [-1.06550470e+00, -6.32866500e-01],\n",
       "       [ 2.20734751e+00, -1.60190057e+00],\n",
       "       [ 5.58915914e-01,  2.22725170e-01],\n",
       "       [-4.39374365e+00,  1.84102321e-02],\n",
       "       [-2.09512738e+00, -2.05503210e-01],\n",
       "       [-1.93572397e+00, -1.86190550e-01],\n",
       "       [ 1.57812958e-01, -5.61152392e-01],\n",
       "       [ 3.05786793e+00, -2.07006100e+00],\n",
       "       [-1.98087248e+00, -1.85123765e-01],\n",
       "       [-3.46538499e+00,  1.02229842e+00],\n",
       "       [-3.27716415e+00,  1.39247995e+00],\n",
       "       [ 2.17218468e+00, -6.13946378e-01]])"
      ]
     },
     "execution_count": 7,
     "metadata": {},
     "output_type": "execute_result"
    }
   ],
   "source": [
    "customer_pca  # 결과 확인"
   ]
  },
  {
   "cell_type": "code",
   "execution_count": 8,
   "metadata": {
    "executionInfo": {
     "elapsed": 11,
     "status": "ok",
     "timestamp": 1654996475887,
     "user": {
      "displayName": "Sihyun Kwon",
      "userId": "08571189456742629112"
     },
     "user_tz": 240
    },
    "id": "FRD7qvb9LhMq"
   },
   "outputs": [],
   "source": [
    "# 데이터프레임으로 변환\n",
    "customer_pca = pd.DataFrame(customer_pca, columns = ['PC1','PC2'])"
   ]
  },
  {
   "cell_type": "code",
   "execution_count": 9,
   "metadata": {
    "executionInfo": {
     "elapsed": 10,
     "status": "ok",
     "timestamp": 1654996475888,
     "user": {
      "displayName": "Sihyun Kwon",
      "userId": "08571189456742629112"
     },
     "user_tz": 240
    },
    "id": "f0tMpheRLjYJ"
   },
   "outputs": [],
   "source": [
    "# 데이터 합치기\n",
    "customer_pca = customer_pca.join(customer_y)"
   ]
  },
  {
   "cell_type": "code",
   "execution_count": 10,
   "metadata": {
    "colab": {
     "base_uri": "https://localhost:8080/",
     "height": 206
    },
    "executionInfo": {
     "elapsed": 11,
     "status": "ok",
     "timestamp": 1654996475889,
     "user": {
      "displayName": "Sihyun Kwon",
      "userId": "08571189456742629112"
     },
     "user_tz": 240
    },
    "id": "R_BTRS22LvVq",
    "outputId": "36b51915-ed5f-40b1-83cd-97280cc06044"
   },
   "outputs": [
    {
     "data": {
      "text/html": [
       "<div>\n",
       "<style scoped>\n",
       "    .dataframe tbody tr th:only-of-type {\n",
       "        vertical-align: middle;\n",
       "    }\n",
       "\n",
       "    .dataframe tbody tr th {\n",
       "        vertical-align: top;\n",
       "    }\n",
       "\n",
       "    .dataframe thead th {\n",
       "        text-align: right;\n",
       "    }\n",
       "</style>\n",
       "<table border=\"1\" class=\"dataframe\">\n",
       "  <thead>\n",
       "    <tr style=\"text-align: right;\">\n",
       "      <th></th>\n",
       "      <th>PC1</th>\n",
       "      <th>PC2</th>\n",
       "      <th>label</th>\n",
       "    </tr>\n",
       "  </thead>\n",
       "  <tbody>\n",
       "    <tr>\n",
       "      <th>0</th>\n",
       "      <td>-3.929061</td>\n",
       "      <td>0.102604</td>\n",
       "      <td>0</td>\n",
       "    </tr>\n",
       "    <tr>\n",
       "      <th>1</th>\n",
       "      <td>3.107583</td>\n",
       "      <td>-1.748879</td>\n",
       "      <td>3</td>\n",
       "    </tr>\n",
       "    <tr>\n",
       "      <th>2</th>\n",
       "      <td>3.023793</td>\n",
       "      <td>3.212212</td>\n",
       "      <td>1</td>\n",
       "    </tr>\n",
       "    <tr>\n",
       "      <th>3</th>\n",
       "      <td>-4.282418</td>\n",
       "      <td>0.011378</td>\n",
       "      <td>0</td>\n",
       "    </tr>\n",
       "    <tr>\n",
       "      <th>4</th>\n",
       "      <td>2.590658</td>\n",
       "      <td>-1.906121</td>\n",
       "      <td>3</td>\n",
       "    </tr>\n",
       "  </tbody>\n",
       "</table>\n",
       "</div>"
      ],
      "text/plain": [
       "        PC1       PC2  label\n",
       "0 -3.929061  0.102604      0\n",
       "1  3.107583 -1.748879      3\n",
       "2  3.023793  3.212212      1\n",
       "3 -4.282418  0.011378      0\n",
       "4  2.590658 -1.906121      3"
      ]
     },
     "execution_count": 10,
     "metadata": {},
     "output_type": "execute_result"
    }
   ],
   "source": [
    "customer_pca.head()"
   ]
  },
  {
   "cell_type": "code",
   "execution_count": 11,
   "metadata": {
    "colab": {
     "base_uri": "https://localhost:8080/",
     "height": 297
    },
    "executionInfo": {
     "elapsed": 243,
     "status": "ok",
     "timestamp": 1654996476833,
     "user": {
      "displayName": "Sihyun Kwon",
      "userId": "08571189456742629112"
     },
     "user_tz": 240
    },
    "id": "48VM-VasLwCq",
    "outputId": "1eaf002d-ef69-4d38-9156-95b6ba2221ba"
   },
   "outputs": [
    {
     "data": {
      "text/plain": [
       "<Axes: xlabel='PC1', ylabel='PC2'>"
      ]
     },
     "execution_count": 11,
     "metadata": {},
     "output_type": "execute_result"
    },
    {
     "data": {
      "image/png": "[encoded data removed]",
      "text/plain": [
       "<Figure size 640x480 with 1 Axes>"
      ]
     },
     "metadata": {},
     "output_type": "display_data"
    }
   ],
   "source": [
    "# 산점도 그리기\n",
    "sns.scatterplot(x='PC1',y='PC2', data = customer_pca, hue = 'label', palette='rainbow')"
   ]
  },
  {
   "cell_type": "code",
   "execution_count": 12,
   "metadata": {
    "colab": {
     "base_uri": "https://localhost:8080/"
    },
    "executionInfo": {
     "elapsed": 296,
     "status": "ok",
     "timestamp": 1654996478524,
     "user": {
      "displayName": "Sihyun Kwon",
      "userId": "08571189456742629112"
     },
     "user_tz": 240
    },
    "id": "TaffIuQcL_1U",
    "outputId": "f3bf25e1-f545-4218-d9a1-2f612bb95847"
   },
   "outputs": [
    {
     "data": {
      "text/plain": [
       "array([[ 0.3484681 ,  0.32447242,  0.30303652,  0.14186907,  0.30618347,\n",
       "         0.31297263,  0.29718852,  0.3045823 ,  0.29341337,  0.30287672,\n",
       "         0.32053447,  0.08927503],\n",
       "       [ 0.05827591,  0.06034266,  0.15264674, -0.54435586,  0.03109502,\n",
       "         0.03790586,  0.23809571, -0.2315275 , -0.2471928 , -0.20898284,\n",
       "         0.14479001,  0.65946781]])"
      ]
     },
     "execution_count": 12,
     "metadata": {},
     "output_type": "execute_result"
    }
   ],
   "source": [
    "# 주성분과 변수의 관계 확인\n",
    "pca.components_"
   ]
  },
  {
   "cell_type": "code",
   "execution_count": 13,
   "metadata": {
    "executionInfo": {
     "elapsed": 3,
     "status": "ok",
     "timestamp": 1654996478857,
     "user": {
      "displayName": "Sihyun Kwon",
      "userId": "08571189456742629112"
     },
     "user_tz": 240
    },
    "id": "S-49Ln6UMBq9"
   },
   "outputs": [],
   "source": [
    "# 데이터프레임으로 변환\n",
    "df_comp = pd.DataFrame(pca.components_,columns=customer_X.columns)"
   ]
  },
  {
   "cell_type": "code",
   "execution_count": 14,
   "metadata": {},
   "outputs": [
    {
     "data": {
      "text/html": [
       "<div>\n",
       "<style scoped>\n",
       "    .dataframe tbody tr th:only-of-type {\n",
       "        vertical-align: middle;\n",
       "    }\n",
       "\n",
       "    .dataframe tbody tr th {\n",
       "        vertical-align: top;\n",
       "    }\n",
       "\n",
       "    .dataframe thead th {\n",
       "        text-align: right;\n",
       "    }\n",
       "</style>\n",
       "<table border=\"1\" class=\"dataframe\">\n",
       "  <thead>\n",
       "    <tr style=\"text-align: right;\">\n",
       "      <th></th>\n",
       "      <th>amt</th>\n",
       "      <th>category_entertainment</th>\n",
       "      <th>category_food_dining</th>\n",
       "      <th>category_gas_transport</th>\n",
       "      <th>category_grocery</th>\n",
       "      <th>category_health_fitness</th>\n",
       "      <th>category_home</th>\n",
       "      <th>category_kids_pets</th>\n",
       "      <th>category_misc</th>\n",
       "      <th>category_personal_care</th>\n",
       "      <th>category_shopping</th>\n",
       "      <th>category_travel</th>\n",
       "    </tr>\n",
       "  </thead>\n",
       "  <tbody>\n",
       "    <tr>\n",
       "      <th>0</th>\n",
       "      <td>0.348468</td>\n",
       "      <td>0.324472</td>\n",
       "      <td>0.303037</td>\n",
       "      <td>0.141869</td>\n",
       "      <td>0.306183</td>\n",
       "      <td>0.312973</td>\n",
       "      <td>0.297189</td>\n",
       "      <td>0.304582</td>\n",
       "      <td>0.293413</td>\n",
       "      <td>0.302877</td>\n",
       "      <td>0.320534</td>\n",
       "      <td>0.089275</td>\n",
       "    </tr>\n",
       "    <tr>\n",
       "      <th>1</th>\n",
       "      <td>0.058276</td>\n",
       "      <td>0.060343</td>\n",
       "      <td>0.152647</td>\n",
       "      <td>-0.544356</td>\n",
       "      <td>0.031095</td>\n",
       "      <td>0.037906</td>\n",
       "      <td>0.238096</td>\n",
       "      <td>-0.231528</td>\n",
       "      <td>-0.247193</td>\n",
       "      <td>-0.208983</td>\n",
       "      <td>0.144790</td>\n",
       "      <td>0.659468</td>\n",
       "    </tr>\n",
       "  </tbody>\n",
       "</table>\n",
       "</div>"
      ],
      "text/plain": [
       "        amt  category_entertainment  category_food_dining  \\\n",
       "0  0.348468                0.324472              0.303037   \n",
       "1  0.058276                0.060343              0.152647   \n",
       "\n",
       "   category_gas_transport  category_grocery  category_health_fitness  \\\n",
       "0                0.141869          0.306183                 0.312973   \n",
       "1               -0.544356          0.031095                 0.037906   \n",
       "\n",
       "   category_home  category_kids_pets  category_misc  category_personal_care  \\\n",
       "0       0.297189            0.304582       0.293413                0.302877   \n",
       "1       0.238096           -0.231528      -0.247193               -0.208983   \n",
       "\n",
       "   category_shopping  category_travel  \n",
       "0           0.320534         0.089275  \n",
       "1           0.144790         0.659468  "
      ]
     },
     "execution_count": 14,
     "metadata": {},
     "output_type": "execute_result"
    }
   ],
   "source": [
    "df_comp.head()"
   ]
  },
  {
   "cell_type": "markdown",
   "metadata": {},
   "source": [
    "- 왼쪽 인덱스 0과 1은 각각 주성분 PC1과 PC2를 의미\n",
    "- 컬럼명에는 기존 데이터의 독립변수들이 나열되어 있음\n",
    "예를 들어 인덱스 0(PC1)과 amt와 상관관계는 0.35이므로 PC1이 높다는 것은 그만큼의 크기만큼 amt가 높다는 의미\n",
    "다른 예로 인덱스 1(PC2)와 category_gas_transport를 보면 -0.54로 PC2가 클수록 category_gas_transport에 해당하는 값은 낮다는의미"
   ]
  },
  {
   "cell_type": "code",
   "execution_count": 15,
   "metadata": {
    "colab": {
     "base_uri": "https://localhost:8080/",
     "height": 394
    },
    "executionInfo": {
     "elapsed": 364,
     "status": "ok",
     "timestamp": 1654996479701,
     "user": {
      "displayName": "Sihyun Kwon",
      "userId": "08571189456742629112"
     },
     "user_tz": 240
    },
    "id": "CERJFI-KMDyN",
    "outputId": "5bbd1b01-7453-428c-ba42-b84fa1a99de4"
   },
   "outputs": [
    {
     "data": {
      "text/plain": [
       "<Axes: >"
      ]
     },
     "execution_count": 15,
     "metadata": {},
     "output_type": "execute_result"
    },
    {
     "data": {
      "image/png": "[encoded data removed]",
      "text/plain": [
       "<Figure size 640x480 with 2 Axes>"
      ]
     },
     "metadata": {},
     "output_type": "display_data"
    }
   ],
   "source": [
    "# 히트맵 그리기\n",
    "sns.heatmap(df_comp,cmap='coolwarm')"
   ]
  },
  {
   "cell_type": "markdown",
   "metadata": {},
   "source": [
    "# 13.2 속도와 예측력을 향상시키기 : 익명 데이터셋\n",
    "## 13.2.1 문제 정의\n",
    "데이터의 차원을 축소해 학습 시간을 줄이고 성능을 향상시켜라.\n",
    "\n",
    "변수 개수가 천 개가 넘는 데이터셋입니다. 변수 이름이 익명 처리되어있습니다. 차원 축소 전후의 모델 학습 속도 및 예측 결과를 비교해보겠습니다."
   ]
  },
  {
   "cell_type": "markdown",
   "metadata": {
    "id": "nMOOffTvMEa9"
   },
   "source": [
    "## 13.2.2 다차원 데이터 불러오기"
   ]
  },
  {
   "cell_type": "code",
   "execution_count": 16,
   "metadata": {
    "executionInfo": {
     "elapsed": 28357,
     "status": "ok",
     "timestamp": 1654996602338,
     "user": {
      "displayName": "Sihyun Kwon",
      "userId": "08571189456742629112"
     },
     "user_tz": 240
    },
    "id": "rdyWydAWMG5N"
   },
   "outputs": [],
   "source": [
    "file_url = 'https://media.githubusercontent.com/media/musthave-ML10/data_source/main/anonymous.csv'\n",
    "anonymous = pd.read_csv(file_url)"
   ]
  },
  {
   "cell_type": "code",
   "execution_count": 17,
   "metadata": {
    "colab": {
     "base_uri": "https://localhost:8080/",
     "height": 236
    },
    "executionInfo": {
     "elapsed": 24,
     "status": "ok",
     "timestamp": 1654996602339,
     "user": {
      "displayName": "Sihyun Kwon",
      "userId": "08571189456742629112"
     },
     "user_tz": 240
    },
    "id": "oDXDIc_CPRZT",
    "outputId": "7f556386-63b7-4059-ad8c-15efda1fec61"
   },
   "outputs": [
    {
     "data": {
      "text/html": [
       "<div>\n",
       "<style scoped>\n",
       "    .dataframe tbody tr th:only-of-type {\n",
       "        vertical-align: middle;\n",
       "    }\n",
       "\n",
       "    .dataframe tbody tr th {\n",
       "        vertical-align: top;\n",
       "    }\n",
       "\n",
       "    .dataframe thead th {\n",
       "        text-align: right;\n",
       "    }\n",
       "</style>\n",
       "<table border=\"1\" class=\"dataframe\">\n",
       "  <thead>\n",
       "    <tr style=\"text-align: right;\">\n",
       "      <th></th>\n",
       "      <th>class</th>\n",
       "      <th>V1</th>\n",
       "      <th>V2</th>\n",
       "      <th>V3</th>\n",
       "      <th>V4</th>\n",
       "      <th>V5</th>\n",
       "      <th>V6</th>\n",
       "      <th>V7</th>\n",
       "      <th>V8</th>\n",
       "      <th>V9</th>\n",
       "      <th>...</th>\n",
       "      <th>V4287</th>\n",
       "      <th>V4288</th>\n",
       "      <th>V4289</th>\n",
       "      <th>V4290</th>\n",
       "      <th>V4291</th>\n",
       "      <th>V4292</th>\n",
       "      <th>V4293</th>\n",
       "      <th>V4294</th>\n",
       "      <th>V4295</th>\n",
       "      <th>V4296</th>\n",
       "    </tr>\n",
       "  </thead>\n",
       "  <tbody>\n",
       "    <tr>\n",
       "      <th>0</th>\n",
       "      <td>1</td>\n",
       "      <td>0.0</td>\n",
       "      <td>0.0</td>\n",
       "      <td>0.56758</td>\n",
       "      <td>0.0</td>\n",
       "      <td>0.0</td>\n",
       "      <td>0.0</td>\n",
       "      <td>0.0</td>\n",
       "      <td>0.82585</td>\n",
       "      <td>0.83788</td>\n",
       "      <td>...</td>\n",
       "      <td>-0.25777</td>\n",
       "      <td>0.12220</td>\n",
       "      <td>0.348620</td>\n",
       "      <td>0.12957</td>\n",
       "      <td>0.43846</td>\n",
       "      <td>-0.108020</td>\n",
       "      <td>0.128330</td>\n",
       "      <td>0.318820</td>\n",
       "      <td>-0.041559</td>\n",
       "      <td>0.22589</td>\n",
       "    </tr>\n",
       "    <tr>\n",
       "      <th>1</th>\n",
       "      <td>1</td>\n",
       "      <td>0.0</td>\n",
       "      <td>0.0</td>\n",
       "      <td>0.56758</td>\n",
       "      <td>0.0</td>\n",
       "      <td>0.0</td>\n",
       "      <td>0.0</td>\n",
       "      <td>0.0</td>\n",
       "      <td>0.82585</td>\n",
       "      <td>0.83788</td>\n",
       "      <td>...</td>\n",
       "      <td>-0.15316</td>\n",
       "      <td>0.14062</td>\n",
       "      <td>-0.030201</td>\n",
       "      <td>0.10134</td>\n",
       "      <td>-0.14546</td>\n",
       "      <td>-0.166650</td>\n",
       "      <td>0.401300</td>\n",
       "      <td>0.035392</td>\n",
       "      <td>0.019906</td>\n",
       "      <td>0.31952</td>\n",
       "    </tr>\n",
       "    <tr>\n",
       "      <th>2</th>\n",
       "      <td>1</td>\n",
       "      <td>0.0</td>\n",
       "      <td>0.0</td>\n",
       "      <td>0.56758</td>\n",
       "      <td>0.0</td>\n",
       "      <td>0.0</td>\n",
       "      <td>0.0</td>\n",
       "      <td>0.0</td>\n",
       "      <td>0.82585</td>\n",
       "      <td>0.83788</td>\n",
       "      <td>...</td>\n",
       "      <td>-0.40122</td>\n",
       "      <td>0.13790</td>\n",
       "      <td>0.138350</td>\n",
       "      <td>0.15746</td>\n",
       "      <td>0.51216</td>\n",
       "      <td>-0.330690</td>\n",
       "      <td>0.070346</td>\n",
       "      <td>0.179250</td>\n",
       "      <td>-0.188740</td>\n",
       "      <td>0.16386</td>\n",
       "    </tr>\n",
       "    <tr>\n",
       "      <th>3</th>\n",
       "      <td>1</td>\n",
       "      <td>0.0</td>\n",
       "      <td>0.0</td>\n",
       "      <td>0.56758</td>\n",
       "      <td>0.0</td>\n",
       "      <td>0.0</td>\n",
       "      <td>0.0</td>\n",
       "      <td>0.0</td>\n",
       "      <td>0.82585</td>\n",
       "      <td>0.83788</td>\n",
       "      <td>...</td>\n",
       "      <td>-0.15587</td>\n",
       "      <td>-0.26686</td>\n",
       "      <td>0.158930</td>\n",
       "      <td>-0.13204</td>\n",
       "      <td>0.32221</td>\n",
       "      <td>-0.042086</td>\n",
       "      <td>0.588970</td>\n",
       "      <td>0.526990</td>\n",
       "      <td>-0.574320</td>\n",
       "      <td>0.20891</td>\n",
       "    </tr>\n",
       "    <tr>\n",
       "      <th>4</th>\n",
       "      <td>1</td>\n",
       "      <td>0.0</td>\n",
       "      <td>0.0</td>\n",
       "      <td>0.56758</td>\n",
       "      <td>0.0</td>\n",
       "      <td>0.0</td>\n",
       "      <td>0.0</td>\n",
       "      <td>0.0</td>\n",
       "      <td>0.82585</td>\n",
       "      <td>0.83788</td>\n",
       "      <td>...</td>\n",
       "      <td>0.24020</td>\n",
       "      <td>0.44605</td>\n",
       "      <td>-0.163560</td>\n",
       "      <td>0.45311</td>\n",
       "      <td>0.59073</td>\n",
       "      <td>0.356800</td>\n",
       "      <td>0.395780</td>\n",
       "      <td>0.035871</td>\n",
       "      <td>-0.293430</td>\n",
       "      <td>0.38124</td>\n",
       "    </tr>\n",
       "  </tbody>\n",
       "</table>\n",
       "<p>5 rows × 4297 columns</p>\n",
       "</div>"
      ],
      "text/plain": [
       "   class   V1   V2       V3   V4   V5   V6   V7       V8       V9  ...  \\\n",
       "0      1  0.0  0.0  0.56758  0.0  0.0  0.0  0.0  0.82585  0.83788  ...   \n",
       "1      1  0.0  0.0  0.56758  0.0  0.0  0.0  0.0  0.82585  0.83788  ...   \n",
       "2      1  0.0  0.0  0.56758  0.0  0.0  0.0  0.0  0.82585  0.83788  ...   \n",
       "3      1  0.0  0.0  0.56758  0.0  0.0  0.0  0.0  0.82585  0.83788  ...   \n",
       "4      1  0.0  0.0  0.56758  0.0  0.0  0.0  0.0  0.82585  0.83788  ...   \n",
       "\n",
       "     V4287    V4288     V4289    V4290    V4291     V4292     V4293     V4294  \\\n",
       "0 -0.25777  0.12220  0.348620  0.12957  0.43846 -0.108020  0.128330  0.318820   \n",
       "1 -0.15316  0.14062 -0.030201  0.10134 -0.14546 -0.166650  0.401300  0.035392   \n",
       "2 -0.40122  0.13790  0.138350  0.15746  0.51216 -0.330690  0.070346  0.179250   \n",
       "3 -0.15587 -0.26686  0.158930 -0.13204  0.32221 -0.042086  0.588970  0.526990   \n",
       "4  0.24020  0.44605 -0.163560  0.45311  0.59073  0.356800  0.395780  0.035871   \n",
       "\n",
       "      V4295    V4296  \n",
       "0 -0.041559  0.22589  \n",
       "1  0.019906  0.31952  \n",
       "2 -0.188740  0.16386  \n",
       "3 -0.574320  0.20891  \n",
       "4 -0.293430  0.38124  \n",
       "\n",
       "[5 rows x 4297 columns]"
      ]
     },
     "execution_count": 17,
     "metadata": {},
     "output_type": "execute_result"
    }
   ],
   "source": [
    "anonymous.head()"
   ]
  },
  {
   "cell_type": "code",
   "execution_count": 19,
   "metadata": {},
   "outputs": [
    {
     "name": "stdout",
     "output_type": "stream",
     "text": [
      "<class 'pandas.core.frame.DataFrame'>\n",
      "RangeIndex: 20000 entries, 0 to 19999\n",
      "Columns: 4297 entries, class to V4296\n",
      "dtypes: float64(4283), int64(14)\n",
      "memory usage: 655.7 MB\n"
     ]
    }
   ],
   "source": [
    "anonymous.info()"
   ]
  },
  {
   "cell_type": "code",
   "execution_count": 20,
   "metadata": {
    "colab": {
     "base_uri": "https://localhost:8080/"
    },
    "executionInfo": {
     "elapsed": 11,
     "status": "ok",
     "timestamp": 1654996602341,
     "user": {
      "displayName": "Sihyun Kwon",
      "userId": "08571189456742629112"
     },
     "user_tz": 240
    },
    "id": "s0lHrmzoPajZ",
    "outputId": "e58bce2b-87e3-409a-e861-5707b8ee648d"
   },
   "outputs": [
    {
     "data": {
      "text/plain": [
       "0.25"
      ]
     },
     "execution_count": 20,
     "metadata": {},
     "output_type": "execute_result"
    }
   ],
   "source": [
    "anonymous['class'].mean()  # 종속 변수의 평균 확인"
   ]
  },
  {
   "cell_type": "code",
   "execution_count": 21,
   "metadata": {},
   "outputs": [
    {
     "data": {
      "text/html": [
       "<div>\n",
       "<style scoped>\n",
       "    .dataframe tbody tr th:only-of-type {\n",
       "        vertical-align: middle;\n",
       "    }\n",
       "\n",
       "    .dataframe tbody tr th {\n",
       "        vertical-align: top;\n",
       "    }\n",
       "\n",
       "    .dataframe thead th {\n",
       "        text-align: right;\n",
       "    }\n",
       "</style>\n",
       "<table border=\"1\" class=\"dataframe\">\n",
       "  <thead>\n",
       "    <tr style=\"text-align: right;\">\n",
       "      <th></th>\n",
       "      <th>class</th>\n",
       "      <th>V1</th>\n",
       "      <th>V2</th>\n",
       "      <th>V3</th>\n",
       "      <th>V4</th>\n",
       "      <th>V5</th>\n",
       "      <th>V6</th>\n",
       "      <th>V7</th>\n",
       "      <th>V8</th>\n",
       "      <th>V9</th>\n",
       "      <th>...</th>\n",
       "      <th>V4287</th>\n",
       "      <th>V4288</th>\n",
       "      <th>V4289</th>\n",
       "      <th>V4290</th>\n",
       "      <th>V4291</th>\n",
       "      <th>V4292</th>\n",
       "      <th>V4293</th>\n",
       "      <th>V4294</th>\n",
       "      <th>V4295</th>\n",
       "      <th>V4296</th>\n",
       "    </tr>\n",
       "  </thead>\n",
       "  <tbody>\n",
       "    <tr>\n",
       "      <th>count</th>\n",
       "      <td>20000.000000</td>\n",
       "      <td>20000.000000</td>\n",
       "      <td>20000.000000</td>\n",
       "      <td>20000.000000</td>\n",
       "      <td>20000.000000</td>\n",
       "      <td>20000.000000</td>\n",
       "      <td>20000.000000</td>\n",
       "      <td>20000.000000</td>\n",
       "      <td>20000.000000</td>\n",
       "      <td>20000.000000</td>\n",
       "      <td>...</td>\n",
       "      <td>20000.000000</td>\n",
       "      <td>20000.000000</td>\n",
       "      <td>20000.000000</td>\n",
       "      <td>20000.000000</td>\n",
       "      <td>20000.000000</td>\n",
       "      <td>20000.000000</td>\n",
       "      <td>20000.000000</td>\n",
       "      <td>20000.000000</td>\n",
       "      <td>20000.000000</td>\n",
       "      <td>20000.000000</td>\n",
       "    </tr>\n",
       "    <tr>\n",
       "      <th>mean</th>\n",
       "      <td>0.250000</td>\n",
       "      <td>0.674924</td>\n",
       "      <td>0.720561</td>\n",
       "      <td>0.669373</td>\n",
       "      <td>0.303875</td>\n",
       "      <td>0.612777</td>\n",
       "      <td>0.334556</td>\n",
       "      <td>0.333765</td>\n",
       "      <td>0.874266</td>\n",
       "      <td>0.469891</td>\n",
       "      <td>...</td>\n",
       "      <td>-0.288951</td>\n",
       "      <td>0.058898</td>\n",
       "      <td>0.117076</td>\n",
       "      <td>0.044042</td>\n",
       "      <td>0.246932</td>\n",
       "      <td>0.073302</td>\n",
       "      <td>0.054302</td>\n",
       "      <td>0.149988</td>\n",
       "      <td>-0.173015</td>\n",
       "      <td>0.210310</td>\n",
       "    </tr>\n",
       "    <tr>\n",
       "      <th>std</th>\n",
       "      <td>0.433024</td>\n",
       "      <td>1.117919</td>\n",
       "      <td>1.178219</td>\n",
       "      <td>1.124840</td>\n",
       "      <td>0.765717</td>\n",
       "      <td>1.030554</td>\n",
       "      <td>0.773825</td>\n",
       "      <td>0.949990</td>\n",
       "      <td>1.478582</td>\n",
       "      <td>0.925563</td>\n",
       "      <td>...</td>\n",
       "      <td>0.181349</td>\n",
       "      <td>0.190577</td>\n",
       "      <td>0.179440</td>\n",
       "      <td>0.171249</td>\n",
       "      <td>0.163783</td>\n",
       "      <td>0.185802</td>\n",
       "      <td>0.178476</td>\n",
       "      <td>0.187927</td>\n",
       "      <td>0.176562</td>\n",
       "      <td>0.183857</td>\n",
       "    </tr>\n",
       "    <tr>\n",
       "      <th>min</th>\n",
       "      <td>0.000000</td>\n",
       "      <td>0.000000</td>\n",
       "      <td>0.000000</td>\n",
       "      <td>0.000000</td>\n",
       "      <td>0.000000</td>\n",
       "      <td>0.000000</td>\n",
       "      <td>0.000000</td>\n",
       "      <td>0.000000</td>\n",
       "      <td>0.000000</td>\n",
       "      <td>0.000000</td>\n",
       "      <td>...</td>\n",
       "      <td>-1.435600</td>\n",
       "      <td>-0.822340</td>\n",
       "      <td>-0.778060</td>\n",
       "      <td>-0.957960</td>\n",
       "      <td>-0.550920</td>\n",
       "      <td>-0.857070</td>\n",
       "      <td>-1.077000</td>\n",
       "      <td>-0.789600</td>\n",
       "      <td>-1.187500</td>\n",
       "      <td>-0.700430</td>\n",
       "    </tr>\n",
       "    <tr>\n",
       "      <th>25%</th>\n",
       "      <td>0.000000</td>\n",
       "      <td>0.000000</td>\n",
       "      <td>0.000000</td>\n",
       "      <td>0.000000</td>\n",
       "      <td>0.000000</td>\n",
       "      <td>0.000000</td>\n",
       "      <td>0.000000</td>\n",
       "      <td>0.000000</td>\n",
       "      <td>0.000000</td>\n",
       "      <td>0.000000</td>\n",
       "      <td>...</td>\n",
       "      <td>-0.395480</td>\n",
       "      <td>-0.051386</td>\n",
       "      <td>0.016232</td>\n",
       "      <td>-0.053562</td>\n",
       "      <td>0.158015</td>\n",
       "      <td>-0.032410</td>\n",
       "      <td>-0.044482</td>\n",
       "      <td>0.039489</td>\n",
       "      <td>-0.268522</td>\n",
       "      <td>0.106115</td>\n",
       "    </tr>\n",
       "    <tr>\n",
       "      <th>50%</th>\n",
       "      <td>0.000000</td>\n",
       "      <td>0.126090</td>\n",
       "      <td>0.094021</td>\n",
       "      <td>0.123305</td>\n",
       "      <td>0.000000</td>\n",
       "      <td>0.083467</td>\n",
       "      <td>0.000000</td>\n",
       "      <td>0.000000</td>\n",
       "      <td>0.093329</td>\n",
       "      <td>0.000000</td>\n",
       "      <td>...</td>\n",
       "      <td>-0.297245</td>\n",
       "      <td>0.060800</td>\n",
       "      <td>0.118220</td>\n",
       "      <td>0.041399</td>\n",
       "      <td>0.252245</td>\n",
       "      <td>0.069176</td>\n",
       "      <td>0.056154</td>\n",
       "      <td>0.150865</td>\n",
       "      <td>-0.172890</td>\n",
       "      <td>0.210635</td>\n",
       "    </tr>\n",
       "    <tr>\n",
       "      <th>75%</th>\n",
       "      <td>0.250000</td>\n",
       "      <td>0.911805</td>\n",
       "      <td>1.004400</td>\n",
       "      <td>0.891402</td>\n",
       "      <td>0.188147</td>\n",
       "      <td>0.802820</td>\n",
       "      <td>0.254635</td>\n",
       "      <td>0.195410</td>\n",
       "      <td>1.182275</td>\n",
       "      <td>0.489085</td>\n",
       "      <td>...</td>\n",
       "      <td>-0.192120</td>\n",
       "      <td>0.168832</td>\n",
       "      <td>0.216995</td>\n",
       "      <td>0.140045</td>\n",
       "      <td>0.339230</td>\n",
       "      <td>0.177310</td>\n",
       "      <td>0.155970</td>\n",
       "      <td>0.260915</td>\n",
       "      <td>-0.080513</td>\n",
       "      <td>0.311323</td>\n",
       "    </tr>\n",
       "    <tr>\n",
       "      <th>max</th>\n",
       "      <td>1.000000</td>\n",
       "      <td>10.756000</td>\n",
       "      <td>9.271100</td>\n",
       "      <td>11.365000</td>\n",
       "      <td>9.588700</td>\n",
       "      <td>12.120000</td>\n",
       "      <td>10.277000</td>\n",
       "      <td>13.510000</td>\n",
       "      <td>13.372000</td>\n",
       "      <td>9.979300</td>\n",
       "      <td>...</td>\n",
       "      <td>0.676560</td>\n",
       "      <td>0.969380</td>\n",
       "      <td>1.012800</td>\n",
       "      <td>1.087600</td>\n",
       "      <td>1.518400</td>\n",
       "      <td>1.292900</td>\n",
       "      <td>0.961910</td>\n",
       "      <td>1.073300</td>\n",
       "      <td>0.880940</td>\n",
       "      <td>1.064600</td>\n",
       "    </tr>\n",
       "  </tbody>\n",
       "</table>\n",
       "<p>8 rows × 4297 columns</p>\n",
       "</div>"
      ],
      "text/plain": [
       "              class            V1            V2            V3            V4  \\\n",
       "count  20000.000000  20000.000000  20000.000000  20000.000000  20000.000000   \n",
       "mean       0.250000      0.674924      0.720561      0.669373      0.303875   \n",
       "std        0.433024      1.117919      1.178219      1.124840      0.765717   \n",
       "min        0.000000      0.000000      0.000000      0.000000      0.000000   \n",
       "25%        0.000000      0.000000      0.000000      0.000000      0.000000   \n",
       "50%        0.000000      0.126090      0.094021      0.123305      0.000000   \n",
       "75%        0.250000      0.911805      1.004400      0.891402      0.188147   \n",
       "max        1.000000     10.756000      9.271100     11.365000      9.588700   \n",
       "\n",
       "                 V5            V6            V7            V8            V9  \\\n",
       "count  20000.000000  20000.000000  20000.000000  20000.000000  20000.000000   \n",
       "mean       0.612777      0.334556      0.333765      0.874266      0.469891   \n",
       "std        1.030554      0.773825      0.949990      1.478582      0.925563   \n",
       "min        0.000000      0.000000      0.000000      0.000000      0.000000   \n",
       "25%        0.000000      0.000000      0.000000      0.000000      0.000000   \n",
       "50%        0.083467      0.000000      0.000000      0.093329      0.000000   \n",
       "75%        0.802820      0.254635      0.195410      1.182275      0.489085   \n",
       "max       12.120000     10.277000     13.510000     13.372000      9.979300   \n",
       "\n",
       "       ...         V4287         V4288         V4289         V4290  \\\n",
       "count  ...  20000.000000  20000.000000  20000.000000  20000.000000   \n",
       "mean   ...     -0.288951      0.058898      0.117076      0.044042   \n",
       "std    ...      0.181349      0.190577      0.179440      0.171249   \n",
       "min    ...     -1.435600     -0.822340     -0.778060     -0.957960   \n",
       "25%    ...     -0.395480     -0.051386      0.016232     -0.053562   \n",
       "50%    ...     -0.297245      0.060800      0.118220      0.041399   \n",
       "75%    ...     -0.192120      0.168832      0.216995      0.140045   \n",
       "max    ...      0.676560      0.969380      1.012800      1.087600   \n",
       "\n",
       "              V4291         V4292         V4293         V4294         V4295  \\\n",
       "count  20000.000000  20000.000000  20000.000000  20000.000000  20000.000000   \n",
       "mean       0.246932      0.073302      0.054302      0.149988     -0.173015   \n",
       "std        0.163783      0.185802      0.178476      0.187927      0.176562   \n",
       "min       -0.550920     -0.857070     -1.077000     -0.789600     -1.187500   \n",
       "25%        0.158015     -0.032410     -0.044482      0.039489     -0.268522   \n",
       "50%        0.252245      0.069176      0.056154      0.150865     -0.172890   \n",
       "75%        0.339230      0.177310      0.155970      0.260915     -0.080513   \n",
       "max        1.518400      1.292900      0.961910      1.073300      0.880940   \n",
       "\n",
       "              V4296  \n",
       "count  20000.000000  \n",
       "mean       0.210310  \n",
       "std        0.183857  \n",
       "min       -0.700430  \n",
       "25%        0.106115  \n",
       "50%        0.210635  \n",
       "75%        0.311323  \n",
       "max        1.064600  \n",
       "\n",
       "[8 rows x 4297 columns]"
      ]
     },
     "execution_count": 21,
     "metadata": {},
     "output_type": "execute_result"
    }
   ],
   "source": [
    "anonymous.describe()"
   ]
  },
  {
   "cell_type": "code",
   "execution_count": 22,
   "metadata": {},
   "outputs": [
    {
     "data": {
      "text/html": [
       "<div>\n",
       "<style scoped>\n",
       "    .dataframe tbody tr th:only-of-type {\n",
       "        vertical-align: middle;\n",
       "    }\n",
       "\n",
       "    .dataframe tbody tr th {\n",
       "        vertical-align: top;\n",
       "    }\n",
       "\n",
       "    .dataframe thead th {\n",
       "        text-align: right;\n",
       "    }\n",
       "</style>\n",
       "<table border=\"1\" class=\"dataframe\">\n",
       "  <thead>\n",
       "    <tr style=\"text-align: right;\">\n",
       "      <th></th>\n",
       "      <th>class</th>\n",
       "      <th>V1</th>\n",
       "      <th>V2</th>\n",
       "      <th>V3</th>\n",
       "      <th>V4</th>\n",
       "      <th>V5</th>\n",
       "      <th>V6</th>\n",
       "      <th>V7</th>\n",
       "      <th>V8</th>\n",
       "      <th>V9</th>\n",
       "      <th>...</th>\n",
       "      <th>V4287</th>\n",
       "      <th>V4288</th>\n",
       "      <th>V4289</th>\n",
       "      <th>V4290</th>\n",
       "      <th>V4291</th>\n",
       "      <th>V4292</th>\n",
       "      <th>V4293</th>\n",
       "      <th>V4294</th>\n",
       "      <th>V4295</th>\n",
       "      <th>V4296</th>\n",
       "    </tr>\n",
       "  </thead>\n",
       "  <tbody>\n",
       "    <tr>\n",
       "      <th>0</th>\n",
       "      <td>False</td>\n",
       "      <td>False</td>\n",
       "      <td>False</td>\n",
       "      <td>False</td>\n",
       "      <td>False</td>\n",
       "      <td>False</td>\n",
       "      <td>False</td>\n",
       "      <td>False</td>\n",
       "      <td>False</td>\n",
       "      <td>False</td>\n",
       "      <td>...</td>\n",
       "      <td>False</td>\n",
       "      <td>False</td>\n",
       "      <td>False</td>\n",
       "      <td>False</td>\n",
       "      <td>False</td>\n",
       "      <td>False</td>\n",
       "      <td>False</td>\n",
       "      <td>False</td>\n",
       "      <td>False</td>\n",
       "      <td>False</td>\n",
       "    </tr>\n",
       "    <tr>\n",
       "      <th>1</th>\n",
       "      <td>False</td>\n",
       "      <td>False</td>\n",
       "      <td>False</td>\n",
       "      <td>False</td>\n",
       "      <td>False</td>\n",
       "      <td>False</td>\n",
       "      <td>False</td>\n",
       "      <td>False</td>\n",
       "      <td>False</td>\n",
       "      <td>False</td>\n",
       "      <td>...</td>\n",
       "      <td>False</td>\n",
       "      <td>False</td>\n",
       "      <td>False</td>\n",
       "      <td>False</td>\n",
       "      <td>False</td>\n",
       "      <td>False</td>\n",
       "      <td>False</td>\n",
       "      <td>False</td>\n",
       "      <td>False</td>\n",
       "      <td>False</td>\n",
       "    </tr>\n",
       "    <tr>\n",
       "      <th>2</th>\n",
       "      <td>False</td>\n",
       "      <td>False</td>\n",
       "      <td>False</td>\n",
       "      <td>False</td>\n",
       "      <td>False</td>\n",
       "      <td>False</td>\n",
       "      <td>False</td>\n",
       "      <td>False</td>\n",
       "      <td>False</td>\n",
       "      <td>False</td>\n",
       "      <td>...</td>\n",
       "      <td>False</td>\n",
       "      <td>False</td>\n",
       "      <td>False</td>\n",
       "      <td>False</td>\n",
       "      <td>False</td>\n",
       "      <td>False</td>\n",
       "      <td>False</td>\n",
       "      <td>False</td>\n",
       "      <td>False</td>\n",
       "      <td>False</td>\n",
       "    </tr>\n",
       "    <tr>\n",
       "      <th>3</th>\n",
       "      <td>False</td>\n",
       "      <td>False</td>\n",
       "      <td>False</td>\n",
       "      <td>False</td>\n",
       "      <td>False</td>\n",
       "      <td>False</td>\n",
       "      <td>False</td>\n",
       "      <td>False</td>\n",
       "      <td>False</td>\n",
       "      <td>False</td>\n",
       "      <td>...</td>\n",
       "      <td>False</td>\n",
       "      <td>False</td>\n",
       "      <td>False</td>\n",
       "      <td>False</td>\n",
       "      <td>False</td>\n",
       "      <td>False</td>\n",
       "      <td>False</td>\n",
       "      <td>False</td>\n",
       "      <td>False</td>\n",
       "      <td>False</td>\n",
       "    </tr>\n",
       "    <tr>\n",
       "      <th>4</th>\n",
       "      <td>False</td>\n",
       "      <td>False</td>\n",
       "      <td>False</td>\n",
       "      <td>False</td>\n",
       "      <td>False</td>\n",
       "      <td>False</td>\n",
       "      <td>False</td>\n",
       "      <td>False</td>\n",
       "      <td>False</td>\n",
       "      <td>False</td>\n",
       "      <td>...</td>\n",
       "      <td>False</td>\n",
       "      <td>False</td>\n",
       "      <td>False</td>\n",
       "      <td>False</td>\n",
       "      <td>False</td>\n",
       "      <td>False</td>\n",
       "      <td>False</td>\n",
       "      <td>False</td>\n",
       "      <td>False</td>\n",
       "      <td>False</td>\n",
       "    </tr>\n",
       "    <tr>\n",
       "      <th>...</th>\n",
       "      <td>...</td>\n",
       "      <td>...</td>\n",
       "      <td>...</td>\n",
       "      <td>...</td>\n",
       "      <td>...</td>\n",
       "      <td>...</td>\n",
       "      <td>...</td>\n",
       "      <td>...</td>\n",
       "      <td>...</td>\n",
       "      <td>...</td>\n",
       "      <td>...</td>\n",
       "      <td>...</td>\n",
       "      <td>...</td>\n",
       "      <td>...</td>\n",
       "      <td>...</td>\n",
       "      <td>...</td>\n",
       "      <td>...</td>\n",
       "      <td>...</td>\n",
       "      <td>...</td>\n",
       "      <td>...</td>\n",
       "      <td>...</td>\n",
       "    </tr>\n",
       "    <tr>\n",
       "      <th>19995</th>\n",
       "      <td>False</td>\n",
       "      <td>False</td>\n",
       "      <td>False</td>\n",
       "      <td>False</td>\n",
       "      <td>False</td>\n",
       "      <td>False</td>\n",
       "      <td>False</td>\n",
       "      <td>False</td>\n",
       "      <td>False</td>\n",
       "      <td>False</td>\n",
       "      <td>...</td>\n",
       "      <td>False</td>\n",
       "      <td>False</td>\n",
       "      <td>False</td>\n",
       "      <td>False</td>\n",
       "      <td>False</td>\n",
       "      <td>False</td>\n",
       "      <td>False</td>\n",
       "      <td>False</td>\n",
       "      <td>False</td>\n",
       "      <td>False</td>\n",
       "    </tr>\n",
       "    <tr>\n",
       "      <th>19996</th>\n",
       "      <td>False</td>\n",
       "      <td>False</td>\n",
       "      <td>False</td>\n",
       "      <td>False</td>\n",
       "      <td>False</td>\n",
       "      <td>False</td>\n",
       "      <td>False</td>\n",
       "      <td>False</td>\n",
       "      <td>False</td>\n",
       "      <td>False</td>\n",
       "      <td>...</td>\n",
       "      <td>False</td>\n",
       "      <td>False</td>\n",
       "      <td>False</td>\n",
       "      <td>False</td>\n",
       "      <td>False</td>\n",
       "      <td>False</td>\n",
       "      <td>False</td>\n",
       "      <td>False</td>\n",
       "      <td>False</td>\n",
       "      <td>False</td>\n",
       "    </tr>\n",
       "    <tr>\n",
       "      <th>19997</th>\n",
       "      <td>False</td>\n",
       "      <td>False</td>\n",
       "      <td>False</td>\n",
       "      <td>False</td>\n",
       "      <td>False</td>\n",
       "      <td>False</td>\n",
       "      <td>False</td>\n",
       "      <td>False</td>\n",
       "      <td>False</td>\n",
       "      <td>False</td>\n",
       "      <td>...</td>\n",
       "      <td>False</td>\n",
       "      <td>False</td>\n",
       "      <td>False</td>\n",
       "      <td>False</td>\n",
       "      <td>False</td>\n",
       "      <td>False</td>\n",
       "      <td>False</td>\n",
       "      <td>False</td>\n",
       "      <td>False</td>\n",
       "      <td>False</td>\n",
       "    </tr>\n",
       "    <tr>\n",
       "      <th>19998</th>\n",
       "      <td>False</td>\n",
       "      <td>False</td>\n",
       "      <td>False</td>\n",
       "      <td>False</td>\n",
       "      <td>False</td>\n",
       "      <td>False</td>\n",
       "      <td>False</td>\n",
       "      <td>False</td>\n",
       "      <td>False</td>\n",
       "      <td>False</td>\n",
       "      <td>...</td>\n",
       "      <td>False</td>\n",
       "      <td>False</td>\n",
       "      <td>False</td>\n",
       "      <td>False</td>\n",
       "      <td>False</td>\n",
       "      <td>False</td>\n",
       "      <td>False</td>\n",
       "      <td>False</td>\n",
       "      <td>False</td>\n",
       "      <td>False</td>\n",
       "    </tr>\n",
       "    <tr>\n",
       "      <th>19999</th>\n",
       "      <td>False</td>\n",
       "      <td>False</td>\n",
       "      <td>False</td>\n",
       "      <td>False</td>\n",
       "      <td>False</td>\n",
       "      <td>False</td>\n",
       "      <td>False</td>\n",
       "      <td>False</td>\n",
       "      <td>False</td>\n",
       "      <td>False</td>\n",
       "      <td>...</td>\n",
       "      <td>False</td>\n",
       "      <td>False</td>\n",
       "      <td>False</td>\n",
       "      <td>False</td>\n",
       "      <td>False</td>\n",
       "      <td>False</td>\n",
       "      <td>False</td>\n",
       "      <td>False</td>\n",
       "      <td>False</td>\n",
       "      <td>False</td>\n",
       "    </tr>\n",
       "  </tbody>\n",
       "</table>\n",
       "<p>20000 rows × 4297 columns</p>\n",
       "</div>"
      ],
      "text/plain": [
       "       class     V1     V2     V3     V4     V5     V6     V7     V8     V9  \\\n",
       "0      False  False  False  False  False  False  False  False  False  False   \n",
       "1      False  False  False  False  False  False  False  False  False  False   \n",
       "2      False  False  False  False  False  False  False  False  False  False   \n",
       "3      False  False  False  False  False  False  False  False  False  False   \n",
       "4      False  False  False  False  False  False  False  False  False  False   \n",
       "...      ...    ...    ...    ...    ...    ...    ...    ...    ...    ...   \n",
       "19995  False  False  False  False  False  False  False  False  False  False   \n",
       "19996  False  False  False  False  False  False  False  False  False  False   \n",
       "19997  False  False  False  False  False  False  False  False  False  False   \n",
       "19998  False  False  False  False  False  False  False  False  False  False   \n",
       "19999  False  False  False  False  False  False  False  False  False  False   \n",
       "\n",
       "       ...  V4287  V4288  V4289  V4290  V4291  V4292  V4293  V4294  V4295  \\\n",
       "0      ...  False  False  False  False  False  False  False  False  False   \n",
       "1      ...  False  False  False  False  False  False  False  False  False   \n",
       "2      ...  False  False  False  False  False  False  False  False  False   \n",
       "3      ...  False  False  False  False  False  False  False  False  False   \n",
       "4      ...  False  False  False  False  False  False  False  False  False   \n",
       "...    ...    ...    ...    ...    ...    ...    ...    ...    ...    ...   \n",
       "19995  ...  False  False  False  False  False  False  False  False  False   \n",
       "19996  ...  False  False  False  False  False  False  False  False  False   \n",
       "19997  ...  False  False  False  False  False  False  False  False  False   \n",
       "19998  ...  False  False  False  False  False  False  False  False  False   \n",
       "19999  ...  False  False  False  False  False  False  False  False  False   \n",
       "\n",
       "       V4296  \n",
       "0      False  \n",
       "1      False  \n",
       "2      False  \n",
       "3      False  \n",
       "4      False  \n",
       "...      ...  \n",
       "19995  False  \n",
       "19996  False  \n",
       "19997  False  \n",
       "19998  False  \n",
       "19999  False  \n",
       "\n",
       "[20000 rows x 4297 columns]"
      ]
     },
     "execution_count": 22,
     "metadata": {},
     "output_type": "execute_result"
    }
   ],
   "source": [
    "anonymous.isna()"
   ]
  },
  {
   "cell_type": "code",
   "execution_count": 23,
   "metadata": {},
   "outputs": [
    {
     "data": {
      "text/plain": [
       "class    0\n",
       "V1       0\n",
       "V2       0\n",
       "V3       0\n",
       "V4       0\n",
       "        ..\n",
       "V4292    0\n",
       "V4293    0\n",
       "V4294    0\n",
       "V4295    0\n",
       "V4296    0\n",
       "Length: 4297, dtype: int64"
      ]
     },
     "execution_count": 23,
     "metadata": {},
     "output_type": "execute_result"
    }
   ],
   "source": [
    "anonymous.isna().sum()"
   ]
  },
  {
   "cell_type": "code",
   "execution_count": 24,
   "metadata": {
    "colab": {
     "base_uri": "https://localhost:8080/"
    },
    "executionInfo": {
     "elapsed": 252,
     "status": "ok",
     "timestamp": 1654996602584,
     "user": {
      "displayName": "Sihyun Kwon",
      "userId": "08571189456742629112"
     },
     "user_tz": 240
    },
    "id": "CIkZ2thKPd_7",
    "outputId": "6917e858-9c9f-41c9-db24-f459528217ab"
   },
   "outputs": [
    {
     "data": {
      "text/plain": [
       "0"
      ]
     },
     "execution_count": 24,
     "metadata": {},
     "output_type": "execute_result"
    }
   ],
   "source": [
    "anonymous.isna().sum().sum()  # 결측치 확인"
   ]
  },
  {
   "cell_type": "markdown",
   "metadata": {
    "id": "K910QgKFPniV"
   },
   "source": [
    "## 13.2.3 PCA에 따른 모델링 성능/결과 비교하기\n"
   ]
  },
  {
   "cell_type": "code",
   "execution_count": 25,
   "metadata": {
    "executionInfo": {
     "elapsed": 235,
     "status": "ok",
     "timestamp": 1654996602817,
     "user": {
      "displayName": "Sihyun Kwon",
      "userId": "08571189456742629112"
     },
     "user_tz": 240
    },
    "id": "Af9goO-GPpv7"
   },
   "outputs": [],
   "source": [
    "from sklearn.model_selection import train_test_split\n",
    "X_train, X_test, y_train, y_test = train_test_split(anonymous.drop('class', axis=1), anonymous['class'], test_size=0.2, random_state=100)"
   ]
  },
  {
   "cell_type": "code",
   "execution_count": 26,
   "metadata": {
    "executionInfo": {
     "elapsed": 690,
     "status": "ok",
     "timestamp": 1654996603504,
     "user": {
      "displayName": "Sihyun Kwon",
      "userId": "08571189456742629112"
     },
     "user_tz": 240
    },
    "id": "ukcWA5EwPqy7"
   },
   "outputs": [],
   "source": [
    "from sklearn.preprocessing import StandardScaler\n",
    "\n",
    "scaler = StandardScaler()  # 스케일러 객체 생성\n",
    "scaler.fit(X_train)  # 학습\n",
    "\n",
    "X_train_scaled = scaler.transform(X_train)  # 학습셋 변환\n",
    "X_test_scaled = scaler.transform(X_test)  # 시험셋 변환"
   ]
  },
  {
   "cell_type": "code",
   "execution_count": 27,
   "metadata": {
    "executionInfo": {
     "elapsed": 454,
     "status": "ok",
     "timestamp": 1654996610873,
     "user": {
      "displayName": "Sihyun Kwon",
      "userId": "08571189456742629112"
     },
     "user_tz": 240
    },
    "id": "pIW0092rPsL8"
   },
   "outputs": [],
   "source": [
    "from sklearn.ensemble import RandomForestClassifier\n",
    "model_1 = RandomForestClassifier(random_state=100)  # 모델 객체 생성"
   ]
  },
  {
   "cell_type": "code",
   "execution_count": 28,
   "metadata": {
    "colab": {
     "base_uri": "https://localhost:8080/"
    },
    "executionInfo": {
     "elapsed": 97950,
     "status": "ok",
     "timestamp": 1654996714430,
     "user": {
      "displayName": "Sihyun Kwon",
      "userId": "08571189456742629112"
     },
     "user_tz": 240
    },
    "id": "PsS0t7gnPtXz",
    "outputId": "8d3ae37e-0894-4c9c-b7dc-4731e88e5de9"
   },
   "outputs": [
    {
     "name": "stdout",
     "output_type": "stream",
     "text": [
      "98.37902235984802\n"
     ]
    }
   ],
   "source": [
    "import time\n",
    "start_time = time.time()\n",
    "model_1.fit(X_train_scaled, y_train)\n",
    "print(time.time() - start_time)  # 할습 소요시간 출력"
   ]
  },
  {
   "cell_type": "code",
   "execution_count": 29,
   "metadata": {
    "colab": {
     "base_uri": "https://localhost:8080/"
    },
    "executionInfo": {
     "elapsed": 8,
     "status": "ok",
     "timestamp": 1654996714430,
     "user": {
      "displayName": "Sihyun Kwon",
      "userId": "08571189456742629112"
     },
     "user_tz": 240
    },
    "id": "br8wmSKcPvQ8",
    "outputId": "3f344ab8-d2f3-46f9-9e51-48b034ff0f22"
   },
   "outputs": [
    {
     "data": {
      "text/plain": [
       "0.958"
      ]
     },
     "execution_count": 29,
     "metadata": {},
     "output_type": "execute_result"
    }
   ],
   "source": [
    "from sklearn.metrics import accuracy_score, roc_auc_score\n",
    "\n",
    "pred_1 = model_1.predict(X_test_scaled)  # 예측\n",
    "accuracy_score(y_test, pred_1)  # 정확도 확인"
   ]
  },
  {
   "cell_type": "code",
   "execution_count": 30,
   "metadata": {
    "colab": {
     "base_uri": "https://localhost:8080/"
    },
    "executionInfo": {
     "elapsed": 2,
     "status": "ok",
     "timestamp": 1654996714675,
     "user": {
      "displayName": "Sihyun Kwon",
      "userId": "08571189456742629112"
     },
     "user_tz": 240
    },
    "id": "H2cxDrvEPw7U",
    "outputId": "3020ade7-df72-405a-8c89-3bf4e29b23bc"
   },
   "outputs": [
    {
     "data": {
      "text/plain": [
       "0.9982541957107813"
      ]
     },
     "execution_count": 30,
     "metadata": {},
     "output_type": "execute_result"
    }
   ],
   "source": [
    "proba_1 = model_1.predict_proba(X_test_scaled)  # 예측(0~1)\n",
    "roc_auc_score(y_test, proba_1[:,1])  # AUC 확인"
   ]
  },
  {
   "cell_type": "code",
   "execution_count": 31,
   "metadata": {
    "colab": {
     "base_uri": "https://localhost:8080/"
    },
    "executionInfo": {
     "elapsed": 3932,
     "status": "ok",
     "timestamp": 1654996733917,
     "user": {
      "displayName": "Sihyun Kwon",
      "userId": "08571189456742629112"
     },
     "user_tz": 240
    },
    "id": "NLA0qRjaPyRw",
    "outputId": "7ef90808-2b11-46f7-8bd0-124e2b0b7c5d"
   },
   "outputs": [
    {
     "data": {
      "text/html": [
       "<style>#sk-container-id-1 {\n",
       "  /* Definition of color scheme common for light and dark mode */\n",
       "  --sklearn-color-text: black;\n",
       "  --sklearn-color-line: gray;\n",
       "  /* Definition of color scheme for unfitted estimators */\n",
       "  --sklearn-color-unfitted-level-0: #fff5e6;\n",
       "  --sklearn-color-unfitted-level-1: #f6e4d2;\n",
       "  --sklearn-color-unfitted-level-2: #ffe0b3;\n",
       "  --sklearn-color-unfitted-level-3: chocolate;\n",
       "  /* Definition of color scheme for fitted estimators */\n",
       "  --sklearn-color-fitted-level-0: #f0f8ff;\n",
       "  --sklearn-color-fitted-level-1: #d4ebff;\n",
       "  --sklearn-color-fitted-level-2: #b3dbfd;\n",
       "  --sklearn-color-fitted-level-3: cornflowerblue;\n",
       "\n",
       "  /* Specific color for light theme */\n",
       "  --sklearn-color-text-on-default-background: var(--sg-text-color, var(--theme-code-foreground, var(--jp-content-font-color1, black)));\n",
       "  --sklearn-color-background: var(--sg-background-color, var(--theme-background, var(--jp-layout-color0, white)));\n",
       "  --sklearn-color-border-box: var(--sg-text-color, var(--theme-code-foreground, var(--jp-content-font-color1, black)));\n",
       "  --sklearn-color-icon: #696969;\n",
       "\n",
       "  @media (prefers-color-scheme: dark) {\n",
       "    /* Redefinition of color scheme for dark theme */\n",
       "    --sklearn-color-text-on-default-background: var(--sg-text-color, var(--theme-code-foreground, var(--jp-content-font-color1, white)));\n",
       "    --sklearn-color-background: var(--sg-background-color, var(--theme-background, var(--jp-layout-color0, #111)));\n",
       "    --sklearn-color-border-box: var(--sg-text-color, var(--theme-code-foreground, var(--jp-content-font-color1, white)));\n",
       "    --sklearn-color-icon: #878787;\n",
       "  }\n",
       "}\n",
       "\n",
       "#sk-container-id-1 {\n",
       "  color: var(--sklearn-color-text);\n",
       "}\n",
       "\n",
       "#sk-container-id-1 pre {\n",
       "  padding: 0;\n",
       "}\n",
       "\n",
       "#sk-container-id-1 input.sk-hidden--visually {\n",
       "  border: 0;\n",
       "  clip: rect(1px 1px 1px 1px);\n",
       "  clip: rect(1px, 1px, 1px, 1px);\n",
       "  height: 1px;\n",
       "  margin: -1px;\n",
       "  overflow: hidden;\n",
       "  padding: 0;\n",
       "  position: absolute;\n",
       "  width: 1px;\n",
       "}\n",
       "\n",
       "#sk-container-id-1 div.sk-dashed-wrapped {\n",
       "  border: 1px dashed var(--sklearn-color-line);\n",
       "  margin: 0 0.4em 0.5em 0.4em;\n",
       "  box-sizing: border-box;\n",
       "  padding-bottom: 0.4em;\n",
       "  background-color: var(--sklearn-color-background);\n",
       "}\n",
       "\n",
       "#sk-container-id-1 div.sk-container {\n",
       "  /* jupyter's `normalize.less` sets `[hidden] { display: none; }`\n",
       "     but bootstrap.min.css set `[hidden] { display: none !important; }`\n",
       "     so we also need the `!important` here to be able to override the\n",
       "     default hidden behavior on the sphinx rendered scikit-learn.org.\n",
       "     See: https://github.com/scikit-learn/scikit-learn/issues/21755 */\n",
       "  display: inline-block !important;\n",
       "  position: relative;\n",
       "}\n",
       "\n",
       "#sk-container-id-1 div.sk-text-repr-fallback {\n",
       "  display: none;\n",
       "}\n",
       "\n",
       "div.sk-parallel-item,\n",
       "div.sk-serial,\n",
       "div.sk-item {\n",
       "  /* draw centered vertical line to link estimators */\n",
       "  background-image: linear-gradient(var(--sklearn-color-text-on-default-background), var(--sklearn-color-text-on-default-background));\n",
       "  background-size: 2px 100%;\n",
       "  background-repeat: no-repeat;\n",
       "  background-position: center center;\n",
       "}\n",
       "\n",
       "/* Parallel-specific style estimator block */\n",
       "\n",
       "#sk-container-id-1 div.sk-parallel-item::after {\n",
       "  content: \"\";\n",
       "  width: 100%;\n",
       "  border-bottom: 2px solid var(--sklearn-color-text-on-default-background);\n",
       "  flex-grow: 1;\n",
       "}\n",
       "\n",
       "#sk-container-id-1 div.sk-parallel {\n",
       "  display: flex;\n",
       "  align-items: stretch;\n",
       "  justify-content: center;\n",
       "  background-color: var(--sklearn-color-background);\n",
       "  position: relative;\n",
       "}\n",
       "\n",
       "#sk-container-id-1 div.sk-parallel-item {\n",
       "  display: flex;\n",
       "  flex-direction: column;\n",
       "}\n",
       "\n",
       "#sk-container-id-1 div.sk-parallel-item:first-child::after {\n",
       "  align-self: flex-end;\n",
       "  width: 50%;\n",
       "}\n",
       "\n",
       "#sk-container-id-1 div.sk-parallel-item:last-child::after {\n",
       "  align-self: flex-start;\n",
       "  width: 50%;\n",
       "}\n",
       "\n",
       "#sk-container-id-1 div.sk-parallel-item:only-child::after {\n",
       "  width: 0;\n",
       "}\n",
       "\n",
       "/* Serial-specific style estimator block */\n",
       "\n",
       "#sk-container-id-1 div.sk-serial {\n",
       "  display: flex;\n",
       "  flex-direction: column;\n",
       "  align-items: center;\n",
       "  background-color: var(--sklearn-color-background);\n",
       "  padding-right: 1em;\n",
       "  padding-left: 1em;\n",
       "}\n",
       "\n",
       "\n",
       "/* Toggleable style: style used for estimator/Pipeline/ColumnTransformer box that is\n",
       "clickable and can be expanded/collapsed.\n",
       "- Pipeline and ColumnTransformer use this feature and define the default style\n",
       "- Estimators will overwrite some part of the style using the `sk-estimator` class\n",
       "*/\n",
       "\n",
       "/* Pipeline and ColumnTransformer style (default) */\n",
       "\n",
       "#sk-container-id-1 div.sk-toggleable {\n",
       "  /* Default theme specific background. It is overwritten whether we have a\n",
       "  specific estimator or a Pipeline/ColumnTransformer */\n",
       "  background-color: var(--sklearn-color-background);\n",
       "}\n",
       "\n",
       "/* Toggleable label */\n",
       "#sk-container-id-1 label.sk-toggleable__label {\n",
       "  cursor: pointer;\n",
       "  display: block;\n",
       "  width: 100%;\n",
       "  margin-bottom: 0;\n",
       "  padding: 0.5em;\n",
       "  box-sizing: border-box;\n",
       "  text-align: center;\n",
       "}\n",
       "\n",
       "#sk-container-id-1 label.sk-toggleable__label-arrow:before {\n",
       "  /* Arrow on the left of the label */\n",
       "  content: \"▸\";\n",
       "  float: left;\n",
       "  margin-right: 0.25em;\n",
       "  color: var(--sklearn-color-icon);\n",
       "}\n",
       "\n",
       "#sk-container-id-1 label.sk-toggleable__label-arrow:hover:before {\n",
       "  color: var(--sklearn-color-text);\n",
       "}\n",
       "\n",
       "/* Toggleable content - dropdown */\n",
       "\n",
       "#sk-container-id-1 div.sk-toggleable__content {\n",
       "  max-height: 0;\n",
       "  max-width: 0;\n",
       "  overflow: hidden;\n",
       "  text-align: left;\n",
       "  /* unfitted */\n",
       "  background-color: var(--sklearn-color-unfitted-level-0);\n",
       "}\n",
       "\n",
       "#sk-container-id-1 div.sk-toggleable__content.fitted {\n",
       "  /* fitted */\n",
       "  background-color: var(--sklearn-color-fitted-level-0);\n",
       "}\n",
       "\n",
       "#sk-container-id-1 div.sk-toggleable__content pre {\n",
       "  margin: 0.2em;\n",
       "  border-radius: 0.25em;\n",
       "  color: var(--sklearn-color-text);\n",
       "  /* unfitted */\n",
       "  background-color: var(--sklearn-color-unfitted-level-0);\n",
       "}\n",
       "\n",
       "#sk-container-id-1 div.sk-toggleable__content.fitted pre {\n",
       "  /* unfitted */\n",
       "  background-color: var(--sklearn-color-fitted-level-0);\n",
       "}\n",
       "\n",
       "#sk-container-id-1 input.sk-toggleable__control:checked~div.sk-toggleable__content {\n",
       "  /* Expand drop-down */\n",
       "  max-height: 200px;\n",
       "  max-width: 100%;\n",
       "  overflow: auto;\n",
       "}\n",
       "\n",
       "#sk-container-id-1 input.sk-toggleable__control:checked~label.sk-toggleable__label-arrow:before {\n",
       "  content: \"▾\";\n",
       "}\n",
       "\n",
       "/* Pipeline/ColumnTransformer-specific style */\n",
       "\n",
       "#sk-container-id-1 div.sk-label input.sk-toggleable__control:checked~label.sk-toggleable__label {\n",
       "  color: var(--sklearn-color-text);\n",
       "  background-color: var(--sklearn-color-unfitted-level-2);\n",
       "}\n",
       "\n",
       "#sk-container-id-1 div.sk-label.fitted input.sk-toggleable__control:checked~label.sk-toggleable__label {\n",
       "  background-color: var(--sklearn-color-fitted-level-2);\n",
       "}\n",
       "\n",
       "/* Estimator-specific style */\n",
       "\n",
       "/* Colorize estimator box */\n",
       "#sk-container-id-1 div.sk-estimator input.sk-toggleable__control:checked~label.sk-toggleable__label {\n",
       "  /* unfitted */\n",
       "  background-color: var(--sklearn-color-unfitted-level-2);\n",
       "}\n",
       "\n",
       "#sk-container-id-1 div.sk-estimator.fitted input.sk-toggleable__control:checked~label.sk-toggleable__label {\n",
       "  /* fitted */\n",
       "  background-color: var(--sklearn-color-fitted-level-2);\n",
       "}\n",
       "\n",
       "#sk-container-id-1 div.sk-label label.sk-toggleable__label,\n",
       "#sk-container-id-1 div.sk-label label {\n",
       "  /* The background is the default theme color */\n",
       "  color: var(--sklearn-color-text-on-default-background);\n",
       "}\n",
       "\n",
       "/* On hover, darken the color of the background */\n",
       "#sk-container-id-1 div.sk-label:hover label.sk-toggleable__label {\n",
       "  color: var(--sklearn-color-text);\n",
       "  background-color: var(--sklearn-color-unfitted-level-2);\n",
       "}\n",
       "\n",
       "/* Label box, darken color on hover, fitted */\n",
       "#sk-container-id-1 div.sk-label.fitted:hover label.sk-toggleable__label.fitted {\n",
       "  color: var(--sklearn-color-text);\n",
       "  background-color: var(--sklearn-color-fitted-level-2);\n",
       "}\n",
       "\n",
       "/* Estimator label */\n",
       "\n",
       "#sk-container-id-1 div.sk-label label {\n",
       "  font-family: monospace;\n",
       "  font-weight: bold;\n",
       "  display: inline-block;\n",
       "  line-height: 1.2em;\n",
       "}\n",
       "\n",
       "#sk-container-id-1 div.sk-label-container {\n",
       "  text-align: center;\n",
       "}\n",
       "\n",
       "/* Estimator-specific */\n",
       "#sk-container-id-1 div.sk-estimator {\n",
       "  font-family: monospace;\n",
       "  border: 1px dotted var(--sklearn-color-border-box);\n",
       "  border-radius: 0.25em;\n",
       "  box-sizing: border-box;\n",
       "  margin-bottom: 0.5em;\n",
       "  /* unfitted */\n",
       "  background-color: var(--sklearn-color-unfitted-level-0);\n",
       "}\n",
       "\n",
       "#sk-container-id-1 div.sk-estimator.fitted {\n",
       "  /* fitted */\n",
       "  background-color: var(--sklearn-color-fitted-level-0);\n",
       "}\n",
       "\n",
       "/* on hover */\n",
       "#sk-container-id-1 div.sk-estimator:hover {\n",
       "  /* unfitted */\n",
       "  background-color: var(--sklearn-color-unfitted-level-2);\n",
       "}\n",
       "\n",
       "#sk-container-id-1 div.sk-estimator.fitted:hover {\n",
       "  /* fitted */\n",
       "  background-color: var(--sklearn-color-fitted-level-2);\n",
       "}\n",
       "\n",
       "/* Specification for estimator info (e.g. \"i\" and \"?\") */\n",
       "\n",
       "/* Common style for \"i\" and \"?\" */\n",
       "\n",
       ".sk-estimator-doc-link,\n",
       "a:link.sk-estimator-doc-link,\n",
       "a:visited.sk-estimator-doc-link {\n",
       "  float: right;\n",
       "  font-size: smaller;\n",
       "  line-height: 1em;\n",
       "  font-family: monospace;\n",
       "  background-color: var(--sklearn-color-background);\n",
       "  border-radius: 1em;\n",
       "  height: 1em;\n",
       "  width: 1em;\n",
       "  text-decoration: none !important;\n",
       "  margin-left: 1ex;\n",
       "  /* unfitted */\n",
       "  border: var(--sklearn-color-unfitted-level-1) 1pt solid;\n",
       "  color: var(--sklearn-color-unfitted-level-1);\n",
       "}\n",
       "\n",
       ".sk-estimator-doc-link.fitted,\n",
       "a:link.sk-estimator-doc-link.fitted,\n",
       "a:visited.sk-estimator-doc-link.fitted {\n",
       "  /* fitted */\n",
       "  border: var(--sklearn-color-fitted-level-1) 1pt solid;\n",
       "  color: var(--sklearn-color-fitted-level-1);\n",
       "}\n",
       "\n",
       "/* On hover */\n",
       "div.sk-estimator:hover .sk-estimator-doc-link:hover,\n",
       ".sk-estimator-doc-link:hover,\n",
       "div.sk-label-container:hover .sk-estimator-doc-link:hover,\n",
       ".sk-estimator-doc-link:hover {\n",
       "  /* unfitted */\n",
       "  background-color: var(--sklearn-color-unfitted-level-3);\n",
       "  color: var(--sklearn-color-background);\n",
       "  text-decoration: none;\n",
       "}\n",
       "\n",
       "div.sk-estimator.fitted:hover .sk-estimator-doc-link.fitted:hover,\n",
       ".sk-estimator-doc-link.fitted:hover,\n",
       "div.sk-label-container:hover .sk-estimator-doc-link.fitted:hover,\n",
       ".sk-estimator-doc-link.fitted:hover {\n",
       "  /* fitted */\n",
       "  background-color: var(--sklearn-color-fitted-level-3);\n",
       "  color: var(--sklearn-color-background);\n",
       "  text-decoration: none;\n",
       "}\n",
       "\n",
       "/* Span, style for the box shown on hovering the info icon */\n",
       ".sk-estimator-doc-link span {\n",
       "  display: none;\n",
       "  z-index: 9999;\n",
       "  position: relative;\n",
       "  font-weight: normal;\n",
       "  right: .2ex;\n",
       "  padding: .5ex;\n",
       "  margin: .5ex;\n",
       "  width: min-content;\n",
       "  min-width: 20ex;\n",
       "  max-width: 50ex;\n",
       "  color: var(--sklearn-color-text);\n",
       "  box-shadow: 2pt 2pt 4pt #999;\n",
       "  /* unfitted */\n",
       "  background: var(--sklearn-color-unfitted-level-0);\n",
       "  border: .5pt solid var(--sklearn-color-unfitted-level-3);\n",
       "}\n",
       "\n",
       ".sk-estimator-doc-link.fitted span {\n",
       "  /* fitted */\n",
       "  background: var(--sklearn-color-fitted-level-0);\n",
       "  border: var(--sklearn-color-fitted-level-3);\n",
       "}\n",
       "\n",
       ".sk-estimator-doc-link:hover span {\n",
       "  display: block;\n",
       "}\n",
       "\n",
       "/* \"?\"-specific style due to the `<a>` HTML tag */\n",
       "\n",
       "#sk-container-id-1 a.estimator_doc_link {\n",
       "  float: right;\n",
       "  font-size: 1rem;\n",
       "  line-height: 1em;\n",
       "  font-family: monospace;\n",
       "  background-color: var(--sklearn-color-background);\n",
       "  border-radius: 1rem;\n",
       "  height: 1rem;\n",
       "  width: 1rem;\n",
       "  text-decoration: none;\n",
       "  /* unfitted */\n",
       "  color: var(--sklearn-color-unfitted-level-1);\n",
       "  border: var(--sklearn-color-unfitted-level-1) 1pt solid;\n",
       "}\n",
       "\n",
       "#sk-container-id-1 a.estimator_doc_link.fitted {\n",
       "  /* fitted */\n",
       "  border: var(--sklearn-color-fitted-level-1) 1pt solid;\n",
       "  color: var(--sklearn-color-fitted-level-1);\n",
       "}\n",
       "\n",
       "/* On hover */\n",
       "#sk-container-id-1 a.estimator_doc_link:hover {\n",
       "  /* unfitted */\n",
       "  background-color: var(--sklearn-color-unfitted-level-3);\n",
       "  color: var(--sklearn-color-background);\n",
       "  text-decoration: none;\n",
       "}\n",
       "\n",
       "#sk-container-id-1 a.estimator_doc_link.fitted:hover {\n",
       "  /* fitted */\n",
       "  background-color: var(--sklearn-color-fitted-level-3);\n",
       "}\n",
       "</style><div id=\"sk-container-id-1\" class=\"sk-top-container\"><div class=\"sk-text-repr-fallback\"><pre>PCA(n_components=2)</pre><b>In a Jupyter environment, please rerun this cell to show the HTML representation or trust the notebook. <br />On GitHub, the HTML representation is unable to render, please try loading this page with nbviewer.org.</b></div><div class=\"sk-container\" hidden><div class=\"sk-item\"><div class=\"sk-estimator fitted sk-toggleable\"><input class=\"sk-toggleable__control sk-hidden--visually\" id=\"sk-estimator-id-1\" type=\"checkbox\" checked><label for=\"sk-estimator-id-1\" class=\"sk-toggleable__label fitted sk-toggleable__label-arrow fitted\">&nbsp;&nbsp;PCA<a class=\"sk-estimator-doc-link fitted\" rel=\"noreferrer\" target=\"_blank\" href=\"https://scikit-learn.org/1.5/modules/generated/sklearn.decomposition.PCA.html\">?<span>Documentation for PCA</span></a><span class=\"sk-estimator-doc-link fitted\">i<span>Fitted</span></span></label><div class=\"sk-toggleable__content fitted\"><pre>PCA(n_components=2)</pre></div> </div></div></div></div>"
      ],
      "text/plain": [
       "PCA(n_components=2)"
      ]
     },
     "execution_count": 31,
     "metadata": {},
     "output_type": "execute_result"
    }
   ],
   "source": [
    "pca = PCA(n_components=2)  # 주성분 개수 지정\n",
    "pca.fit(X_train_scaled)  # 학습"
   ]
  },
  {
   "cell_type": "markdown",
   "metadata": {},
   "source": [
    "- explained_variance_ratio_  \n",
    "기존 변수들의 분산을 주성분의 어느 비율로 설명하는지 보여주는 지표.\n",
    "1은 기존 변수들의 분산을 100% 대변한다는 의미입니다. 여기에서 '변수들의 분산'은 각 변수들이 가지는 데이터 분포입니다. 쉽게 말하면 기존 변수들의 특성을 얼마만큼 내포하고 있는가를 보여줍니다."
   ]
  },
  {
   "cell_type": "code",
   "execution_count": 32,
   "metadata": {
    "colab": {
     "base_uri": "https://localhost:8080/"
    },
    "executionInfo": {
     "elapsed": 12,
     "status": "ok",
     "timestamp": 1654996733918,
     "user": {
      "displayName": "Sihyun Kwon",
      "userId": "08571189456742629112"
     },
     "user_tz": 240
    },
    "id": "0q8NLGQyPzW0",
    "outputId": "8070c952-d07c-4d95-c6fa-4e4411126341"
   },
   "outputs": [
    {
     "data": {
      "text/plain": [
       "array([0.04992445, 0.03331409])"
      ]
     },
     "execution_count": 32,
     "metadata": {},
     "output_type": "execute_result"
    }
   ],
   "source": [
    "pca.explained_variance_ratio_  # 데이터 반영 비율 확인"
   ]
  },
  {
   "cell_type": "markdown",
   "metadata": {},
   "source": [
    "둘을 합쳐봐야 기존데이터의 0.08정도의 정보만 반영한다는 의미\n",
    "\n",
    "=> 엘보우 기법에서처럼 다양한 숫자의 주성분을 만들어보고, 반복문에서 explained_variance_ratio_의 결과를 리스트에 넣어 확인"
   ]
  },
  {
   "cell_type": "code",
   "execution_count": 33,
   "metadata": {
    "executionInfo": {
     "elapsed": 219,
     "status": "ok",
     "timestamp": 1654996738363,
     "user": {
      "displayName": "Sihyun Kwon",
      "userId": "08571189456742629112"
     },
     "user_tz": 240
    },
    "id": "Bf62f2ANP0Fk"
   },
   "outputs": [],
   "source": [
    "var_ratio = []  # 빈 리스트 생성"
   ]
  },
  {
   "cell_type": "code",
   "execution_count": 34,
   "metadata": {
    "executionInfo": {
     "elapsed": 157457,
     "status": "ok",
     "timestamp": 1654996896049,
     "user": {
      "displayName": "Sihyun Kwon",
      "userId": "08571189456742629112"
     },
     "user_tz": 240
    },
    "id": "SReGBQ6WP1EU"
   },
   "outputs": [],
   "source": [
    "for i in range(100,550, 50):\n",
    "    pca = PCA(n_components=i)  # 주성분의 개수 지정\n",
    "    pca.fit_transform(X_train_scaled)  # 학습 및 변환\n",
    "    ratio = pca.explained_variance_ratio_.sum() # ❶ 데이터 반영 비율 합\n",
    "    var_ratio.append(ratio)  # 반영 비율 합을 리스트에 추가"
   ]
  },
  {
   "cell_type": "code",
   "execution_count": 35,
   "metadata": {
    "colab": {
     "base_uri": "https://localhost:8080/",
     "height": 287
    },
    "executionInfo": {
     "elapsed": 10,
     "status": "ok",
     "timestamp": 1654996896050,
     "user": {
      "displayName": "Sihyun Kwon",
      "userId": "08571189456742629112"
     },
     "user_tz": 240
    },
    "id": "fx2m5WvgP1vl",
    "outputId": "7c0c1f24-d20c-41a4-9d80-caa0e95bd33d"
   },
   "outputs": [
    {
     "data": {
      "text/plain": [
       "<Axes: >"
      ]
     },
     "execution_count": 35,
     "metadata": {},
     "output_type": "execute_result"
    },
    {
     "data": {
      "image/png": "[encoded data removed]",
      "text/plain": [
       "<Figure size 640x480 with 1 Axes>"
      ]
     },
     "metadata": {},
     "output_type": "display_data"
    }
   ],
   "source": [
    "sns.lineplot(x=range(100,550,50), y=var_ratio)  # 선형 그래프 그리기"
   ]
  },
  {
   "cell_type": "markdown",
   "metadata": {},
   "source": [
    "약 80%를 기준으로 잡고, 이에 가장 근사치인 400을 채택하여, 주성분이 400개인 데이터를 생성"
   ]
  },
  {
   "cell_type": "code",
   "execution_count": 36,
   "metadata": {
    "executionInfo": {
     "elapsed": 30287,
     "status": "ok",
     "timestamp": 1654997196155,
     "user": {
      "displayName": "Sihyun Kwon",
      "userId": "08571189456742629112"
     },
     "user_tz": 240
    },
    "id": "l1iMYx_PP2_9"
   },
   "outputs": [],
   "source": [
    "pca = PCA(n_components=400, random_state = 100)  # 주성분 개수 지정\n",
    "pca.fit(X_train_scaled) # ❶ 학습\n",
    "X_train_scaled_pca = pca.transform(X_train_scaled) # ❷ 변환\n",
    "X_test_scaled_pca = pca.transform(X_test_scaled)   # ❸ 변환"
   ]
  },
  {
   "cell_type": "code",
   "execution_count": 37,
   "metadata": {
    "colab": {
     "base_uri": "https://localhost:8080/"
    },
    "executionInfo": {
     "elapsed": 62374,
     "status": "ok",
     "timestamp": 1654997258526,
     "user": {
      "displayName": "Sihyun Kwon",
      "userId": "08571189456742629112"
     },
     "user_tz": 240
    },
    "id": "6Td6UsJaP4hg",
    "outputId": "eda65a44-0627-4f0b-dc8d-4a732523f72a"
   },
   "outputs": [
    {
     "name": "stdout",
     "output_type": "stream",
     "text": [
      "63.562527656555176\n"
     ]
    }
   ],
   "source": [
    "model_2 = RandomForestClassifier(random_state=100)  # 모델 객체 생성\n",
    "start_time = time.time()\n",
    "model_2.fit(X_train_scaled_pca, y_train)  # 학습\n",
    "print(time.time() - start_time)  # 학습 소요시간 출력"
   ]
  },
  {
   "cell_type": "code",
   "execution_count": 38,
   "metadata": {
    "colab": {
     "base_uri": "https://localhost:8080/"
    },
    "executionInfo": {
     "elapsed": 7,
     "status": "ok",
     "timestamp": 1654997258526,
     "user": {
      "displayName": "Sihyun Kwon",
      "userId": "08571189456742629112"
     },
     "user_tz": 240
    },
    "id": "tD_hVvjMP5aF",
    "outputId": "c21121ec-d8d8-4084-d1cb-25684f171fe9"
   },
   "outputs": [
    {
     "data": {
      "text/plain": [
       "0.988"
      ]
     },
     "execution_count": 38,
     "metadata": {},
     "output_type": "execute_result"
    }
   ],
   "source": [
    "pred_2 = model_2.predict(X_test_scaled_pca)  # 예측\n",
    "accuracy_score(y_test, pred_2)  # 정확도 확인"
   ]
  },
  {
   "cell_type": "code",
   "execution_count": 39,
   "metadata": {
    "colab": {
     "base_uri": "https://localhost:8080/"
    },
    "executionInfo": {
     "elapsed": 236,
     "status": "ok",
     "timestamp": 1654997258758,
     "user": {
      "displayName": "Sihyun Kwon",
      "userId": "08571189456742629112"
     },
     "user_tz": 240
    },
    "id": "RsGKd8ewP6X2",
    "outputId": "c0621dfd-ffd9-4cd1-80c4-4402ad1e3156"
   },
   "outputs": [
    {
     "data": {
      "text/plain": [
       "0.9981921809600143"
      ]
     },
     "execution_count": 39,
     "metadata": {},
     "output_type": "execute_result"
    }
   ],
   "source": [
    "proba_2 = model_2.predict_proba(X_test_scaled_pca)  # 예측\n",
    "roc_auc_score(y_test, proba_2[:,1])  # AUC 확인"
   ]
  },
  {
   "cell_type": "code",
   "execution_count": null,
   "metadata": {},
   "outputs": [],
   "source": []
  }
 ],
 "metadata": {
  "colab": {
   "authorship_tag": "ABX9TyO013VSWiqSZsdOrPreavv1",
   "collapsed_sections": [],
   "name": "13_PCA.ipynb",
   "provenance": []
  },
  "kernelspec": {
   "display_name": "Python 3 (ipykernel)",
   "language": "python",
   "name": "python3"
  },
  "language_info": {
   "codemirror_mode": {
    "name": "ipython",
    "version": 3
   },
   "file_extension": ".py",
   "mimetype": "text/x-python",
   "name": "python",
   "nbconvert_exporter": "python",
   "pygments_lexer": "ipython3",
   "version": "3.12.7"
  }
 },
 "nbformat": 4,
 "nbformat_minor": 4
}
